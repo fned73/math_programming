{
 "cells": [
  {
   "cell_type": "markdown",
   "id": "ffb0c5e1",
   "metadata": {},
   "source": [
    "# 함수"
   ]
  },
  {
   "attachments": {},
   "cell_type": "markdown",
   "id": "70bae980",
   "metadata": {},
   "source": [
    "- 함수(function)\n",
    "  - 특정 작업을 수행하는 코드 묶음\n",
    "  - 반복적으로 동일한 작업을 수행하기 위해 미리 작성해 둔 코드 블록\n",
    "  - 입력(parameter, argument)을 받아 출력(return value)을 내보내는 역할(입력 또는 출력이 없을 수도 있음)\n",
    "  - 함수의 다른 이름: subroutine / procedure / method\n",
    "<br>\n",
    "<br>\n",
    "<br>\n",
    "\n",
    "- 함수의 사용 목적\n",
    "  - 효율적인 프로그래밍: 반복되는 코드의 재사용, 설계의 효율성\n",
    "  - 구조적인 프로그래밍 설계: 문제를 부분적으로 나누어 생각할 수 있다.\n",
    "<br>\n",
    "<br>\n",
    "<br>\n",
    "\n",
    "- 종류\n",
    "  - 표준함수: print(), sqrt(), pow(), ...\n",
    "  - 사용자 정의 함수\n",
    "<br>\n",
    "<br>\n",
    "<br>\n",
    "\n",
    "- 함수 정의의 기본 형태\n",
    "```\n",
    "def  함수명(입력인수):  # 입력값이 없으면 함수명()\n",
    "    명령1\n",
    "    명령2\n",
    "    ...\n",
    "    return 결괏값       # return 값이 없으면 생략 가능\n",
    "```\n",
    "<br>\n",
    "\n",
    "- return 위치에 주의: return이 나오면 그 즉시 함수가 종료되고 결괏값을 반환"
   ]
  },
  {
   "cell_type": "code",
   "execution_count": 1,
   "id": "d53930aa",
   "metadata": {},
   "outputs": [],
   "source": [
    "# 두 수의 합\n",
    "def sum_xy(x,y):\n",
    "    return x + y"
   ]
  },
  {
   "cell_type": "code",
   "execution_count": 2,
   "id": "3e7a0497",
   "metadata": {},
   "outputs": [
    {
     "data": {
      "text/plain": [
       "4"
      ]
     },
     "execution_count": 2,
     "metadata": {},
     "output_type": "execute_result"
    }
   ],
   "source": [
    "sum_xy(1,3)"
   ]
  },
  {
   "cell_type": "code",
   "execution_count": 3,
   "id": "9bce1093",
   "metadata": {},
   "outputs": [],
   "source": [
    "a = sum_xy(2,3)"
   ]
  },
  {
   "cell_type": "code",
   "execution_count": 4,
   "id": "60009156",
   "metadata": {},
   "outputs": [
    {
     "data": {
      "text/plain": [
       "5"
      ]
     },
     "execution_count": 4,
     "metadata": {},
     "output_type": "execute_result"
    }
   ],
   "source": [
    "a"
   ]
  },
  {
   "cell_type": "code",
   "execution_count": 5,
   "id": "eed21f19",
   "metadata": {},
   "outputs": [
    {
     "data": {
      "text/plain": [
       "16"
      ]
     },
     "execution_count": 5,
     "metadata": {},
     "output_type": "execute_result"
    }
   ],
   "source": [
    "sum_xy(4,5) + 7"
   ]
  },
  {
   "cell_type": "code",
   "execution_count": 6,
   "id": "036d01fc",
   "metadata": {},
   "outputs": [
    {
     "data": {
      "text/plain": [
       "'수학프로그래밍'"
      ]
     },
     "execution_count": 6,
     "metadata": {},
     "output_type": "execute_result"
    }
   ],
   "source": [
    "sum_xy(\"수학\",\"프로그래밍\")"
   ]
  },
  {
   "cell_type": "code",
   "execution_count": 7,
   "id": "035e5c20",
   "metadata": {},
   "outputs": [],
   "source": [
    "# 사각형 넓이\n",
    "def squareArea(x,y):\n",
    "    m = x * y\n",
    "    return m"
   ]
  },
  {
   "cell_type": "code",
   "execution_count": 8,
   "id": "d037ddc9",
   "metadata": {},
   "outputs": [
    {
     "data": {
      "text/plain": [
       "50"
      ]
     },
     "execution_count": 8,
     "metadata": {},
     "output_type": "execute_result"
    }
   ],
   "source": [
    "squareArea(5,10)"
   ]
  },
  {
   "cell_type": "code",
   "execution_count": 9,
   "id": "03d91e4a",
   "metadata": {},
   "outputs": [
    {
     "data": {
      "text/plain": [
       "'-.--.--.--.--.--.--.--.--.--.-'"
      ]
     },
     "execution_count": 9,
     "metadata": {},
     "output_type": "execute_result"
    }
   ],
   "source": [
    "squareArea(\"-.-\",10)"
   ]
  },
  {
   "cell_type": "code",
   "execution_count": 10,
   "id": "1eeb3210",
   "metadata": {},
   "outputs": [],
   "source": [
    "# 사각형 넓이\n",
    "def squareArea(x,y):\n",
    "    if (type(x)==int or type(x)==float) and (type(y)==int or type(y)==float):\n",
    "        if x > 0 and y > 0:\n",
    "            m = x * y\n",
    "            return m\n",
    "        else:\n",
    "            print(\"입력값은 양수로 입력하세요.\")\n",
    "    else:\n",
    "        print(\"입력값은 양수로 입력하세요.\")"
   ]
  },
  {
   "cell_type": "code",
   "execution_count": 11,
   "id": "07b99b8d",
   "metadata": {},
   "outputs": [
    {
     "data": {
      "text/plain": [
       "50"
      ]
     },
     "execution_count": 11,
     "metadata": {},
     "output_type": "execute_result"
    }
   ],
   "source": [
    "squareArea(5,10)"
   ]
  },
  {
   "cell_type": "code",
   "execution_count": 12,
   "id": "a20afd5a",
   "metadata": {},
   "outputs": [
    {
     "name": "stdout",
     "output_type": "stream",
     "text": [
      "입력값은 양수로 입력하세요.\n"
     ]
    }
   ],
   "source": [
    "squareArea(-5,10)"
   ]
  },
  {
   "cell_type": "code",
   "execution_count": 13,
   "id": "867e54df",
   "metadata": {},
   "outputs": [
    {
     "name": "stdout",
     "output_type": "stream",
     "text": [
      "입력값은 양수로 입력하세요.\n"
     ]
    }
   ],
   "source": [
    "squareArea(\"-.-\",10)"
   ]
  },
  {
   "cell_type": "code",
   "execution_count": 14,
   "id": "4d36e99e",
   "metadata": {},
   "outputs": [],
   "source": [
    "# 구구단\n",
    "def mult(n):\n",
    "    for i in range(1,10):\n",
    "        print(n*i, end = \" \")\n",
    "    print(\" \")"
   ]
  },
  {
   "cell_type": "code",
   "execution_count": 15,
   "id": "4326cc14",
   "metadata": {},
   "outputs": [
    {
     "name": "stdout",
     "output_type": "stream",
     "text": [
      "9 18 27 36 45 54 63 72 81  \n"
     ]
    }
   ],
   "source": [
    "mult(9)"
   ]
  },
  {
   "cell_type": "code",
   "execution_count": 16,
   "id": "7e510906",
   "metadata": {},
   "outputs": [
    {
     "name": "stdout",
     "output_type": "stream",
     "text": [
      "7 14 21 28 35 42 49 56 63  \n"
     ]
    }
   ],
   "source": [
    "# 함수 내부의 변수는 외부에서 보이지 않음에 유의\n",
    "mult(7)"
   ]
  },
  {
   "cell_type": "code",
   "execution_count": 17,
   "id": "1df61dc0",
   "metadata": {},
   "outputs": [
    {
     "name": "stdout",
     "output_type": "stream",
     "text": [
      "7 14 21 28 35 42 49 56 63  \n"
     ]
    },
    {
     "data": {
      "text/plain": [
       "NoneType"
      ]
     },
     "execution_count": 17,
     "metadata": {},
     "output_type": "execute_result"
    }
   ],
   "source": [
    "type(mult(7))"
   ]
  },
  {
   "cell_type": "code",
   "execution_count": 18,
   "id": "ae9bfd53",
   "metadata": {},
   "outputs": [],
   "source": [
    "# 구구단\n",
    "def mult2(n):\n",
    "    a = \"\"\n",
    "    for i in range(1,10):\n",
    "        a = a + str(n*i) + \" \"\n",
    "    return a"
   ]
  },
  {
   "cell_type": "code",
   "execution_count": 19,
   "id": "674e0256",
   "metadata": {},
   "outputs": [
    {
     "data": {
      "text/plain": [
       "'6 12 18 24 30 36 42 48 54 '"
      ]
     },
     "execution_count": 19,
     "metadata": {},
     "output_type": "execute_result"
    }
   ],
   "source": [
    "mult2(6) # mult2(n)의 a, i는 외부에서 변화가 보이지 않음"
   ]
  },
  {
   "cell_type": "code",
   "execution_count": 20,
   "id": "13a63f0f",
   "metadata": {},
   "outputs": [
    {
     "data": {
      "text/plain": [
       "str"
      ]
     },
     "execution_count": 20,
     "metadata": {},
     "output_type": "execute_result"
    }
   ],
   "source": [
    "type(mult2(6))"
   ]
  },
  {
   "cell_type": "markdown",
   "id": "0f7fc015",
   "metadata": {},
   "source": [
    "- `return`과 `print`는 전혀 관계가 없는 함수\n",
    "- `return`: 함숫값을 함수 외부로 반환하고 함수는 즉시 종료\n",
    "- `print`: (모니터에) 결과를 출력"
   ]
  },
  {
   "cell_type": "markdown",
   "id": "f50645ae",
   "metadata": {},
   "source": [
    "---\n",
    "**<span style=\"font-size: 20px; color: blue\">(Exercise 1)</span>** \n",
    "\n",
    "자연수 $m\\le i \\le n$에 대해 소수인 $i$를 출력하는 함수를 작성하시오.\n",
    "\n",
    "- 입력형식: 자연수 $m$과 $n$\n",
    "- 함수명: find_prime\n",
    "- 출력 형식: 각 줄에 $i$에 대한 소수 판정 결과를 출력\n",
    "- 입력값에 자연수 $m, n$이 입력되지 않았을 때 실행되지 않도록(오류 메세지 출력)\n",
    "- $m \\ge n$인 경우 실행되지 않도록(오류 메세지 출력)\n",
    "\n",
    "예) find_prime(100,105)\n",
    "<br>\n",
    "\n",
    "출력:\n",
    "<br>\n",
    "\n",
    "100 is not a prime<br>\n",
    "101 is a prime<br>\n",
    "102 is not a prime<br>\n",
    "103 is a prime<br>\n",
    "104 is not a prime<br>\n",
    "105 is not a prime\n",
    "\n",
    "---"
   ]
  },
  {
   "cell_type": "code",
   "execution_count": 21,
   "id": "a3691782",
   "metadata": {},
   "outputs": [],
   "source": [
    "def find_prime(m,n):\n",
    "    if not (isinstance(m,int) and isinstance(n,int)):\n",
    "        print(\"자연수 m, n을 입력하세요.\")\n",
    "        return\n",
    "    elif isinstance(m,int) and m <= 0:\n",
    "        print(\"자연수 m, n을 입력하세요.\")\n",
    "        return\n",
    "    elif isinstance(n,int) and n <= 0:\n",
    "        print(\"자연수 m, n을 입력하세요.\")\n",
    "        return\n",
    "    \n",
    "    if m >= n:\n",
    "        print(\"m은 n보다 작아야 합니다.\")\n",
    "        return\n",
    "    \n",
    "    for t in range(m,n+1):\n",
    "        for i in range(2,t):\n",
    "            if t % i == 0:\n",
    "                print(\"%d is not a prime\" % t)\n",
    "                break\n",
    "            if i > t/2:\n",
    "                print(\"%d is a prime\" % t)\n",
    "                break"
   ]
  },
  {
   "cell_type": "code",
   "execution_count": 22,
   "id": "7d3da042",
   "metadata": {},
   "outputs": [
    {
     "name": "stdout",
     "output_type": "stream",
     "text": [
      "100 is not a prime\n",
      "101 is a prime\n",
      "102 is not a prime\n",
      "103 is a prime\n",
      "104 is not a prime\n",
      "105 is not a prime\n"
     ]
    }
   ],
   "source": [
    "find_prime(100,105)"
   ]
  },
  {
   "cell_type": "code",
   "execution_count": 23,
   "id": "64526059",
   "metadata": {},
   "outputs": [
    {
     "name": "stdout",
     "output_type": "stream",
     "text": [
      "자연수 m, n을 입력하세요.\n"
     ]
    }
   ],
   "source": [
    "find_prime(100,105.)"
   ]
  },
  {
   "cell_type": "code",
   "execution_count": 24,
   "id": "68dc6d0a",
   "metadata": {},
   "outputs": [
    {
     "name": "stdout",
     "output_type": "stream",
     "text": [
      "자연수 m, n을 입력하세요.\n"
     ]
    }
   ],
   "source": [
    "find_prime(100.,105.)"
   ]
  },
  {
   "cell_type": "code",
   "execution_count": 25,
   "id": "b58431b3",
   "metadata": {},
   "outputs": [
    {
     "name": "stdout",
     "output_type": "stream",
     "text": [
      "자연수 m, n을 입력하세요.\n"
     ]
    }
   ],
   "source": [
    "find_prime(-100,105)"
   ]
  },
  {
   "cell_type": "code",
   "execution_count": 26,
   "id": "7f88385a",
   "metadata": {},
   "outputs": [
    {
     "name": "stdout",
     "output_type": "stream",
     "text": [
      "m은 n보다 작아야 합니다.\n"
     ]
    }
   ],
   "source": [
    "find_prime(105,100)"
   ]
  },
  {
   "cell_type": "code",
   "execution_count": 42,
   "id": "57d5e079",
   "metadata": {},
   "outputs": [],
   "source": [
    "# 값을 반환하도록\n",
    "def find_prime2(m,n):\n",
    "    if not (isinstance(m,int) and isinstance(n,int)):\n",
    "        print(\"자연수 m, n을 입력하세요.\")\n",
    "        return\n",
    "    elif isinstance(m,int) and m <= 0:\n",
    "        print(\"자연수 m, n을 입력하세요.\")\n",
    "        return\n",
    "    elif isinstance(n,int) and n <= 0:\n",
    "        print(\"자연수 m, n을 입력하세요.\")\n",
    "        return\n",
    "    \n",
    "    if m >= n:\n",
    "        print(\"m은 n보다 작아야 합니다.\")\n",
    "        return\n",
    "    \n",
    "    if m<=2:\n",
    "        prime_numbers = [2]\n",
    "    else:\n",
    "        prime_numbers = []\n",
    "    for t in range(m,n+1):\n",
    "        for i in range(2,t):\n",
    "            if t % i == 0:\n",
    "                break\n",
    "            if i > t/2:\n",
    "                prime_numbers.append(t)\n",
    "                break\n",
    "    return prime_numbers"
   ]
  },
  {
   "cell_type": "code",
   "execution_count": 28,
   "id": "5a4fd25c",
   "metadata": {},
   "outputs": [
    {
     "data": {
      "text/plain": [
       "[101, 103]"
      ]
     },
     "execution_count": 28,
     "metadata": {},
     "output_type": "execute_result"
    }
   ],
   "source": [
    "find_prime2(100,105)"
   ]
  },
  {
   "cell_type": "markdown",
   "id": "ce68a930",
   "metadata": {},
   "source": [
    "---\n",
    "**<span style=\"font-size: 20px; color: blue\">(Exercise 2)</span>** \n",
    "\n",
    "$3n+1$ 문제에 대한 함수를 작성하시오.\n",
    "\n",
    "- 입력 형식: 자연수 $n$\n",
    "- 함수명: threeone\n",
    "- 출력 형식: $a_1 = $ 본인 학번 mod 1000일 때, 각 줄에 $a_k$를 출력\n",
    "- 입력값에 자연수 $n$이 입력되지 않았을 때 실행되지 않도록(오류 메세지 출력)\n",
    "\n",
    "(예) 학번이 2022xx021일 때\n",
    "<br>\n",
    "<br>\n",
    "threeone(21)\n",
    "<br>\n",
    "\n",
    "출력:\n",
    "\n",
    "21 <br> 64 <br> 32 <br> 16 <br> 8 <br> 4 <br> 2 <br> 1\n",
    "\n",
    "---\n",
    "\n",
    "$3n+1$ 추측(Collatz Conjecture)\n",
    "\n",
    "임의의 자연수 $n$에 대해, 다음을 반복하자.\n",
    "- 1-1) $n$이 짝수이면, $n$을 2로 나눈다.\n",
    "- 1-2) $n$이 홀수이면, $n$에 3을 곱하고 1을 더한다.\n",
    "- 2) $n$이 1이면 종료한다.\n",
    "- 3) $n$이 1이 아니면, 1-1)부터 다시 시작한다.\n",
    "<br>\n",
    "<br>\n",
    "\n",
    "모든 $n$에 대해 이 작업이 1로 끝날까?\n",
    "\n",
    "---"
   ]
  },
  {
   "cell_type": "code",
   "execution_count": 29,
   "id": "8f0b494f",
   "metadata": {},
   "outputs": [],
   "source": [
    "def threeone(n):\n",
    "    if isinstance(n,int):\n",
    "        if n > 0:\n",
    "            print(n)\n",
    "    else:\n",
    "        print(\"자연수를 입력하세요.\")\n",
    "        return\n",
    "    while n > 1:\n",
    "        if n % 2 == 0:\n",
    "            n /= 2\n",
    "            print('%d' % n)\n",
    "        else:\n",
    "            n = 3 * n + 1\n",
    "            print('%d' % n)"
   ]
  },
  {
   "cell_type": "code",
   "execution_count": 30,
   "id": "36c12099",
   "metadata": {},
   "outputs": [
    {
     "name": "stdout",
     "output_type": "stream",
     "text": [
      "100\n",
      "50\n",
      "25\n",
      "76\n",
      "38\n",
      "19\n",
      "58\n",
      "29\n",
      "88\n",
      "44\n",
      "22\n",
      "11\n",
      "34\n",
      "17\n",
      "52\n",
      "26\n",
      "13\n",
      "40\n",
      "20\n",
      "10\n",
      "5\n",
      "16\n",
      "8\n",
      "4\n",
      "2\n",
      "1\n"
     ]
    }
   ],
   "source": [
    "threeone(100)"
   ]
  },
  {
   "cell_type": "code",
   "execution_count": 31,
   "id": "7876e55c",
   "metadata": {},
   "outputs": [
    {
     "name": "stdout",
     "output_type": "stream",
     "text": [
      "자연수를 입력하세요.\n"
     ]
    }
   ],
   "source": [
    "threeone(100.)"
   ]
  },
  {
   "cell_type": "code",
   "execution_count": 32,
   "id": "be22b4ba",
   "metadata": {},
   "outputs": [],
   "source": [
    "def threeone2(n):\n",
    "    val = [n]\n",
    "    if isinstance(n,int):\n",
    "        if n > 0:\n",
    "            print(n)\n",
    "    else:\n",
    "        print(\"자연수를 입력하세요.\")\n",
    "        return\n",
    "    while n > 1:\n",
    "        if n % 2 == 0:\n",
    "            n /= 2\n",
    "            print('%d' % n)\n",
    "            val.append(int(n))\n",
    "        else:\n",
    "            n = 3 * n + 1\n",
    "            print('%d' % n)\n",
    "            val.append(int(n))\n",
    "    return val"
   ]
  },
  {
   "cell_type": "code",
   "execution_count": 33,
   "id": "dc732351",
   "metadata": {},
   "outputs": [
    {
     "name": "stdout",
     "output_type": "stream",
     "text": [
      "100\n",
      "50\n",
      "25\n",
      "76\n",
      "38\n",
      "19\n",
      "58\n",
      "29\n",
      "88\n",
      "44\n",
      "22\n",
      "11\n",
      "34\n",
      "17\n",
      "52\n",
      "26\n",
      "13\n",
      "40\n",
      "20\n",
      "10\n",
      "5\n",
      "16\n",
      "8\n",
      "4\n",
      "2\n",
      "1\n"
     ]
    }
   ],
   "source": [
    "val = threeone2(100)"
   ]
  },
  {
   "cell_type": "code",
   "execution_count": null,
   "id": "fdb8a485",
   "metadata": {},
   "outputs": [],
   "source": [
    "len(val)"
   ]
  },
  {
   "cell_type": "markdown",
   "id": "81f28821",
   "metadata": {},
   "source": [
    "---\n",
    "**<span style=\"font-size: 20px; color: blue\">(Exercise 3)</span>** \n",
    "\n",
    "자연수 1부터 $n$까지의 합을 계산하는 함수를 작성하시오.\n",
    "\n",
    "- 입력형식: 자연수 $n$\n",
    "- 함수명: function1\n",
    "- 출력 형식: 자연수 1부터 $n$까지의 합\n",
    "- 입력값에 자연수 $n$이 입력되지 않았을 때 실행되지 않도록(오류 메세지 출력)\n",
    "\n",
    "예) function1(10)\n",
    "<br>\n",
    "\n",
    "출력:\n",
    "<br>\n",
    "\n",
    "55\n",
    "\n",
    "---"
   ]
  },
  {
   "cell_type": "code",
   "execution_count": null,
   "id": "59b8e098",
   "metadata": {},
   "outputs": [],
   "source": [
    "def function1(n):\n",
    "    if isinstance(n,int):\n",
    "        if n > 0:\n",
    "            print(n)\n",
    "    else:\n",
    "        print(\"자연수를 입력하세요.\")\n",
    "        return\n",
    "    \n",
    "    val = 0\n",
    "    for i in range(1,n+1):\n",
    "        val += i\n",
    "    return val"
   ]
  },
  {
   "cell_type": "code",
   "execution_count": 34,
   "id": "64c12f88",
   "metadata": {},
   "outputs": [
    {
     "ename": "NameError",
     "evalue": "name 'function1' is not defined",
     "output_type": "error",
     "traceback": [
      "\u001b[1;31m---------------------------------------------------------------------------\u001b[0m",
      "\u001b[1;31mNameError\u001b[0m                                 Traceback (most recent call last)",
      "Cell \u001b[1;32mIn[34], line 1\u001b[0m\n\u001b[1;32m----> 1\u001b[0m function1(\u001b[38;5;241m10\u001b[39m)\n",
      "\u001b[1;31mNameError\u001b[0m: name 'function1' is not defined"
     ]
    }
   ],
   "source": [
    "function1(10)"
   ]
  },
  {
   "cell_type": "code",
   "execution_count": 35,
   "id": "ac07c2e2",
   "metadata": {},
   "outputs": [
    {
     "ename": "NameError",
     "evalue": "name 'function1' is not defined",
     "output_type": "error",
     "traceback": [
      "\u001b[1;31m---------------------------------------------------------------------------\u001b[0m",
      "\u001b[1;31mNameError\u001b[0m                                 Traceback (most recent call last)",
      "Cell \u001b[1;32mIn[35], line 1\u001b[0m\n\u001b[1;32m----> 1\u001b[0m function1(\u001b[38;5;241m10.\u001b[39m)\n",
      "\u001b[1;31mNameError\u001b[0m: name 'function1' is not defined"
     ]
    }
   ],
   "source": [
    "function1(10.)"
   ]
  },
  {
   "cell_type": "markdown",
   "id": "1a75a947",
   "metadata": {},
   "source": [
    "---\n",
    "**<span style=\"font-size: 20px; color: blue\">(Exercise 4)</span>** \n",
    "\n",
    "자연수 $1^k$부터 $n^k$까지의 합을 계산하는 함수를 작성하시오.\n",
    "\n",
    "- 입력형식: 자연수 $n$과 $k$\n",
    "- 함수명: function2\n",
    "- 출력 형식: 자연수 $1^k$부터 $n^k$까지의 합\n",
    "- 입력값에 자연수 $n$과 $k$가 입력되지 않았을 때 실행되지 않도록(오류 메세지 출력)\n",
    "\n",
    "예) function2(10,2)\n",
    "<br>\n",
    "\n",
    "출력:\n",
    "<br>\n",
    "\n",
    "385\n",
    "\n",
    "---"
   ]
  },
  {
   "cell_type": "code",
   "execution_count": 36,
   "id": "7d12d369",
   "metadata": {},
   "outputs": [],
   "source": [
    "def function2(n,k):\n",
    "    if not (isinstance(n,int) and isinstance(k,int)):\n",
    "        print(\"자연수 n, k를 입력하세요.\")\n",
    "        return\n",
    "    elif isinstance(n,int) and n <= 0:\n",
    "        print(\"자연수 n, k를 입력하세요.\")\n",
    "        return\n",
    "    elif isinstance(k,int) and k <= 0:\n",
    "        print(\"자연수 n, k를 입력하세요.\")\n",
    "        return\n",
    "    \n",
    "    val = 0\n",
    "    for i in range(1,n+1):\n",
    "        val += i**k\n",
    "    return val"
   ]
  },
  {
   "cell_type": "code",
   "execution_count": 37,
   "id": "83357640",
   "metadata": {},
   "outputs": [
    {
     "data": {
      "text/plain": [
       "385"
      ]
     },
     "execution_count": 37,
     "metadata": {},
     "output_type": "execute_result"
    }
   ],
   "source": [
    "function2(10,2)"
   ]
  },
  {
   "cell_type": "markdown",
   "id": "ffdd7b60",
   "metadata": {},
   "source": [
    "---\n",
    "**<span style=\"font-size: 20px; color: blue\">(Exercise 5)</span>** \n",
    "\n",
    "자연수 $1$부터 $n$까지의 소수들의 합을 계산하는 함수를 작성하시오.\n",
    "\n",
    "- 입력형식: 자연수 $n$\n",
    "- 함수명: function3\n",
    "- 출력 형식: 자연수 $1$부터 $n$까지 소수들의 합\n",
    "- 입력값에 자연수 $n$이 입력되지 않았을 때 실행되지 않도록(오류 메세지 출력)\n",
    "\n",
    "예) function3(10)\n",
    "<br>\n",
    "\n",
    "출력:\n",
    "<br>\n",
    "\n",
    "17\n",
    "\n",
    "---"
   ]
  },
  {
   "cell_type": "code",
   "execution_count": 43,
   "id": "be6b1b41",
   "metadata": {},
   "outputs": [],
   "source": [
    "def function3(n):\n",
    "    if not isinstance(n,int):\n",
    "        print(\"자연수를 입력하세요.\")\n",
    "        return\n",
    "    \n",
    "    val = find_prime2(1,n)\n",
    "    return sum(val)"
   ]
  },
  {
   "cell_type": "code",
   "execution_count": 44,
   "id": "8bb3540f",
   "metadata": {},
   "outputs": [
    {
     "data": {
      "text/plain": [
       "17"
      ]
     },
     "execution_count": 44,
     "metadata": {},
     "output_type": "execute_result"
    }
   ],
   "source": [
    "function3(10)"
   ]
  },
  {
   "cell_type": "code",
   "execution_count": 46,
   "id": "bb577e1c",
   "metadata": {},
   "outputs": [
    {
     "data": {
      "text/plain": [
       "5"
      ]
     },
     "execution_count": 46,
     "metadata": {},
     "output_type": "execute_result"
    }
   ],
   "source": [
    "function3(4)"
   ]
  },
  {
   "cell_type": "markdown",
   "id": "d8ccc912",
   "metadata": {},
   "source": [
    "---\n",
    "**<span style=\"font-size: 20px; color: blue\">(Exercise 6)</span>** \n",
    "\n",
    "입력된 리스트에서 가장 큰 수를 찾는 함수를 작성하시오.\n",
    "\n",
    "---"
   ]
  },
  {
   "cell_type": "code",
   "execution_count": 47,
   "id": "5f59a063",
   "metadata": {},
   "outputs": [],
   "source": [
    "a = [1,5,7,10,8,3]\n",
    "m = 0\n",
    "for i in a:\n",
    "    if m < i:\n",
    "        m = i"
   ]
  },
  {
   "cell_type": "code",
   "execution_count": 48,
   "id": "abfb19a9",
   "metadata": {},
   "outputs": [
    {
     "data": {
      "text/plain": [
       "10"
      ]
     },
     "execution_count": 48,
     "metadata": {},
     "output_type": "execute_result"
    }
   ],
   "source": [
    "m"
   ]
  },
  {
   "cell_type": "code",
   "execution_count": 49,
   "id": "1be01a59",
   "metadata": {},
   "outputs": [
    {
     "data": {
      "text/plain": [
       "3"
      ]
     },
     "execution_count": 49,
     "metadata": {},
     "output_type": "execute_result"
    }
   ],
   "source": [
    "i"
   ]
  },
  {
   "cell_type": "code",
   "execution_count": 50,
   "id": "a0bb55ec",
   "metadata": {},
   "outputs": [],
   "source": [
    "def find_max(a):\n",
    "    m = 0\n",
    "    for i in a:\n",
    "        if m < i:\n",
    "            m = i\n",
    "    return m"
   ]
  },
  {
   "cell_type": "code",
   "execution_count": 52,
   "id": "9166aa73",
   "metadata": {},
   "outputs": [
    {
     "data": {
      "text/plain": [
       "10"
      ]
     },
     "execution_count": 52,
     "metadata": {},
     "output_type": "execute_result"
    }
   ],
   "source": [
    "find_max(a)"
   ]
  },
  {
   "cell_type": "markdown",
   "id": "80b7d608",
   "metadata": {},
   "source": [
    "---\n",
    "**<span style=\"font-size: 20px; color: blue\">(Exercise 7)</span>** \n",
    "\n",
    "입력된 리스트를 한 칸씩 당겨서 저장하는 함수를 작성하시오.\n",
    "\n",
    "예) [1,2,3] $\\Rightarrow$ [2,3,1]\n",
    "\n",
    "---"
   ]
  },
  {
   "cell_type": "code",
   "execution_count": 56,
   "id": "ca66a59d",
   "metadata": {},
   "outputs": [],
   "source": [
    "def shift_list(a):\n",
    "    for i in range(len(a)-1):\n",
    "        tmp = a[i]\n",
    "        a[i] = a[i+1]\n",
    "        a[i+1] = tmp\n",
    "    return a"
   ]
  },
  {
   "cell_type": "code",
   "execution_count": 57,
   "id": "7f3165b8",
   "metadata": {},
   "outputs": [
    {
     "data": {
      "text/plain": [
       "[2, 3, 4, 5, 1]"
      ]
     },
     "execution_count": 57,
     "metadata": {},
     "output_type": "execute_result"
    }
   ],
   "source": [
    "a = [1,2,3,4,5]\n",
    "b = shift_list(a)\n",
    "b"
   ]
  },
  {
   "cell_type": "code",
   "execution_count": 58,
   "id": "0ed523c4",
   "metadata": {},
   "outputs": [],
   "source": [
    "def shift_list2(a):\n",
    "    for i in range(len(a)-1):\n",
    "        a[i], a[i+1] = a[i+1], a[i]\n",
    "    return a"
   ]
  },
  {
   "cell_type": "code",
   "execution_count": 61,
   "id": "0178ee7c",
   "metadata": {},
   "outputs": [
    {
     "data": {
      "text/plain": [
       "[2, 3, 4, 5, 1]"
      ]
     },
     "execution_count": 61,
     "metadata": {},
     "output_type": "execute_result"
    }
   ],
   "source": [
    "a = [1,2,3,4,5]\n",
    "c = shift_list(a)\n",
    "c"
   ]
  },
  {
   "cell_type": "markdown",
   "id": "121b0f21",
   "metadata": {},
   "source": [
    "---\n",
    "**<span style=\"font-size: 20px; color: blue\">(Exercise 8)</span>** \n",
    "\n",
    "자연수 $n$을 입력 받아 $\\triangledown$ 형태로 $*$을 출력하는 함수를 작성하시오. ($*$ 사이에 공백 1칸)\n",
    "\n",
    "예) triangledown(6)\n",
    "<br>\n",
    "\n",
    "출력\n",
    "\n",
    "```\n",
    "* * * * * *\n",
    " * * * * *\n",
    "  * * * *\n",
    "   * * *\n",
    "    * *\n",
    "     *\n",
    "```\n",
    "---"
   ]
  },
  {
   "cell_type": "code",
   "execution_count": 84,
   "id": "21356349",
   "metadata": {},
   "outputs": [],
   "source": [
    "def triangledown(n):\n",
    "    length = 2*n\n",
    "    for i in range(n,0,-1):\n",
    "         print(f\"{'* '* i:^{length}}\")"
   ]
  },
  {
   "cell_type": "code",
   "execution_count": 85,
   "id": "39fe35fb",
   "metadata": {},
   "outputs": [
    {
     "name": "stdout",
     "output_type": "stream",
     "text": [
      "* * * * * * \n",
      " * * * * *  \n",
      "  * * * *   \n",
      "   * * *    \n",
      "    * *     \n",
      "     *      \n"
     ]
    }
   ],
   "source": [
    "triangledown(6)"
   ]
  },
  {
   "cell_type": "code",
   "execution_count": 86,
   "id": "fffed746",
   "metadata": {},
   "outputs": [
    {
     "name": "stdout",
     "output_type": "stream",
     "text": [
      "* * * * * * * * * * \n",
      " * * * * * * * * *  \n",
      "  * * * * * * * *   \n",
      "   * * * * * * *    \n",
      "    * * * * * *     \n",
      "     * * * * *      \n",
      "      * * * *       \n",
      "       * * *        \n",
      "        * *         \n",
      "         *          \n"
     ]
    }
   ],
   "source": [
    "triangledown(10)"
   ]
  },
  {
   "cell_type": "code",
   "execution_count": 87,
   "id": "80507c92",
   "metadata": {},
   "outputs": [
    {
     "name": "stdout",
     "output_type": "stream",
     "text": [
      "* * * * * \n",
      " * * * *  \n",
      "  * * *   \n",
      "   * *    \n",
      "    *     \n"
     ]
    }
   ],
   "source": [
    "triangledown(5)"
   ]
  },
  {
   "cell_type": "markdown",
   "id": "aca4acfa",
   "metadata": {},
   "source": [
    "---\n",
    "**<span style=\"font-size: 20px; color: blue\">(Exercise 9)</span>** \n",
    "\n",
    "입력된 리스트의 순서를 역순으로 바꾸는 함수를 작성하시오.\n",
    "\n",
    "예) [1,2,3,4,5] $\\Rightarrow$ [5,4,3,2,1]\n",
    "\n",
    "---"
   ]
  },
  {
   "cell_type": "code",
   "execution_count": 90,
   "id": "d2fe5618",
   "metadata": {},
   "outputs": [],
   "source": [
    "def flip_list(a):\n",
    "    l = len(a)\n",
    "    for j in range(l // 2):\n",
    "        a[j], a[-(j+1)] = a[-(j+1)], a[j]\n",
    "    return a"
   ]
  },
  {
   "cell_type": "code",
   "execution_count": 91,
   "id": "ec4c4fce",
   "metadata": {},
   "outputs": [
    {
     "data": {
      "text/plain": [
       "[5, 4, 3, 2, 1]"
      ]
     },
     "execution_count": 91,
     "metadata": {},
     "output_type": "execute_result"
    }
   ],
   "source": [
    "a = [1,2,3,4,5]\n",
    "flip_list(a)\n",
    "a"
   ]
  },
  {
   "cell_type": "code",
   "execution_count": 92,
   "id": "241da5b8",
   "metadata": {},
   "outputs": [
    {
     "data": {
      "text/plain": [
       "[6, 5, 4, 3, 2, 1]"
      ]
     },
     "execution_count": 92,
     "metadata": {},
     "output_type": "execute_result"
    }
   ],
   "source": [
    "a = [1,2,3,4,5,6]\n",
    "flip_list(a)\n",
    "a"
   ]
  },
  {
   "cell_type": "code",
   "execution_count": null,
   "id": "597f4cf3",
   "metadata": {},
   "outputs": [],
   "source": []
  }
 ],
 "metadata": {
  "kernelspec": {
   "display_name": "Python 3 (ipykernel)",
   "language": "python",
   "name": "python3"
  },
  "language_info": {
   "codemirror_mode": {
    "name": "ipython",
    "version": 3
   },
   "file_extension": ".py",
   "mimetype": "text/x-python",
   "name": "python",
   "nbconvert_exporter": "python",
   "pygments_lexer": "ipython3",
   "version": "3.11.5"
  },
  "toc": {
   "base_numbering": 1,
   "nav_menu": {},
   "number_sections": true,
   "sideBar": true,
   "skip_h1_title": false,
   "title_cell": "Table of Contents",
   "title_sidebar": "Contents",
   "toc_cell": false,
   "toc_position": {},
   "toc_section_display": true,
   "toc_window_display": false
  },
  "varInspector": {
   "cols": {
    "lenName": 16,
    "lenType": 16,
    "lenVar": 40
   },
   "kernels_config": {
    "python": {
     "delete_cmd_postfix": "",
     "delete_cmd_prefix": "del ",
     "library": "var_list.py",
     "varRefreshCmd": "print(var_dic_list())"
    },
    "r": {
     "delete_cmd_postfix": ") ",
     "delete_cmd_prefix": "rm(",
     "library": "var_list.r",
     "varRefreshCmd": "cat(var_dic_list()) "
    }
   },
   "types_to_exclude": [
    "module",
    "function",
    "builtin_function_or_method",
    "instance",
    "_Feature"
   ],
   "window_display": false
  }
 },
 "nbformat": 4,
 "nbformat_minor": 5
}
