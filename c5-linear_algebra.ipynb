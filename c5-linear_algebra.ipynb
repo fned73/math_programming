{
 "cells": [
  {
   "cell_type": "markdown",
   "id": "b02b3701",
   "metadata": {},
   "source": [
    "#  벡터(Vector)"
   ]
  },
  {
   "cell_type": "markdown",
   "id": "81058a6b",
   "metadata": {},
   "source": [
    "- 벡터를 나타내는 쉬운 방법: list\n",
    "\n",
    "- $\\boldsymbol{V}\\in \\mathbb{R}^n$인 벡터는 길이 $n$인 리스트로 표현"
   ]
  },
  {
   "cell_type": "code",
   "execution_count": 1,
   "id": "2f6ab78d",
   "metadata": {},
   "outputs": [],
   "source": [
    "u = [3,1,2]\n",
    "v = [1,1,1]"
   ]
  },
  {
   "cell_type": "markdown",
   "id": "8970aed9",
   "metadata": {},
   "source": [
    "**<span style=\"font-size: 20px; color: blue\">(Exercise 1)</span>** \n",
    "\n",
    "두 벡터 $\\boldsymbol{u}$와 $\\boldsymbol{v}$를 입력받아 합을 계산하는 함수 vector_sum()를 정의하시오.\n",
    "- 두 벡터의 차원이 다른 경우 \"벡터의 크기가 다릅니다.\" 를 출력하시오."
   ]
  },
  {
   "cell_type": "code",
   "execution_count": 2,
   "id": "7437f3d6",
   "metadata": {},
   "outputs": [],
   "source": [
    "def vector_sum(u,v):\n",
    "    if len(u) != len(v):\n",
    "        print(\"벡터의 크기가 다릅니다.\")\n",
    "        return\n",
    "    \n",
    "    t = [0 for j in range(len(u))]\n",
    "    for i in range(len(u)):\n",
    "        t[i] = u[i] + v[i]\n",
    "    return t"
   ]
  },
  {
   "cell_type": "code",
   "execution_count": 3,
   "id": "9e046340",
   "metadata": {},
   "outputs": [
    {
     "data": {
      "text/plain": [
       "[4, 2, 3]"
      ]
     },
     "execution_count": 3,
     "metadata": {},
     "output_type": "execute_result"
    }
   ],
   "source": [
    "vector_sum(u,v)"
   ]
  },
  {
   "cell_type": "code",
   "execution_count": 4,
   "id": "4db99d5b",
   "metadata": {},
   "outputs": [
    {
     "name": "stdout",
     "output_type": "stream",
     "text": [
      "벡터의 크기가 다릅니다.\n"
     ]
    }
   ],
   "source": [
    "vector_sum(u,[1,2])"
   ]
  },
  {
   "cell_type": "markdown",
   "id": "485c7da5",
   "metadata": {},
   "source": [
    "**<span style=\"font-size: 20px; color: blue\">(Exercise 2)</span>** \n",
    "\n",
    "두 벡터 $\\boldsymbol{u}$와 $\\boldsymbol{v}$를 입력받아 $\\boldsymbol{u} - \\boldsymbol{v}$를 계산하는 함수 vector_subtraction()를 정의하시오.\n",
    "- 두 벡터의 차원이 다른 경우 \"벡터의 크기가 다릅니다.\" 를 출력하시오."
   ]
  },
  {
   "cell_type": "code",
   "execution_count": 5,
   "id": "cf0a7041",
   "metadata": {},
   "outputs": [],
   "source": [
    "def vector_subtraction(u,v):\n",
    "    if len(u) != len(v):\n",
    "        print(\"벡터의 크기가 다릅니다.\")\n",
    "        return\n",
    "    \n",
    "    t = [0 for j in range(len(u))]\n",
    "    for i in range(len(u)):\n",
    "        t[i] = u[i] - v[i]\n",
    "    return t"
   ]
  },
  {
   "cell_type": "code",
   "execution_count": 6,
   "id": "07f77141",
   "metadata": {},
   "outputs": [
    {
     "data": {
      "text/plain": [
       "[2, 0, 1]"
      ]
     },
     "execution_count": 6,
     "metadata": {},
     "output_type": "execute_result"
    }
   ],
   "source": [
    "vector_subtraction(u,v)"
   ]
  },
  {
   "cell_type": "code",
   "execution_count": 7,
   "id": "9c237fa5",
   "metadata": {},
   "outputs": [
    {
     "name": "stdout",
     "output_type": "stream",
     "text": [
      "벡터의 크기가 다릅니다.\n"
     ]
    }
   ],
   "source": [
    "vector_subtraction(u,[1,2])"
   ]
  },
  {
   "cell_type": "markdown",
   "id": "b7f209cb",
   "metadata": {},
   "source": [
    "**<span style=\"font-size: 20px; color: blue\">(Exercise 3)</span>** \n",
    "\n",
    "두 벡터 $\\boldsymbol{u}$와 실수 $k$를 입력받아 $k \\boldsymbol{u}$를 계산하는 함수 vector_scalar_mult()를 정의하시오."
   ]
  },
  {
   "cell_type": "code",
   "execution_count": 8,
   "id": "0d6a8393",
   "metadata": {},
   "outputs": [],
   "source": [
    "def vector_scalar_mult(u,k):\n",
    "    v = u.copy()\n",
    "    for j in range(len(u)):\n",
    "        v[j] *= k\n",
    "    return v"
   ]
  },
  {
   "cell_type": "code",
   "execution_count": 9,
   "id": "5855d2d5",
   "metadata": {},
   "outputs": [
    {
     "data": {
      "text/plain": [
       "[9, 3, 6]"
      ]
     },
     "execution_count": 9,
     "metadata": {},
     "output_type": "execute_result"
    }
   ],
   "source": [
    "vector_scalar_mult(u,3)"
   ]
  },
  {
   "cell_type": "markdown",
   "id": "19e11435",
   "metadata": {},
   "source": [
    "**<span style=\"font-size: 20px; color: blue\">(Exercise 4)</span>** \n",
    "\n",
    "두 벡터 $\\boldsymbol{u}$와 $\\boldsymbol{v}$를 입력받아 내적 $\\boldsymbol{u} \\cdot \\boldsymbol{v}$를 계산하는 함수 vector_inner_product()를 정의하시오.\n",
    "- 두 벡터의 차원이 다른 경우 \"벡터의 크기가 다릅니다.\" 를 출력하시오."
   ]
  },
  {
   "cell_type": "code",
   "execution_count": 10,
   "id": "0878a8ed",
   "metadata": {},
   "outputs": [],
   "source": [
    "def vector_inner_product(u,v):\n",
    "    if len(u) != len(v):\n",
    "        print(\"벡터의 크기가 다릅니다.\")\n",
    "        return\n",
    "    \n",
    "    val = 0\n",
    "    for i in range(len(u)):\n",
    "        val += u[i] * v[i]\n",
    "    return val"
   ]
  },
  {
   "cell_type": "code",
   "execution_count": 11,
   "id": "ec159268",
   "metadata": {},
   "outputs": [
    {
     "data": {
      "text/plain": [
       "6"
      ]
     },
     "execution_count": 11,
     "metadata": {},
     "output_type": "execute_result"
    }
   ],
   "source": [
    "u = [3,1,2]\n",
    "v = [1,1,1]\n",
    "\n",
    "vector_inner_product(u,v)"
   ]
  },
  {
   "cell_type": "markdown",
   "id": "ab908485",
   "metadata": {},
   "source": [
    "**<span style=\"font-size: 20px; color: blue\">(Exercise 5)</span>** \n",
    "\n",
    "두 3차원 벡터 $\\boldsymbol{u}$와 $\\boldsymbol{v}$를 입력받아 외적(cross product) $\\boldsymbol{u} \\times \\boldsymbol{v}$를 계산하는 함수 vector_cross_product()를 정의하시오.\n",
    "- 두 벡터의 차원이 3차원이 아닌 경우 \"3차원 벡터를 입력하시오.\" 를 출력하시오."
   ]
  },
  {
   "cell_type": "code",
   "execution_count": 12,
   "id": "83c1d856",
   "metadata": {},
   "outputs": [],
   "source": [
    "def vector_cross_product(u,v):\n",
    "    if len(u) != 3 or len(v) != 3:\n",
    "        print(\"3차원 벡터를 입력하시오.\")\n",
    "        return\n",
    "    \n",
    "    return [u[1]*v[2] - u[2]*v[1], u[2]*v[0] - u[0]*v[2], u[0]*v[1] - u[1]*v[0]]"
   ]
  },
  {
   "cell_type": "code",
   "execution_count": 13,
   "id": "1b9f4fa9",
   "metadata": {},
   "outputs": [
    {
     "data": {
      "text/plain": [
       "[-1, -1, 2]"
      ]
     },
     "execution_count": 13,
     "metadata": {},
     "output_type": "execute_result"
    }
   ],
   "source": [
    "u = [3,1,2]\n",
    "v = [1,1,1]\n",
    "\n",
    "vector_cross_product(u,v)"
   ]
  },
  {
   "cell_type": "markdown",
   "id": "84c75f91",
   "metadata": {},
   "source": [
    "**<span style=\"font-size: 20px; color: blue\">(Exercise 6)</span>** \n",
    "\n",
    "두 3차원 벡터 $\\boldsymbol{u}$와 $\\boldsymbol{v}$를 입력받아 외적(outer product) $\\boldsymbol{u} \\boldsymbol{v}^T$를 계산하는 함수 vector_outer_product()를 정의하시오."
   ]
  },
  {
   "cell_type": "code",
   "execution_count": 14,
   "id": "d1ab717c",
   "metadata": {},
   "outputs": [],
   "source": [
    "def vector_outer_product(u,v):\n",
    "    nu = len(u)\n",
    "    nv = len(v)\n",
    "    \n",
    "    t = [[0 for j in range(nv)] for i in range(nu)]\n",
    "    for i in range(nu):\n",
    "        for j in range(nv):\n",
    "            t[i][j] = u[i] * v[j]\n",
    "    return t"
   ]
  },
  {
   "cell_type": "code",
   "execution_count": 15,
   "id": "b824c173",
   "metadata": {},
   "outputs": [
    {
     "data": {
      "text/plain": [
       "[[3, 6, 9, 12], [1, 2, 3, 4], [2, 4, 6, 8]]"
      ]
     },
     "execution_count": 15,
     "metadata": {},
     "output_type": "execute_result"
    }
   ],
   "source": [
    "u = [3,1,2]\n",
    "v = [1,2,3,4]\n",
    "\n",
    "vector_outer_product(u,v)"
   ]
  },
  {
   "cell_type": "markdown",
   "id": "a60acdcd",
   "metadata": {},
   "source": [
    "# 행렬(Matrix)"
   ]
  },
  {
   "cell_type": "markdown",
   "id": "2f9197ba",
   "metadata": {},
   "source": [
    "**행렬 정의**\n",
    "\n",
    "- 행렬을 나타내는 쉬운 방법: list in list\n",
    "\n",
    "- $m\\times n$ 행렬은 길이 $n$ 리스트 $m$개로 표현"
   ]
  },
  {
   "cell_type": "code",
   "execution_count": 16,
   "id": "539b3a91",
   "metadata": {},
   "outputs": [],
   "source": [
    "A = [[1,2,3],[4,5,6],[7,8,9]]\n",
    "B = [[3,1,2],\n",
    "    [2,5,4]]"
   ]
  },
  {
   "cell_type": "code",
   "execution_count": 17,
   "id": "273c4077",
   "metadata": {},
   "outputs": [
    {
     "data": {
      "text/plain": [
       "3"
      ]
     },
     "execution_count": 17,
     "metadata": {},
     "output_type": "execute_result"
    }
   ],
   "source": [
    "A[0][2]"
   ]
  },
  {
   "cell_type": "code",
   "execution_count": 18,
   "id": "41484937",
   "metadata": {},
   "outputs": [
    {
     "data": {
      "text/plain": [
       "4"
      ]
     },
     "execution_count": 18,
     "metadata": {},
     "output_type": "execute_result"
    }
   ],
   "source": [
    "A[1][0]"
   ]
  },
  {
   "cell_type": "code",
   "execution_count": 19,
   "id": "3d6e191c",
   "metadata": {},
   "outputs": [
    {
     "data": {
      "text/plain": [
       "5"
      ]
     },
     "execution_count": 19,
     "metadata": {},
     "output_type": "execute_result"
    }
   ],
   "source": [
    "B[1][1]"
   ]
  },
  {
   "cell_type": "markdown",
   "id": "3327dbf4",
   "metadata": {},
   "source": [
    "**<span style=\"font-size: 20px; color: blue\">(Exercise 1)</span>** \n",
    "\n",
    "주어진 리스트가 행렬인지 판단하는 is_matrix()을 정의하시오.\n",
    "- 주어진 리스트가 행렬이면 행렬의 크기 $(m,n)$을 리턴\n",
    "- 주어진 리스트가 행렬이 아니면 $(0,0)$을 리턴"
   ]
  },
  {
   "cell_type": "code",
   "execution_count": 20,
   "id": "7ad70a0b",
   "metadata": {},
   "outputs": [],
   "source": [
    "def is_matrix(A):\n",
    "    m = len(A)\n",
    "    n = len(A[0])\n",
    "    for i in range(1,m):\n",
    "        if len(A[i]) != n:\n",
    "            return (0,0)\n",
    "    return (m,n)"
   ]
  },
  {
   "cell_type": "code",
   "execution_count": 21,
   "id": "9fe34c4e",
   "metadata": {},
   "outputs": [
    {
     "data": {
      "text/plain": [
       "(3, 3)"
      ]
     },
     "execution_count": 21,
     "metadata": {},
     "output_type": "execute_result"
    }
   ],
   "source": [
    "is_matrix(A)"
   ]
  },
  {
   "cell_type": "code",
   "execution_count": 22,
   "id": "00a35857",
   "metadata": {},
   "outputs": [
    {
     "data": {
      "text/plain": [
       "(2, 3)"
      ]
     },
     "execution_count": 22,
     "metadata": {},
     "output_type": "execute_result"
    }
   ],
   "source": [
    "is_matrix(B)"
   ]
  },
  {
   "cell_type": "code",
   "execution_count": 23,
   "id": "6151e164",
   "metadata": {},
   "outputs": [
    {
     "data": {
      "text/plain": [
       "(0, 0)"
      ]
     },
     "execution_count": 23,
     "metadata": {},
     "output_type": "execute_result"
    }
   ],
   "source": [
    "C = [[1,2,3],[4,5,6,7]]\n",
    "is_matrix(C)"
   ]
  },
  {
   "cell_type": "markdown",
   "id": "b13b3cc3",
   "metadata": {},
   "source": [
    "**<span style=\"font-size: 20px; color: blue\">(Exercise 2)</span>** \n",
    "\n",
    "행의 개수 $m$과 열의 개수 $n$을 입력 받아 다음 조건을 만족하는 행렬을 반환하도록 함수를 정의하시오.\n",
    "- 모든 성분이 0인 행렬을 반환하는 matrix_zeros()을 정의하시오.\n",
    "- 모든 성분이 0인 행렬을 반환하는 matrix_ones()을 정의하시오.\n",
    "- $n$을 입력 받아 $n\\times n$의 단위 행렬을 반환하는 matrix_identity()을 정의하시오."
   ]
  },
  {
   "cell_type": "code",
   "execution_count": 24,
   "id": "8ef0f254",
   "metadata": {},
   "outputs": [],
   "source": [
    "def matrix_zeros(m,n):\n",
    "    return [[0 for j in range(n)] for i in range(m)]"
   ]
  },
  {
   "cell_type": "code",
   "execution_count": 25,
   "id": "2f756f28",
   "metadata": {},
   "outputs": [
    {
     "data": {
      "text/plain": [
       "[[0, 0, 0, 0], [0, 0, 0, 0], [0, 0, 0, 0], [0, 0, 0, 0], [0, 0, 0, 0]]"
      ]
     },
     "execution_count": 25,
     "metadata": {},
     "output_type": "execute_result"
    }
   ],
   "source": [
    "matrix_zeros(5,4)"
   ]
  },
  {
   "cell_type": "code",
   "execution_count": 26,
   "id": "fe4eca9a",
   "metadata": {},
   "outputs": [],
   "source": [
    "def matrix_ones(m,n):\n",
    "    return [[1 for j in range(n)] for i in range(m)]"
   ]
  },
  {
   "cell_type": "code",
   "execution_count": 27,
   "id": "97196ee8",
   "metadata": {},
   "outputs": [
    {
     "data": {
      "text/plain": [
       "[[1, 1], [1, 1], [1, 1]]"
      ]
     },
     "execution_count": 27,
     "metadata": {},
     "output_type": "execute_result"
    }
   ],
   "source": [
    "matrix_ones(3,2)"
   ]
  },
  {
   "cell_type": "code",
   "execution_count": 28,
   "id": "e789da48",
   "metadata": {},
   "outputs": [],
   "source": [
    "def matrix_identity(n):\n",
    "    return [[1 if i == j else 0 for j in range(n)] for i in range(n)]"
   ]
  },
  {
   "cell_type": "code",
   "execution_count": 29,
   "id": "5b3c38ce",
   "metadata": {},
   "outputs": [
    {
     "data": {
      "text/plain": [
       "[[1, 0, 0], [0, 1, 0], [0, 0, 1]]"
      ]
     },
     "execution_count": 29,
     "metadata": {},
     "output_type": "execute_result"
    }
   ],
   "source": [
    "matrix_identity(3)"
   ]
  },
  {
   "cell_type": "markdown",
   "id": "779ff717",
   "metadata": {},
   "source": [
    "---"
   ]
  },
  {
   "cell_type": "code",
   "execution_count": 30,
   "id": "eb8ca8e3",
   "metadata": {},
   "outputs": [
    {
     "name": "stdout",
     "output_type": "stream",
     "text": [
      "[[3, 1, 2], [2, 5, 4], [1, 1, 1], [0, 0, 0]]\n"
     ]
    }
   ],
   "source": [
    "# 행렬의 합 잘못된 방법\n",
    "\n",
    "A = [[3,1,2],\n",
    "     [2,5,4]]\n",
    "B = [[1,1,1],\n",
    "    [0,0,0]]\n",
    "\n",
    "print(A+B)"
   ]
  },
  {
   "cell_type": "markdown",
   "id": "d80b1158",
   "metadata": {},
   "source": [
    "**<span style=\"font-size: 20px; color: blue\">(Exercise 3)</span>** \n",
    "\n",
    "두 행렬 $A$와 $B$를 입력받아 합을 계산하는 함수 matrix_sum()를 정의하시오.\n",
    "- 입력된 $A$와 $B$가 행렬이 아닌 경우 \"O는 행렬이 아닙니다.\"를 출력하시오.\n",
    "- 두 행렬의 행과 열의 개수가 다른 경우 \"행렬의 크기가 다릅니다.\" 를 출력하시오."
   ]
  },
  {
   "cell_type": "code",
   "execution_count": 31,
   "id": "7eb77fea",
   "metadata": {},
   "outputs": [],
   "source": [
    "def matrix_sum(A,B):\n",
    "    if is_matrix(A) == (0,0):\n",
    "        print(\"A는 행렬이 아닙니다.\")\n",
    "        return\n",
    "    if is_matrix(B) == (0,0):\n",
    "        print(\"A는 행렬이 아닙니다.\")\n",
    "        return\n",
    "    \n",
    "    mA, nA = len(A), len(A[0])\n",
    "    mB, nB = len(B), len(B[0])\n",
    "    \n",
    "    if mA != mB or nA != nB:\n",
    "        print(\"행렬의 크기가 다릅니다.\")\n",
    "        return\n",
    "    \n",
    "    C = matrix_zeros(mA,nA)\n",
    "    for i in range(mA):\n",
    "        for j in range(nA):\n",
    "            C[i][j] = A[i][j] + B[i][j]\n",
    "    return C"
   ]
  },
  {
   "cell_type": "code",
   "execution_count": 32,
   "id": "58bdf42b",
   "metadata": {},
   "outputs": [
    {
     "data": {
      "text/plain": [
       "[[4, 2, 3], [2, 5, 4]]"
      ]
     },
     "execution_count": 32,
     "metadata": {},
     "output_type": "execute_result"
    }
   ],
   "source": [
    "matrix_sum(A,B)"
   ]
  },
  {
   "cell_type": "markdown",
   "id": "ebcb16f6",
   "metadata": {},
   "source": [
    "**<span style=\"font-size: 20px; color: blue\">(Exercise 4)</span>** \n",
    "\n",
    "두 행렬 $A$와 $B$를 입력받아 차을 계산하는 함수 matrix_subtraction()를 정의하시오.\n",
    "- 입력된 $A$와 $B$가 행렬이 아닌 경우 \"O는 행렬이 아닙니다.\"를 출력하시오.\n",
    "- 두 행렬의 행과 열의 개수가 다른 경우 \"행렬의 크기가 다릅니다.\" 를 출력하시오."
   ]
  },
  {
   "cell_type": "code",
   "execution_count": 33,
   "id": "65c8d0dc",
   "metadata": {},
   "outputs": [],
   "source": [
    "def matrix_subtraction(A,B):\n",
    "    if is_matrix(A) == (0,0):\n",
    "        print(\"A는 행렬이 아닙니다.\")\n",
    "        return\n",
    "    if is_matrix(B) == (0,0):\n",
    "        print(\"A는 행렬이 아닙니다.\")\n",
    "        return\n",
    "    \n",
    "    mA, nA = len(A), len(A[0])\n",
    "    mB, nB = len(B), len(B[0])\n",
    "    \n",
    "    if mA != mB or nA != nB:\n",
    "        print(\"행렬의 크기가 다릅니다.\")\n",
    "        return\n",
    "    \n",
    "    C = matrix_zeros(mA,nA)\n",
    "    for i in range(mA):\n",
    "        for j in range(nA):\n",
    "            C[i][j] = A[i][j] - B[i][j]\n",
    "    return C"
   ]
  },
  {
   "cell_type": "code",
   "execution_count": 34,
   "id": "f7d76e74",
   "metadata": {},
   "outputs": [
    {
     "data": {
      "text/plain": [
       "[[2, 0, 1], [2, 5, 4]]"
      ]
     },
     "execution_count": 34,
     "metadata": {},
     "output_type": "execute_result"
    }
   ],
   "source": [
    "matrix_subtraction(A,B)"
   ]
  },
  {
   "cell_type": "markdown",
   "id": "3b0cd53d",
   "metadata": {},
   "source": [
    "**<span style=\"font-size: 20px; color: blue\">(Exercise 5)</span>** \n",
    "\n",
    "행렬 $A$와 실수 $k$를 입력받아 차을 계산하는 함수 matrix_scalar_mult()를 정의하시오.\n",
    "- 입력된 $A$가 행렬이 아닌 경우 \"A는 행렬이 아닙니다.\"를 출력하시오."
   ]
  },
  {
   "cell_type": "code",
   "execution_count": 35,
   "id": "cf1e61dd",
   "metadata": {},
   "outputs": [],
   "source": [
    "def matrix_scalar_mult(A,k):\n",
    "    if is_matrix(A) == (0,0):\n",
    "        print(\"A는 행렬이 아닙니다.\")\n",
    "        return\n",
    "    \n",
    "    mA, nA = len(A), len(A[0])\n",
    "    \n",
    "    C = matrix_zeros(mA,nA)\n",
    "    for i in range(mA):\n",
    "        for j in range(nA):\n",
    "            C[i][j] = k * A[i][j]\n",
    "    return C"
   ]
  },
  {
   "cell_type": "code",
   "execution_count": 36,
   "id": "5c4ad030",
   "metadata": {},
   "outputs": [
    {
     "data": {
      "text/plain": [
       "[[9, 3, 6], [6, 15, 12]]"
      ]
     },
     "execution_count": 36,
     "metadata": {},
     "output_type": "execute_result"
    }
   ],
   "source": [
    "matrix_scalar_mult(A,3)"
   ]
  },
  {
   "cell_type": "markdown",
   "id": "c35a1990",
   "metadata": {},
   "source": [
    "**<span style=\"font-size: 20px; color: blue\">(Exercise 6)</span>** \n",
    "\n",
    "행렬 $A$를 입력받아 전치(transpose)를 계산하는 함수 matrix_transpose()를 정의하시오.\n",
    "- 입력된 $A$가 행렬이 아닌 경우 \"A는 행렬이 아닙니다.\"를 출력하시오."
   ]
  },
  {
   "cell_type": "code",
   "execution_count": 37,
   "id": "be866af1",
   "metadata": {},
   "outputs": [],
   "source": [
    "def matrix_transpose(A):\n",
    "    if is_matrix(A) == (0,0):\n",
    "        print(\"A는 행렬이 아닙니다.\")\n",
    "        return\n",
    "    \n",
    "    mA, nA = len(A), len(A[0])\n",
    "    \n",
    "    C = matrix_zeros(nA,mA)\n",
    "    for i in range(nA):\n",
    "        for j in range(mA):\n",
    "            C[i][j] = A[j][i]\n",
    "    return C"
   ]
  },
  {
   "cell_type": "code",
   "execution_count": 38,
   "id": "5a21c276",
   "metadata": {},
   "outputs": [
    {
     "data": {
      "text/plain": [
       "[[3, 2], [1, 5], [2, 4]]"
      ]
     },
     "execution_count": 38,
     "metadata": {},
     "output_type": "execute_result"
    }
   ],
   "source": [
    "matrix_transpose(A)"
   ]
  },
  {
   "cell_type": "markdown",
   "id": "98228c7e",
   "metadata": {},
   "source": [
    "**<span style=\"font-size: 20px; color: blue\">(Exercise 7)</span>** \n",
    "\n",
    "행렬 $A$와 벡터$\\boldsymbol{x}$를 입력받아 곱을 계산하는 함수 matrix_vector_mult()를 정의하시오.\n",
    "- 입력된 $A$가 행렬이 아닌 경우 \"A는 행렬이 아닙니다.\"를 출력하시오.\n",
    "- 입력된 행렬의 열의 개수와 벡터의 차원이 다른 경우 \"차원이 맞지 않아 계산할 수 없습니다.\"를 출력하시오."
   ]
  },
  {
   "cell_type": "code",
   "execution_count": 39,
   "id": "357c72c7",
   "metadata": {},
   "outputs": [],
   "source": [
    "def matrix_vector_mult(A,x):\n",
    "    if is_matrix(A) == (0,0):\n",
    "        print(\"A는 행렬이 아닙니다.\")\n",
    "        return\n",
    "    \n",
    "    mA, nA = len(A), len(A[0])\n",
    "        \n",
    "    if nA != len(x):\n",
    "        print(\"차원이 맞지 않아 계산할 수 없습니다.\")\n",
    "        return\n",
    "    \n",
    "    v = [0 for j in range(mA)]\n",
    "    for i in range(mA):\n",
    "        for j in range(nA):\n",
    "            v[i] += A[i][j] * x[j]\n",
    "    return v"
   ]
  },
  {
   "cell_type": "code",
   "execution_count": 40,
   "id": "f80f42bb",
   "metadata": {},
   "outputs": [
    {
     "data": {
      "text/plain": [
       "[11, 24]"
      ]
     },
     "execution_count": 40,
     "metadata": {},
     "output_type": "execute_result"
    }
   ],
   "source": [
    "A = [[3,1,2],\n",
    "     [2,5,4]]\n",
    "x = [1,2,3]\n",
    "\n",
    "matrix_vector_mult(A,x)"
   ]
  },
  {
   "cell_type": "markdown",
   "id": "5e3ab0a2",
   "metadata": {},
   "source": [
    "**<span style=\"font-size: 20px; color: blue\">(Exercise 8)</span>** \n",
    "\n",
    "행렬 $A$와 $B$를 입력받아 곱을 계산하는 함수 matrix_mult()를 정의하시오.\n",
    "- 입력된 $A$와 $B$가 행렬이 아닌 경우 \"A는 행렬이 아닙니다.\"를 출력하시오.\n",
    "- 입력된 행렬 $A$의 열의 개수와 $B$의 행의 개수가 다른 경우 \"차원이 맞지 않아 계산할 수 없습니다.\"를 출력하시오."
   ]
  },
  {
   "cell_type": "code",
   "execution_count": 41,
   "id": "82dc2442",
   "metadata": {},
   "outputs": [],
   "source": [
    "def matrix_mult(A,B):\n",
    "    if is_matrix(A) == (0,0):\n",
    "        print(\"A는 행렬이 아닙니다.\")\n",
    "        return\n",
    "    if is_matrix(B) == (0,0):\n",
    "        print(\"A는 행렬이 아닙니다.\")\n",
    "        return\n",
    "    \n",
    "    mA, nA = len(A), len(A[0])\n",
    "    mB, nB = len(B), len(B[0])\n",
    "    \n",
    "    if nA != mB:\n",
    "        print(\"차원이 맞지 않아 계산할 수 없습니다.\")\n",
    "        return\n",
    "    \n",
    "    C = matrix_zeros(mA,nB)\n",
    "    for i in range(mA):\n",
    "        for k in range(nB):\n",
    "            for j in range(nA):\n",
    "                C[i][k] += A[i][j] * B[j][k]\n",
    "    return C"
   ]
  },
  {
   "cell_type": "code",
   "execution_count": 42,
   "id": "e8631401",
   "metadata": {},
   "outputs": [
    {
     "data": {
      "text/plain": [
       "[[5, 7, 9], [10, 14, 18]]"
      ]
     },
     "execution_count": 42,
     "metadata": {},
     "output_type": "execute_result"
    }
   ],
   "source": [
    "A = [[1,1],[2,2]]\n",
    "B = [[1,2,3],[4,5,6]]\n",
    "\n",
    "matrix_mult(A,B)"
   ]
  },
  {
   "cell_type": "markdown",
   "id": "25f0ade3",
   "metadata": {},
   "source": [
    "**<span style=\"font-size: 20px; color: blue\">(Exercise 9)</span>** \n",
    "\n",
    "행렬 $A$에서 $i$행과 $j$을 제거한 부분행렬을 구하는 함수 submatrix()를 정의하시오.\n",
    "- 입력된 $A$가 행렬이 아닌 경우 \"A는 행렬이 아닙니다.\"를 출력하시오."
   ]
  },
  {
   "cell_type": "code",
   "execution_count": 43,
   "id": "975d435c",
   "metadata": {},
   "outputs": [],
   "source": [
    "def submatrix(A,i,j):\n",
    "    if is_matrix(A) == (0,0):\n",
    "        print(\"A는 행렬이 아닙니다.\")\n",
    "        return\n",
    "        \n",
    "    mA, nA = len(A), len(A[0])\n",
    "    \n",
    "    B = matrix_zeros(mA-1,nA-1)\n",
    "    for a in range(mA-1):\n",
    "        for b in range(nA-1):\n",
    "            if a < i and b < j: B[a][b] = A[a][b]\n",
    "            elif a >= i and b < j: B[a][b] = A[a+1][b]\n",
    "            elif a < i and b >= j: B[a][b] = A[a][b+1]\n",
    "            else: B[a][b] = A[a+1][b+1]\n",
    "    return B"
   ]
  },
  {
   "cell_type": "code",
   "execution_count": 44,
   "id": "d1cbb6fa",
   "metadata": {},
   "outputs": [
    {
     "data": {
      "text/plain": [
       "[[1, 2], [7, 8]]"
      ]
     },
     "execution_count": 44,
     "metadata": {},
     "output_type": "execute_result"
    }
   ],
   "source": [
    "A = [[1,2,3],[4,5,6],[7,8,9]]\n",
    "submatrix(A,1,2)"
   ]
  },
  {
   "cell_type": "markdown",
   "id": "5436c127",
   "metadata": {},
   "source": [
    "**<span style=\"font-size: 20px; color: blue\">(Exercise 10)</span>** \n",
    "\n",
    "행렬 $A$의 판별식(determinant)를 구하는 함수 matrix_det()를 정의하시오.\n",
    "- 입력된 $A$가 행렬이 아닌 경우 \"A는 행렬이 아닙니다.\"를 출력하시오.\n",
    "- 입력된 $A$가 정사각 행렬이 아닌 경우 \"A는 정사각 행렬이 아닙니다.\"를 출력하시오."
   ]
  },
  {
   "cell_type": "code",
   "execution_count": 45,
   "id": "989363dd",
   "metadata": {},
   "outputs": [],
   "source": [
    "def matrix_det(A):\n",
    "    def det(A):\n",
    "        if len(A) == 1: return A[0][0]\n",
    "        val = 0\n",
    "        for j in range(len(A)):\n",
    "            val += (-1)**j * A[0][j] * det(submatrix(A,0,j))\n",
    "        return val\n",
    "\n",
    "\n",
    "    mA, nA = is_matrix(A)\n",
    "    if mA == 0:\n",
    "        print(\"A는 행렬이 아닙니다.\")\n",
    "        return\n",
    "    if mA != nA:\n",
    "        print(\"A는 정사각 행렬이 아닙니다.\")\n",
    "        return\n",
    "        \n",
    "    return det(A)"
   ]
  },
  {
   "cell_type": "code",
   "execution_count": 46,
   "id": "51469439",
   "metadata": {},
   "outputs": [
    {
     "data": {
      "text/plain": [
       "0"
      ]
     },
     "execution_count": 46,
     "metadata": {},
     "output_type": "execute_result"
    }
   ],
   "source": [
    "A = [[1,2,3],[4,5,6],[7,8,9]]\n",
    "matrix_det(A)"
   ]
  },
  {
   "cell_type": "code",
   "execution_count": 69,
   "id": "70916faf",
   "metadata": {},
   "outputs": [
    {
     "data": {
      "text/plain": [
       "4"
      ]
     },
     "execution_count": 69,
     "metadata": {},
     "output_type": "execute_result"
    }
   ],
   "source": [
    "A = [[2,-1,0],[-1,2,-1],[0,-1,2]]\n",
    "matrix_det(A)"
   ]
  },
  {
   "cell_type": "code",
   "execution_count": 70,
   "id": "01b33500",
   "metadata": {},
   "outputs": [
    {
     "data": {
      "text/plain": [
       "4"
      ]
     },
     "execution_count": 70,
     "metadata": {},
     "output_type": "execute_result"
    }
   ],
   "source": [
    "A = [[1,0,1,0],[0,2,-1,0],[0,-1,2,-1],[0,0,-1,2]]\n",
    "matrix_det(A)"
   ]
  },
  {
   "cell_type": "code",
   "execution_count": 47,
   "id": "c4b9fd73",
   "metadata": {},
   "outputs": [
    {
     "data": {
      "text/plain": [
       "1"
      ]
     },
     "execution_count": 47,
     "metadata": {},
     "output_type": "execute_result"
    }
   ],
   "source": [
    "matrix_det(matrix_identity(3))"
   ]
  },
  {
   "cell_type": "markdown",
   "id": "5254ee98",
   "metadata": {},
   "source": [
    "**<span style=\"font-size: 20px; color: blue\">(Exercise 11)</span>** \n",
    "\n",
    "행렬 $A$의 cofactor matrix를 구하는 함수 matrix_cofactor()를 정의하시오.\n",
    "- 입력된 $A$가 행렬이 아닌 경우 \"A는 행렬이 아닙니다.\"를 출력하시오.\n",
    "- 입력된 $A$가 정사각 행렬이 아닌 경우 \"A는 정사각 행렬이 아닙니다.\"를 출력하시오."
   ]
  },
  {
   "cell_type": "code",
   "execution_count": 48,
   "id": "1f98a17b",
   "metadata": {},
   "outputs": [],
   "source": [
    "def matrix_cofactor(A):\n",
    "    mA, nA = is_matrix(A)\n",
    "    if mA == 0:\n",
    "        print(\"A는 행렬이 아닙니다.\")\n",
    "        return\n",
    "    if mA != nA:\n",
    "        print(\"A는 정사각 행렬이 아닙니다.\")\n",
    "        return\n",
    "    \n",
    "    C = matrix_zeros(mA,nA)\n",
    "    for i in range(mA):\n",
    "        for j in range(nA):\n",
    "            C[i][j] = (-1)**(i+j) * matrix_det(submatrix(A,i,j))\n",
    "        \n",
    "    return C"
   ]
  },
  {
   "cell_type": "code",
   "execution_count": 49,
   "id": "05c1aded",
   "metadata": {},
   "outputs": [
    {
     "data": {
      "text/plain": [
       "[[-3, 6, -3], [6, -12, 6], [-3, 6, -3]]"
      ]
     },
     "execution_count": 49,
     "metadata": {},
     "output_type": "execute_result"
    }
   ],
   "source": [
    "A = [[1,2,3],[4,5,6],[7,8,9]]\n",
    "matrix_cofactor(A)"
   ]
  },
  {
   "cell_type": "markdown",
   "id": "d2849352",
   "metadata": {},
   "source": [
    "**<span style=\"font-size: 20px; color: blue\">(Exercise 12)</span>** \n",
    "\n",
    "행렬 $A$의 역행렬을 구하는 함수 matrix_inverse()를 정의하시오.\n",
    "- 입력된 $A$가 행렬이 아닌 경우 \"A는 행렬이 아닙니다.\"를 출력하시오.\n",
    "- 입력된 $A$가 정사각 행렬이 아닌 경우 \"A는 정사각 행렬이 아닙니다.\"를 출력하시오.\n",
    "- 역행렬이 존재하지 않는 경우 \"역행렬이 존재하지 않습니다.\"를 출력하시오."
   ]
  },
  {
   "cell_type": "code",
   "execution_count": 50,
   "id": "93b21aaa",
   "metadata": {},
   "outputs": [],
   "source": [
    "def matrix_inverse(A):\n",
    "    mA, nA = is_matrix(A)\n",
    "    if mA == 0:\n",
    "        print(\"A는 행렬이 아닙니다.\")\n",
    "        return\n",
    "    if mA != nA:\n",
    "        print(\"A는 정사각 행렬이 아닙니다.\")\n",
    "        return\n",
    "    \n",
    "    d = matrix_det(A)\n",
    "    if d == 0:\n",
    "        print(\"역행렬이 존재하지 않습니다.\")\n",
    "        return\n",
    "        \n",
    "    C = matrix_cofactor(A)\n",
    "    \n",
    "    return matrix_scalar_mult(matrix_transpose(C), 1/d)"
   ]
  },
  {
   "cell_type": "code",
   "execution_count": 51,
   "id": "894ef069",
   "metadata": {},
   "outputs": [
    {
     "name": "stdout",
     "output_type": "stream",
     "text": [
      "역행렬이 존재하지 않습니다.\n"
     ]
    }
   ],
   "source": [
    "A = [[1,2,3],[4,5,6],[7,8,9]]\n",
    "matrix_inverse(A)"
   ]
  },
  {
   "cell_type": "code",
   "execution_count": 52,
   "id": "16057315",
   "metadata": {},
   "outputs": [
    {
     "name": "stdout",
     "output_type": "stream",
     "text": [
      "[[-0.8333333333333333, -1.0, 0.8333333333333333], [0.16666666666666666, 2.0, -1.1666666666666665], [0.5, -1.0, 0.5]]\n"
     ]
    }
   ],
   "source": [
    "A = [[1,2,3],[4,5,5],[7,8,9]]\n",
    "B = matrix_inverse(A)\n",
    "print(B)"
   ]
  },
  {
   "cell_type": "code",
   "execution_count": 53,
   "id": "f8bf014a",
   "metadata": {},
   "outputs": [
    {
     "data": {
      "text/plain": [
       "[[1.0, 0.0, 2.220446049250313e-16],\n",
       " [0.0, 1.0, 8.881784197001252e-16],\n",
       " [0.0, 0.0, 1.0000000000000009]]"
      ]
     },
     "execution_count": 53,
     "metadata": {},
     "output_type": "execute_result"
    }
   ],
   "source": [
    "matrix_mult(A,B)"
   ]
  },
  {
   "cell_type": "markdown",
   "id": "be1fb70f",
   "metadata": {},
   "source": [
    "**<span style=\"font-size: 20px; color: blue\">(Exercise 13)</span>** \n",
    "\n",
    "행렬 $A$와 $\\boldsymbol{b}$를 입력 받아 $A\\boldsymbol{x} = \\boldsymbol{b}$의 해 $\\boldsymbol{x}$를 구하는 함수 matrix_solve()를 정의하시오.\n",
    "- 입력된 $A$와 $\\boldsymbol{b}$의 차원이 맞지 않는 경우 \"차원이 맞지 않아 계산할 수 없습니다.\"를 출력하시오."
   ]
  },
  {
   "cell_type": "code",
   "execution_count": 54,
   "id": "6e0f9339",
   "metadata": {},
   "outputs": [],
   "source": [
    "def matrix_solve(A,b):\n",
    "    if is_matrix(A) == (0,0):\n",
    "        print(\"A는 행렬이 아닙니다.\")\n",
    "        return\n",
    "    \n",
    "    mA, nA = len(A), len(A[0])\n",
    "        \n",
    "    if nA != len(b):\n",
    "        print(\"차원이 맞지 않아 계산할 수 없습니다.\")\n",
    "        return\n",
    "    \n",
    "    invA = matrix_inverse(A)\n",
    "    x = matrix_vector_mult(invA, b)\n",
    "    return x"
   ]
  },
  {
   "cell_type": "code",
   "execution_count": 55,
   "id": "93296566",
   "metadata": {},
   "outputs": [
    {
     "name": "stdout",
     "output_type": "stream",
     "text": [
      "[-0.33333333333333304, 0.6666666666666674, 0.0]\n"
     ]
    }
   ],
   "source": [
    "A = [[1,2,3],[4,5,5],[7,8,9]]\n",
    "b = [1,2,3]\n",
    "x = matrix_solve(A,b)\n",
    "print(x)"
   ]
  },
  {
   "cell_type": "code",
   "execution_count": 56,
   "id": "eea552d2",
   "metadata": {},
   "outputs": [
    {
     "data": {
      "text/plain": [
       "[1.7763568394002505e-15, 4.884981308350689e-15, 7.993605777301127e-15]"
      ]
     },
     "execution_count": 56,
     "metadata": {},
     "output_type": "execute_result"
    }
   ],
   "source": [
    "vector_subtraction(matrix_vector_mult(A,x),b)"
   ]
  },
  {
   "cell_type": "markdown",
   "id": "8c1e5941",
   "metadata": {},
   "source": [
    "**<span style=\"font-size: 20px; color: blue\">(Exercise 14)</span>** \n",
    "\n",
    "행렬 $A$와 $\\boldsymbol{b}$를 입력 받아 $A\\boldsymbol{x} = \\boldsymbol{b}$의 해 $\\boldsymbol{x}$를 가우스소거법(Gaussian elimination)을 이용하여 구하는 Naive_Gauss()를 정의하시오.\n",
    "- 입력된 $A$가 행렬이 아닌 경우 \"A는 행렬이 아닙니다.\"를 출력하시오.\n",
    "- 입력된 $A$가 정사각 행렬이 아닌 경우 \"A는 정사각 행렬이 아닙니다.\"를 출력하시오.\n",
    "- 입력된 $A$와 $\\boldsymbol{b}$의 차원이 맞지 않는 경우 \"차원이 맞지 않아 계산할 수 없습니다.\"를 출력하시오.\n",
    "\n",
    "<br>\n",
    "\n",
    "**(알고리즘)   순수 가우스 소거법**\n",
    "\n",
    "```\n",
    "for k=1 to n-1\n",
    "    for i=k+1 to n\n",
    "\t\txmult <- a_{ik}/a_{kk}\n",
    "\t\ta_{ik} <- xmult \n",
    "\t\tfor j=k+1 to n\n",
    "\t\t\ta_{ij} <- a_{ij} - (xmult)a_{kj} \n",
    "\t\tend for \n",
    "\t\tb_i <- b_i - (xmult)b_k \n",
    "\tend for \n",
    "end for\n",
    "```\n",
    "```    \n",
    "x_n <- b_n/a_{nn} \n",
    "for i = n-1 to 1 \n",
    "\tsum <- b_i \n",
    "\tfor j = i+1 to n \n",
    "\t\tsum <- sum - a_{ij}x_j \n",
    "\t end for \n",
    "\tx_i <- sum/a_{ii} \n",
    "end for\n",
    "```"
   ]
  },
  {
   "cell_type": "code",
   "execution_count": 57,
   "id": "d14f766f",
   "metadata": {},
   "outputs": [],
   "source": [
    "def Naive_Gauss(A,b):\n",
    "    mA, nA = is_matrix(A)\n",
    "    if mA == 0:\n",
    "        print(\"A는 행렬이 아닙니다.\")\n",
    "        return\n",
    "    if mA != nA:\n",
    "        print(\"A는 정사각 행렬이 아닙니다.\")\n",
    "        return\n",
    "    \n",
    "    if nA != len(b):\n",
    "        print(\"차원이 맞지 않아 계산할 수 없습니다.\")\n",
    "        return\n",
    "    \n",
    "    for k in range(mA): # for k=1 to n-1\n",
    "        for i in range(k+1, mA): # for i=k+1 to n\n",
    "            xmult = A[i][k]/A[k][k] # xmult <- a_{ik}/a_{kk}\n",
    "            A[i][k] = xmult # a_{ik} <- xmult \n",
    "            for j in range(k+1, mA): # for j=k+1 to n\n",
    "                A[i][j] -= xmult * A[k][j] # a_{ij} <- a_{ij} - (xmult)a_{kj} \n",
    "            b[i] -= xmult * b[k] # b_i <- b_i - (xmult)b_k \n",
    "    \n",
    "    x = [0 for j in range(mA)]\n",
    "    x[-1] = b[-1]/A[-1][-1] # x_n <- b_n/a_{nn} \n",
    "    for i in range(mA-2,-1,-1): # for i = n-1 to 1 \n",
    "        s = b[i] # sum <- b_i \n",
    "        for j in range(i+1,mA): # for j = i+1 to n \n",
    "            s -= A[i][j]*x[j] # sum <- sum - a_{ij}x_j \n",
    "        x[i] = s / A[i][i] # x_i <- sum/a_{ii} \n",
    "    return x"
   ]
  },
  {
   "cell_type": "code",
   "execution_count": 58,
   "id": "318fbf6d",
   "metadata": {},
   "outputs": [],
   "source": [
    "A = [[3,-13,9,3],[-6,4,1,-18],[6,-2,2,4],[12,-8,6,10]]\n",
    "b = [-19,-34,16,26]\n",
    "x = Naive_Gauss(A,b)"
   ]
  },
  {
   "cell_type": "code",
   "execution_count": 59,
   "id": "1f780350",
   "metadata": {},
   "outputs": [
    {
     "name": "stdout",
     "output_type": "stream",
     "text": [
      "[2.999999999999955, 1.000000000000104, -1.9999999999998503, 1.0000000000000462]\n"
     ]
    }
   ],
   "source": [
    "print(x)"
   ]
  },
  {
   "cell_type": "code",
   "execution_count": 60,
   "id": "ccb916e7",
   "metadata": {},
   "outputs": [
    {
     "data": {
      "text/plain": [
       "[-19.0, -77.99999999999991, -19.636363636363825, 6.153846153846]"
      ]
     },
     "execution_count": 60,
     "metadata": {},
     "output_type": "execute_result"
    }
   ],
   "source": [
    "matrix_vector_mult(A,x)"
   ]
  },
  {
   "cell_type": "code",
   "execution_count": 61,
   "id": "c492ba0a",
   "metadata": {},
   "outputs": [],
   "source": [
    "import copy\n",
    "\n",
    "def Naive_Gauss2(A,b):\n",
    "    mA, nA = is_matrix(A)\n",
    "    if mA == 0:\n",
    "        print(\"A는 행렬이 아닙니다.\")\n",
    "        return\n",
    "    if mA != nA:\n",
    "        print(\"A는 정사각 행렬이 아닙니다.\")\n",
    "        return\n",
    "    \n",
    "    if nA != len(b):\n",
    "        print(\"차원이 맞지 않아 계산할 수 없습니다.\")\n",
    "        return\n",
    "    \n",
    "    C = copy.deepcopy(A)\n",
    "    for k in range(mA): # for k=1 to n-1\n",
    "        for i in range(k+1, mA): # for i=k+1 to n\n",
    "            xmult = C[i][k]/C[k][k] # xmult <- a_{ik}/a_{kk}\n",
    "            C[i][k] = xmult # a_{ik} <- xmult \n",
    "            for j in range(k+1, mA): # for j=k+1 to n\n",
    "                C[i][j] -= xmult * C[k][j] # a_{ij} <- a_{ij} - (xmult)a_{kj} \n",
    "            b[i] -= xmult * b[k] # b_i <- b_i - (xmult)b_k \n",
    "    \n",
    "    x = [0 for j in range(mA)]\n",
    "    x[-1] = b[-1]/C[-1][-1] # x_n <- b_n/a_{nn} \n",
    "    for i in range(mA-2,-1,-1): # for i = n-1 to 1 \n",
    "        s = b[i] # sum <- b_i \n",
    "        for j in range(i+1,mA): # for j = i+1 to n \n",
    "            s -= C[i][j]*x[j] # sum <- sum - a_{ij}x_j \n",
    "        x[i] = s / C[i][i] # x_i <- sum/a_{ii} \n",
    "    return C, x"
   ]
  },
  {
   "cell_type": "code",
   "execution_count": 62,
   "id": "49d53586",
   "metadata": {},
   "outputs": [],
   "source": [
    "A = [[3,-13,9,3],[-6,4,1,-18],[6,-2,2,4],[12,-8,6,10]]\n",
    "b = [-19,-34,16,26]\n",
    "C,x = Naive_Gauss2(A,b)"
   ]
  },
  {
   "cell_type": "code",
   "execution_count": 63,
   "id": "00a6900c",
   "metadata": {},
   "outputs": [
    {
     "name": "stdout",
     "output_type": "stream",
     "text": [
      "[2.999999999999955, 1.000000000000104, -1.9999999999998503, 1.0000000000000462]\n"
     ]
    }
   ],
   "source": [
    "print(x)"
   ]
  },
  {
   "cell_type": "code",
   "execution_count": 64,
   "id": "5ec3323a",
   "metadata": {},
   "outputs": [
    {
     "data": {
      "text/plain": [
       "[-19.0, -34.0, 16.000000000000007, 25.99999999999999]"
      ]
     },
     "execution_count": 64,
     "metadata": {},
     "output_type": "execute_result"
    }
   ],
   "source": [
    "matrix_vector_mult(A,x)"
   ]
  },
  {
   "cell_type": "markdown",
   "id": "f5ecdfe4",
   "metadata": {},
   "source": [
    "**<span style=\"font-size: 20px; color: blue\">(Exercise 15)</span>** \n",
    "\n",
    "행렬 $A$를 입력 받아 비례 조정 부분 피벗팅을 이용하여 구하는 SPP_Gauss()를 정의하시오.\n",
    "- 입력된 $A$가 행렬이 아닌 경우 \"A는 행렬이 아닙니다.\"를 출력하시오.\n",
    "- 입력된 $A$가 정사각 행렬이 아닌 경우 \"A는 정사각 행렬이 아닙니다.\"를 출력하시오.\n",
    "\n",
    "<br>\n",
    "\n",
    "**(알고리즘)   비례 조정 부분 피벗팅을 사용한 가우스 소거법**\n",
    "\n",
    "```\n",
    "for k=1 to n \n",
    "\tl_i <- i \n",
    "\tsmax <- 0\n",
    "\tfor j=1 to n \n",
    "\t\tsmax <- max(smax, |a_{ij}|)\n",
    "\tend for \n",
    "\ts_i <- smax\n",
    "end for\n",
    "```\n",
    "```    \n",
    "for k=1 to n-1 \n",
    "\trmax <- 0  \n",
    "\tfor i=k to n \n",
    "\t\tr <- |a_{l_i,k}/s_{l_i}| \n",
    "\t\tif (r > rmax) then \n",
    "\t\t\trmax <- r \n",
    "\t\t\tj<- i \n",
    "\t\tend if\n",
    "\tend for\n",
    "\tl_j <-> l_k\n",
    "\tfor i=k+1 to n \n",
    "\t\txmult <- a_{l_i, k}/a_{l_k, k} \n",
    "\t\ta_{l_i, k} <- xmult \n",
    "\t\tfor j=k+1 to n \n",
    "\t\t\ta_{l_i j} <- a_{l_i, j} - (xmult)a_{l_k,j} \n",
    "\t\tend for \n",
    "\tend for \n",
    "end for\n",
    "```"
   ]
  },
  {
   "cell_type": "code",
   "execution_count": 65,
   "id": "125a9165",
   "metadata": {},
   "outputs": [],
   "source": [
    "def SPP_Gauss(A):\n",
    "    mA, nA = is_matrix(A)\n",
    "    if mA == 0:\n",
    "        print(\"A는 행렬이 아닙니다.\")\n",
    "        return\n",
    "    if mA != nA:\n",
    "        print(\"A는 정사각 행렬이 아닙니다.\")\n",
    "        return\n",
    "    \n",
    "    l = [0 for j in range(mA)]\n",
    "    s = [0 for j in range(mA)]\n",
    "    for i in range(mA):\n",
    "        l[i] = i\n",
    "        smax = 0.\n",
    "        for j in range(mA):\n",
    "            smax = max([smax, abs(A[i,j])])\n",
    "        s[i] = smax\n",
    "    for k in range(mA-1):\n",
    "        rmax = 0\n",
    "        for i in range(k,mA):\n",
    "            r = abs(A[l[i]][k]/s[l[i]])\n",
    "            if r > rmax:\n",
    "                rmax = r\n",
    "                j = i\n",
    "        l[j], l[k] = l[k], l[j]\n",
    "        \n",
    "        for i in range(k+1, mA):\n",
    "            xmult = A[l[i]][k]/A[l[k]][k]\n",
    "            A[l[i]][k] = xmult\n",
    "            for j in range(k+1, mA):\n",
    "                A[l[i]][j] -= xmult * A[l[k]][j]\n",
    "    return l"
   ]
  },
  {
   "cell_type": "code",
   "execution_count": 66,
   "id": "7da6fd6a",
   "metadata": {},
   "outputs": [
    {
     "ename": "NameError",
     "evalue": "name 'np' is not defined",
     "output_type": "error",
     "traceback": [
      "\u001b[0;31m---------------------------------------------------------------------------\u001b[0m",
      "\u001b[0;31mNameError\u001b[0m                                 Traceback (most recent call last)",
      "\u001b[1;32m/home/fned/workspace/math_programming/c5-linear_algebra.ipynb 셀 93\u001b[0m line \u001b[0;36m1\n\u001b[0;32m----> <a href='vscode-notebook-cell:/home/fned/workspace/math_programming/c5-linear_algebra.ipynb#Y160sZmlsZQ%3D%3D?line=0'>1</a>\u001b[0m A \u001b[39m=\u001b[39m np\u001b[39m.\u001b[39marray([[\u001b[39m3\u001b[39m,\u001b[39m-\u001b[39m\u001b[39m13\u001b[39m,\u001b[39m9\u001b[39m,\u001b[39m3\u001b[39m],[\u001b[39m-\u001b[39m\u001b[39m6\u001b[39m,\u001b[39m4\u001b[39m,\u001b[39m1\u001b[39m,\u001b[39m-\u001b[39m\u001b[39m18\u001b[39m],[\u001b[39m6\u001b[39m,\u001b[39m-\u001b[39m\u001b[39m2\u001b[39m,\u001b[39m2\u001b[39m,\u001b[39m4\u001b[39m],[\u001b[39m12\u001b[39m,\u001b[39m-\u001b[39m\u001b[39m8\u001b[39m,\u001b[39m6\u001b[39m,\u001b[39m10\u001b[39m]], dtype\u001b[39m=\u001b[39m\u001b[39mfloat\u001b[39m)\n\u001b[1;32m      <a href='vscode-notebook-cell:/home/fned/workspace/math_programming/c5-linear_algebra.ipynb#Y160sZmlsZQ%3D%3D?line=1'>2</a>\u001b[0m b \u001b[39m=\u001b[39m np\u001b[39m.\u001b[39marray([\u001b[39m-\u001b[39m\u001b[39m19\u001b[39m,\u001b[39m-\u001b[39m\u001b[39m34\u001b[39m,\u001b[39m16\u001b[39m,\u001b[39m26\u001b[39m], dtype\u001b[39m=\u001b[39m\u001b[39mfloat\u001b[39m)\n",
      "\u001b[0;31mNameError\u001b[0m: name 'np' is not defined"
     ]
    }
   ],
   "source": [
    "A = np.array([[3,-13,9,3],[-6,4,1,-18],[6,-2,2,4],[12,-8,6,10]], dtype=float)\n",
    "b = np.array([-19,-34,16,26], dtype=float)"
   ]
  },
  {
   "cell_type": "code",
   "execution_count": null,
   "id": "fdd249c3",
   "metadata": {},
   "outputs": [],
   "source": [
    "l = SPP_Gauss(A)"
   ]
  },
  {
   "cell_type": "code",
   "execution_count": null,
   "id": "c587189a",
   "metadata": {},
   "outputs": [
    {
     "name": "stdout",
     "output_type": "stream",
     "text": [
      "[[  0.5        -12.           8.           1.        ]\n",
      " [ -1.          -0.16666667   4.33333333 -13.83333333]\n",
      " [  6.          -2.           2.           4.        ]\n",
      " [  2.           0.33333333  -0.15384615  -0.46153846]]\n"
     ]
    }
   ],
   "source": [
    "print(A)"
   ]
  },
  {
   "cell_type": "code",
   "execution_count": null,
   "id": "8cc5ea9c",
   "metadata": {},
   "outputs": [
    {
     "name": "stdout",
     "output_type": "stream",
     "text": [
      "[-19. -34.  16.  26.]\n"
     ]
    }
   ],
   "source": [
    "print(b)"
   ]
  },
  {
   "cell_type": "code",
   "execution_count": null,
   "id": "27c060e8",
   "metadata": {},
   "outputs": [
    {
     "name": "stdout",
     "output_type": "stream",
     "text": [
      "[2, 0, 1, 3]\n"
     ]
    }
   ],
   "source": [
    "print(l)"
   ]
  },
  {
   "cell_type": "markdown",
   "id": "12841e52",
   "metadata": {},
   "source": [
    "**(알고리즘)  Solve** \n",
    "```\n",
    "for k=1 to n-1 \n",
    "\tfor i=k+1 to n \n",
    "\t\tb_{l_i} <- b_{l_i} - a_{l_i,k} b_{l_k}\n",
    "\tend for \n",
    "end for\n",
    "```\n",
    "```\n",
    "x_n <- b_{l_n}/a_{l_n, n} \n",
    "for i= n-1 to 1 \n",
    "\tsum <- b_{l_i} \n",
    "\tfor j=i+1 to n \n",
    "\t\tsum <- sum - a_{l_i, j} x_j\n",
    "\tend for \n",
    "\tx_i <- sum/a_{l_i, i} \n",
    "end for\n",
    "```"
   ]
  },
  {
   "cell_type": "code",
   "execution_count": null,
   "id": "023618f2",
   "metadata": {},
   "outputs": [],
   "source": [
    "def Solve(A,l,b):\n",
    "    N = len(A)\n",
    "    x = [0 for j in range(N)]\n",
    "    for k in range(N-1):\n",
    "        for i in range(k+1,N):\n",
    "            b[l[i]] -= A[l[i]][k] * b[l[k]]\n",
    "    \n",
    "    x[-1] = b[l[-1]] / A[l[-1]][-1]\n",
    "    for i in range(N-2,-1,-1):\n",
    "        s = b[l[i]]\n",
    "        for j in range(i+1,N):\n",
    "            s -= A[l[i]][j] * x[j]\n",
    "        x[i] = s / A[l[i]][i]\n",
    "    return x"
   ]
  },
  {
   "cell_type": "code",
   "execution_count": null,
   "id": "24de0145",
   "metadata": {},
   "outputs": [],
   "source": [
    "x = Solve(A,l,b)"
   ]
  },
  {
   "cell_type": "code",
   "execution_count": null,
   "id": "fc313c5e",
   "metadata": {},
   "outputs": [
    {
     "name": "stdout",
     "output_type": "stream",
     "text": [
      "[3.0000000000000013, 0.9999999999999991, -2.0000000000000013, 0.9999999999999996]\n"
     ]
    }
   ],
   "source": [
    "print(x)"
   ]
  },
  {
   "cell_type": "markdown",
   "id": "91a8ad7e",
   "metadata": {},
   "source": [
    "**<span style=\"font-size: 20px; color: blue\">(Exercise 16)</span>** \n",
    "\n",
    "3중 대각 시스템의 해를 구하는 Tri()를 정의하시오.\n",
    "- 입력: n차원 벡터 $\\boldsymbol{d},\\ \\boldsymbol{b}$, n-1차원 벡터 $\\boldsymbol{a},\\ \\boldsymbol{c}$\n",
    "\n",
    "$$A x = b$$\n",
    "<br>\n",
    "\n",
    "$$\\left[\\begin{array}{rrrrrr}\n",
    "d_1& c_1 &  &  &  & \\\\\n",
    "a_1 & d_2 & c_2 &  &  & \\\\\n",
    " & a_2 & d_3 & c_3 &  & \\\\\n",
    " &  & \\ddots & \\ddots & \\ddots & \\\\\n",
    " &  &  & a_{n-2} & d_{n-1} & c_{n-1} \\\\\n",
    " &  &  &  &  a_{n-1} & d_n\n",
    "\\end{array}\\right] \\left[\\begin{array}{c} x_1 \\\\ x_2 \\\\ x_3 \\\\ \\vdots \\\\ x_{n-1} \\\\ x_n \\end{array}\\right] = \\left[\\begin{array}{c} b_1 \\\\ b_2 \\\\ b_3 \\\\ \\vdots \\\\ b_{n-1} \\\\ b_n \\end{array}\\right]$$\n",
    "\n",
    "<br>\n",
    "\n",
    "e.g.)\n",
    "\n",
    "$$A = \\left[\\begin{array}{rrrrr}\n",
    "2 & -1 & 0 & 0 & 0 \\\\\n",
    "-1 & 2 & -1 & 0 & 0 \\\\\n",
    "0 & -1 & 2 & -1 & 0 \\\\\n",
    "0 & 0 & -1 & 2 & -1 \\\\\n",
    "0 & 0 & 0 & -1 & 2 \\\\\n",
    "\\end{array}\\right], \\qquad b = \\left[\\begin{array}{c} 1 \\\\ 1 \\\\ 1 \\\\ 1 \\\\ 1 \\end{array}\\right]$$\n",
    "\n",
    "<br>\n",
    "\n",
    "**(알고리즘)  Tri** \n",
    "\n",
    "```\n",
    "for i = 2 to n\n",
    "\txmult <- a_{i-1} / d_{i-1}\n",
    "    d_i <- d_i - (xmult) c_{i-1}\n",
    "    b_i <- b_i - (xmult) b_{i-1}\n",
    "end for\n",
    "\n",
    "x_n <- b_{n}/d_{n} \n",
    "\n",
    "for i= n-1 to 1 \n",
    "\tx_i <- (b_i - c_i x_{i+1})/d_i\n",
    "end for\n",
    "```"
   ]
  },
  {
   "cell_type": "code",
   "execution_count": null,
   "id": "59ad5761",
   "metadata": {},
   "outputs": [],
   "source": [
    "def Tri(a,d,c,b):\n",
    "    N = len(d)\n",
    "    x = [0 for j in range(N)]\n",
    "    for i in range(1,N):\n",
    "        xmult = a[i-1]/d[i-1]\n",
    "        d[i] -= xmult * c[i-1]\n",
    "        b[i] -= xmult * b[i-1]\n",
    "    x[-1] = b[-1] / d[-1]\n",
    "    for i in range(N-2,-1,-1):\n",
    "        x[i] = (b[i] - c[i] * x[i+1]) / d[i]\n",
    "    return x"
   ]
  },
  {
   "cell_type": "code",
   "execution_count": null,
   "id": "dfaaf960",
   "metadata": {},
   "outputs": [],
   "source": [
    "a = [-1 for j in range(4)]\n",
    "b = [1 for j in range(5)]\n",
    "c = [-1 for j in range(4)]\n",
    "d = [2 for j in range(5)]"
   ]
  },
  {
   "cell_type": "code",
   "execution_count": null,
   "id": "f746f966",
   "metadata": {},
   "outputs": [],
   "source": [
    "x = Tri(a,d,c,b)"
   ]
  },
  {
   "cell_type": "code",
   "execution_count": null,
   "id": "e0d2d1ef",
   "metadata": {},
   "outputs": [
    {
     "data": {
      "text/plain": [
       "[2.5, 3.9999999999999996, 4.499999999999999, 4.0, 2.5]"
      ]
     },
     "execution_count": 202,
     "metadata": {},
     "output_type": "execute_result"
    }
   ],
   "source": [
    "x"
   ]
  },
  {
   "cell_type": "code",
   "execution_count": null,
   "id": "8176ee30",
   "metadata": {},
   "outputs": [],
   "source": []
  }
 ],
 "metadata": {
  "kernelspec": {
   "display_name": "Python 3 (ipykernel)",
   "language": "python",
   "name": "python3"
  },
  "language_info": {
   "codemirror_mode": {
    "name": "ipython",
    "version": 3
   },
   "file_extension": ".py",
   "mimetype": "text/x-python",
   "name": "python",
   "nbconvert_exporter": "python",
   "pygments_lexer": "ipython3",
   "version": "3.11.5"
  },
  "toc": {
   "base_numbering": 1,
   "nav_menu": {},
   "number_sections": true,
   "sideBar": true,
   "skip_h1_title": false,
   "title_cell": "Table of Contents",
   "title_sidebar": "Contents",
   "toc_cell": false,
   "toc_position": {},
   "toc_section_display": true,
   "toc_window_display": false
  },
  "varInspector": {
   "cols": {
    "lenName": 16,
    "lenType": 16,
    "lenVar": 40
   },
   "kernels_config": {
    "python": {
     "delete_cmd_postfix": "",
     "delete_cmd_prefix": "del ",
     "library": "var_list.py",
     "varRefreshCmd": "print(var_dic_list())"
    },
    "r": {
     "delete_cmd_postfix": ") ",
     "delete_cmd_prefix": "rm(",
     "library": "var_list.r",
     "varRefreshCmd": "cat(var_dic_list()) "
    }
   },
   "types_to_exclude": [
    "module",
    "function",
    "builtin_function_or_method",
    "instance",
    "_Feature"
   ],
   "window_display": false
  }
 },
 "nbformat": 4,
 "nbformat_minor": 5
}
