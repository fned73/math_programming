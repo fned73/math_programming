{
 "cells": [
  {
   "cell_type": "markdown",
   "id": "647dfe28",
   "metadata": {},
   "source": [
    "# 변수"
   ]
  },
  {
   "cell_type": "markdown",
   "id": "167e57df",
   "metadata": {},
   "source": [
    "데이터를 저장하는 메모리 공간의 이름\n",
    "- 쉽게 데이터에 접근할 수 있도록 메모리 특정 공간에 이름을 붙인 것\n",
    "- 내용을 다른 값으로 갱신할 수 있음"
   ]
  },
  {
   "cell_type": "markdown",
   "id": "b28c744e",
   "metadata": {},
   "source": [
    "변수명 = 저장할 값\n",
    "- ```a=6```과 같이 선언하면, 메모리 어딘가에 주소값을 할당받아 저장\n",
    "- 대소문자 구분에 유의"
   ]
  },
  {
   "cell_type": "code",
   "execution_count": 1,
   "id": "80060400",
   "metadata": {},
   "outputs": [],
   "source": [
    "a = 6\n",
    "b = 4\n",
    "a = a/b"
   ]
  },
  {
   "cell_type": "code",
   "execution_count": 2,
   "id": "405da7e4",
   "metadata": {},
   "outputs": [
    {
     "data": {
      "text/plain": [
       "1.5"
      ]
     },
     "execution_count": 2,
     "metadata": {},
     "output_type": "execute_result"
    }
   ],
   "source": [
    "a"
   ]
  },
  {
   "cell_type": "code",
   "execution_count": 3,
   "id": "c7ae24c7",
   "metadata": {},
   "outputs": [],
   "source": [
    "c = 3 + 2j\n",
    "d = 4 + 3j\n",
    "b = c + d"
   ]
  },
  {
   "cell_type": "code",
   "execution_count": 4,
   "id": "d851892a",
   "metadata": {
    "scrolled": true
   },
   "outputs": [
    {
     "name": "stdout",
     "output_type": "stream",
     "text": [
      "(7+5j)\n"
     ]
    }
   ],
   "source": [
    "print(b)"
   ]
  },
  {
   "cell_type": "code",
   "execution_count": 5,
   "id": "9e52b054",
   "metadata": {},
   "outputs": [],
   "source": [
    "head = \"수학\"\n",
    "tail = \"프로그래밍\""
   ]
  },
  {
   "cell_type": "code",
   "execution_count": 6,
   "id": "b0cb4817",
   "metadata": {},
   "outputs": [],
   "source": [
    "a = head * 5\n",
    "b = head + \"1\"*5\n",
    "c = (head + \"1\") * 5\n",
    "d = (head + \"\\n\") * 5"
   ]
  },
  {
   "cell_type": "code",
   "execution_count": 7,
   "id": "8aedf968",
   "metadata": {
    "scrolled": true
   },
   "outputs": [
    {
     "name": "stdout",
     "output_type": "stream",
     "text": [
      "수학수학수학수학수학\n",
      "수학11111\n",
      "수학1수학1수학1수학1수학1\n",
      "수학\n",
      "수학\n",
      "수학\n",
      "수학\n",
      "수학\n",
      "\n"
     ]
    }
   ],
   "source": [
    "print(a,b,c,d,sep=\"\\n\")"
   ]
  },
  {
   "cell_type": "code",
   "execution_count": 8,
   "id": "a5afac5c",
   "metadata": {},
   "outputs": [
    {
     "ename": "NameError",
     "evalue": "name 'f' is not defined",
     "output_type": "error",
     "traceback": [
      "\u001b[1;31m---------------------------------------------------------------------------\u001b[0m",
      "\u001b[1;31mNameError\u001b[0m                                 Traceback (most recent call last)",
      "Cell \u001b[1;32mIn[8], line 1\u001b[0m\n\u001b[1;32m----> 1\u001b[0m \u001b[43mf\u001b[49m\n",
      "\u001b[1;31mNameError\u001b[0m: name 'f' is not defined"
     ]
    }
   ],
   "source": [
    "f"
   ]
  },
  {
   "cell_type": "markdown",
   "id": "586c77b4",
   "metadata": {},
   "source": [
    "# 프린트(print) 함수"
   ]
  },
  {
   "cell_type": "markdown",
   "id": "222152ec",
   "metadata": {},
   "source": [
    "\n",
    "- ```print()``` 함수는 파이썬에서 화면에 출력하는 함수 \n",
    "- 다양한 종류의 데이터를 출력하거나 문자열을 조합하여 출력하는 등 다양한 용도로 사용"
   ]
  },
  {
   "cell_type": "markdown",
   "id": "20bb08b8",
   "metadata": {},
   "source": [
    "print(value1, value2, ..., sep=' ', end='\\n', file=sys.stdout, flush=False)\n",
    "\n",
    "- value1, value2, ... : 출력하고자 하는 값들을 나열\n",
    "- sep (optional) : 값들 사이에 들어갈 구분자를 지정. 기본값은 공백.\n",
    "- end (optional) : 출력의 마지막에 붙는 문자열을 지정. 기본값은 개행 문자(\\n).\n",
    "- file (optional) : 출력할 파일 객체를 지정. 기본값은 표준 출력(sys.stdout).\n",
    "- flush (optional) : 출력 버퍼를 비울지 여부를 지정. 기본값은 False."
   ]
  },
  {
   "cell_type": "markdown",
   "id": "b3574512",
   "metadata": {},
   "source": [
    "이스케이프 코드(escape code)\n",
    "\n",
    "- ```\\n```: 문자열 안에서 줄을 바꿀 때 사용\n",
    "\n",
    "- ```\\t```: 문자열 사이에 탬 간격을 줄 때 사용\n",
    "\n",
    "- ```\\\\```: 문자 \\를 그대로 표현할 때 사용\n",
    "\n",
    "- ```\\'```: 작은 따옴표를 그대로 표현할 때 사용\n",
    "\n",
    "- ```\\\"```: 큰 따옴표를 그대로 표현할 때 사용"
   ]
  },
  {
   "cell_type": "code",
   "execution_count": 9,
   "id": "7dfee969",
   "metadata": {},
   "outputs": [
    {
     "name": "stdout",
     "output_type": "stream",
     "text": [
      "Hello, Dongwook Shin !\n",
      "You are a professor .\n"
     ]
    }
   ],
   "source": [
    "name = \"Dongwook Shin\"\n",
    "job = \"professor\"\n",
    "\n",
    "print(\"Hello,\", name, \"!\")\n",
    "print(\"You are a\", job, \".\")"
   ]
  },
  {
   "cell_type": "code",
   "execution_count": 10,
   "id": "74388da3",
   "metadata": {},
   "outputs": [
    {
     "name": "stdout",
     "output_type": "stream",
     "text": [
      "one-two-three\n"
     ]
    }
   ],
   "source": [
    "print(\"one\", \"two\", \"three\", sep=\"-\")  # 출력: one-two-three"
   ]
  },
  {
   "cell_type": "code",
   "execution_count": 11,
   "id": "699b92ae",
   "metadata": {},
   "outputs": [
    {
     "name": "stdout",
     "output_type": "stream",
     "text": [
      "Hello\n",
      "World!\n"
     ]
    }
   ],
   "source": [
    "print(\"Hello\")\n",
    "print(\"World!\")"
   ]
  },
  {
   "cell_type": "code",
   "execution_count": 12,
   "id": "368a74fa",
   "metadata": {},
   "outputs": [
    {
     "name": "stdout",
     "output_type": "stream",
     "text": [
      "Hello World!\n"
     ]
    }
   ],
   "source": [
    "print(\"Hello\", end=\" \")\n",
    "print(\"World!\")  # 출력: Hello World!"
   ]
  },
  {
   "cell_type": "code",
   "execution_count": 13,
   "id": "f34351e7",
   "metadata": {},
   "outputs": [
    {
     "name": "stdout",
     "output_type": "stream",
     "text": [
      "This will be printed immediately.\n"
     ]
    }
   ],
   "source": [
    "file = open(\"output.txt\", \"w\")  # 파일 열기\n",
    "\n",
    "print(\"This is written to a file.\", file=file)\n",
    "print(\"This will be printed immediately.\", flush=True)\n",
    "\n",
    "file.close()  # 파일 닫기"
   ]
  },
  {
   "cell_type": "code",
   "execution_count": 14,
   "id": "eaaab0e4",
   "metadata": {},
   "outputs": [
    {
     "name": "stdout",
     "output_type": "stream",
     "text": [
      "0 1 2 3 4 5 6 7 8 9 "
     ]
    }
   ],
   "source": [
    "import time\n",
    "\n",
    "for i in range(10): \n",
    "    print(i, end =' ', flush = True) \n",
    "    time.sleep(1) "
   ]
  },
  {
   "cell_type": "code",
   "execution_count": 15,
   "id": "3b60fb9f",
   "metadata": {},
   "outputs": [
    {
     "name": "stdout",
     "output_type": "stream",
     "text": [
      "0 1 2 3 4 5 6 7 8 9 "
     ]
    }
   ],
   "source": [
    "for i in range(10):\n",
    "    print(i, end = ' ')\n",
    "    time.sleep(1) \n",
    "\n",
    "# 터미널에서 실행"
   ]
  },
  {
   "cell_type": "markdown",
   "id": "06dfe295",
   "metadata": {},
   "source": [
    "# 자료형"
   ]
  },
  {
   "cell_type": "markdown",
   "id": "cc16279d",
   "metadata": {},
   "source": [
    "## 숫자형(Number)"
   ]
  },
  {
   "cell_type": "markdown",
   "id": "496e3b8a",
   "metadata": {},
   "source": [
    "### 정수형(Integer)"
   ]
  },
  {
   "cell_type": "markdown",
   "id": "36ad6946",
   "metadata": {},
   "source": [
    "정수형은 소수점 없이 정수 값을 나타내는 자료형으로, 파이썬에서 매우 기본적이고 자주 사용되는 자료형 중 하나"
   ]
  },
  {
   "cell_type": "code",
   "execution_count": 16,
   "id": "6a8e35cd",
   "metadata": {},
   "outputs": [
    {
     "name": "stdout",
     "output_type": "stream",
     "text": [
      "Sum: 15\n",
      "Difference: 5\n"
     ]
    }
   ],
   "source": [
    "# 덧셈과 뺄셈 연산\n",
    "a = 10\n",
    "b = 5\n",
    "sum_result = a + b\n",
    "diff_result = a - b\n",
    "\n",
    "print(\"Sum:\", sum_result)\n",
    "print(\"Difference:\", diff_result)"
   ]
  },
  {
   "cell_type": "code",
   "execution_count": 17,
   "id": "05d7fea6",
   "metadata": {},
   "outputs": [
    {
     "name": "stdout",
     "output_type": "stream",
     "text": [
      "Multiplication: 20\n",
      "Division: 5.0\n"
     ]
    }
   ],
   "source": [
    "# 곱셈과 나눗셈 연산\n",
    "a = 10\n",
    "b = 2\n",
    "mul_result = a * b\n",
    "div_result = a / b\n",
    "\n",
    "print(\"Multiplication:\", mul_result)\n",
    "print(\"Division:\", div_result)"
   ]
  },
  {
   "cell_type": "code",
   "execution_count": 18,
   "id": "2ecb61b6",
   "metadata": {},
   "outputs": [
    {
     "name": "stdout",
     "output_type": "stream",
     "text": [
      "Result: 32\n"
     ]
    }
   ],
   "source": [
    "# 거듭제곱 연산\n",
    "base = 2\n",
    "exponent = 5\n",
    "result = base ** exponent\n",
    "\n",
    "print(\"Result:\", result)"
   ]
  },
  {
   "cell_type": "code",
   "execution_count": 19,
   "id": "09c61167",
   "metadata": {},
   "outputs": [
    {
     "name": "stdout",
     "output_type": "stream",
     "text": [
      "Remainder: 2\n",
      "Quotient: 6\n"
     ]
    }
   ],
   "source": [
    "# 나머지 연산과 몫 연산\n",
    "dividend = 20\n",
    "divisor = 3\n",
    "remainder = dividend % divisor\n",
    "quotient = dividend // divisor\n",
    "\n",
    "print(\"Remainder:\", remainder)\n",
    "print(\"Quotient:\", quotient)"
   ]
  },
  {
   "cell_type": "code",
   "execution_count": 20,
   "id": "bfed83e3",
   "metadata": {},
   "outputs": [
    {
     "name": "stdout",
     "output_type": "stream",
     "text": [
      "Converted Integer: 123\n"
     ]
    }
   ],
   "source": [
    "# 정수형 변환(문자열을 정수로 변환)\n",
    "num_str = \"123\"\n",
    "num_int = int(num_str)\n",
    "\n",
    "print(\"Converted Integer:\", num_int)"
   ]
  },
  {
   "cell_type": "code",
   "execution_count": 21,
   "id": "2aeb5782",
   "metadata": {},
   "outputs": [
    {
     "name": "stdout",
     "output_type": "stream",
     "text": [
      "<class 'int'>\n"
     ]
    }
   ],
   "source": [
    "# 자료형 확인\n",
    "num = 42\n",
    "print(type(num)) "
   ]
  },
  {
   "cell_type": "markdown",
   "id": "e80a4c9b",
   "metadata": {},
   "source": [
    "### 실수형"
   ]
  },
  {
   "cell_type": "markdown",
   "id": "9b99d07d",
   "metadata": {},
   "source": [
    "실수형은 소수점을 포함한 숫자를 나타내는 자료형으로, 파이썬에서 매우 기본적이고 자주 사용되는 자료형 중 하나"
   ]
  },
  {
   "cell_type": "code",
   "execution_count": 22,
   "id": "c144d6a3",
   "metadata": {},
   "outputs": [
    {
     "name": "stdout",
     "output_type": "stream",
     "text": [
      "Sum: 4.640000000000001\n",
      "Difference: 1.6400000000000001\n"
     ]
    }
   ],
   "source": [
    "# 덧셈과 뺄셈 연산\n",
    "a = 3.14\n",
    "b = 1.5\n",
    "sum_result = a + b\n",
    "diff_result = a - b\n",
    "\n",
    "print(\"Sum:\", sum_result)\n",
    "print(\"Difference:\", diff_result)"
   ]
  },
  {
   "cell_type": "code",
   "execution_count": 23,
   "id": "8f780ac2",
   "metadata": {},
   "outputs": [
    {
     "name": "stdout",
     "output_type": "stream",
     "text": [
      "Multiplication: 3.0\n",
      "Division: 2.0833333333333335\n"
     ]
    }
   ],
   "source": [
    "# 곱셈과 나눗셈 연산\n",
    "a = 2.5\n",
    "b = 1.2\n",
    "mul_result = a * b\n",
    "div_result = a / b\n",
    "\n",
    "print(\"Multiplication:\", mul_result)\n",
    "print(\"Division:\", div_result)"
   ]
  },
  {
   "cell_type": "code",
   "execution_count": 24,
   "id": "d5adebfc",
   "metadata": {},
   "outputs": [
    {
     "name": "stdout",
     "output_type": "stream",
     "text": [
      "Result: 8.0\n"
     ]
    }
   ],
   "source": [
    "# 거듭제곱 연산\n",
    "base = 2.0\n",
    "exponent = 3.0\n",
    "result = base ** exponent\n",
    "\n",
    "print(\"Result:\", result)"
   ]
  },
  {
   "cell_type": "code",
   "execution_count": 25,
   "id": "1d1f9e93",
   "metadata": {},
   "outputs": [
    {
     "name": "stdout",
     "output_type": "stream",
     "text": [
      "Converted Float: 10.0\n"
     ]
    }
   ],
   "source": [
    "# 실수형 변환(정수를 실수로 변환)\n",
    "num_int = 10\n",
    "num_float = float(num_int)\n",
    "\n",
    "print(\"Converted Float:\", num_float)"
   ]
  },
  {
   "cell_type": "code",
   "execution_count": 26,
   "id": "5e8be6b9",
   "metadata": {},
   "outputs": [
    {
     "name": "stdout",
     "output_type": "stream",
     "text": [
      "<class 'float'>\n"
     ]
    }
   ],
   "source": [
    "# 자료형 확인\n",
    "num = 3.14\n",
    "print(type(num)) "
   ]
  },
  {
   "cell_type": "code",
   "execution_count": 27,
   "id": "5a86b4fd",
   "metadata": {},
   "outputs": [
    {
     "name": "stdout",
     "output_type": "stream",
     "text": [
      "Rounded: 3.14\n"
     ]
    }
   ],
   "source": [
    "# 반올림 함수 사용\n",
    "number = 3.141592653589793\n",
    "rounded = round(number, 2)  # 소수점 둘째자리까지 반올림\n",
    "\n",
    "print(\"Rounded:\", rounded)"
   ]
  },
  {
   "cell_type": "code",
   "execution_count": 28,
   "id": "320baeb7",
   "metadata": {},
   "outputs": [
    {
     "name": "stdout",
     "output_type": "stream",
     "text": [
      "Sum Result: 7.5\n",
      "Multiplication Result: 12.5\n"
     ]
    }
   ],
   "source": [
    "# 실수형과 정수형 혼합 연산\n",
    "a = 5\n",
    "b = 2.5\n",
    "\n",
    "# 정수형과 실수형의 덧셈\n",
    "sum_result = a + b\n",
    "\n",
    "# 정수형과 실수형의 곱셈\n",
    "mul_result = a * b\n",
    "\n",
    "print(\"Sum Result:\", sum_result)\n",
    "print(\"Multiplication Result:\", mul_result)"
   ]
  },
  {
   "cell_type": "markdown",
   "id": "2ef143b1",
   "metadata": {},
   "source": [
    "### 8진수"
   ]
  },
  {
   "cell_type": "markdown",
   "id": "1a6720f3",
   "metadata": {},
   "source": [
    "8진수(octal)을 사용하기 위해서는 0o 또는 0O(숫자 0 + 알파벳 o 또는 O)로 시작"
   ]
  },
  {
   "cell_type": "code",
   "execution_count": 29,
   "id": "20b4dbd4",
   "metadata": {},
   "outputs": [
    {
     "name": "stdout",
     "output_type": "stream",
     "text": [
      "111\n"
     ]
    }
   ],
   "source": [
    "a = 0o157\n",
    "print(a)"
   ]
  },
  {
   "cell_type": "markdown",
   "id": "dcdb647c",
   "metadata": {},
   "source": [
    "0o157 = $1\\times 8^2 + 5\\times 8^1 + 7\\times 8^0 = 111$"
   ]
  },
  {
   "cell_type": "markdown",
   "id": "30f92ee2",
   "metadata": {},
   "source": [
    "### 16진수"
   ]
  },
  {
   "cell_type": "markdown",
   "id": "819f7df1",
   "metadata": {},
   "source": [
    "16진수(hexadecimal)를 사용하기 위해서는 0x 또는 0X로 시작\n",
    "\n",
    "- a 또는 A = 10\n",
    "- b 또는 B = 11\n",
    "- c 또는 C = 12\n",
    "- d 또는 D = 13\n",
    "- e 또는 E = 14\n",
    "- f 또는 F = 15"
   ]
  },
  {
   "cell_type": "code",
   "execution_count": 30,
   "id": "0f1e66a8",
   "metadata": {},
   "outputs": [
    {
     "name": "stdout",
     "output_type": "stream",
     "text": [
      "427\n"
     ]
    }
   ],
   "source": [
    "a = 0x1AB\n",
    "print(a)"
   ]
  },
  {
   "cell_type": "markdown",
   "id": "dff6bd52",
   "metadata": {},
   "source": [
    "0x1AB = $1\\times 16^2 + 10\\times 16^1 + 11\\times 16^0 = 427$"
   ]
  },
  {
   "cell_type": "code",
   "execution_count": 31,
   "id": "2cecc668",
   "metadata": {},
   "outputs": [
    {
     "name": "stdout",
     "output_type": "stream",
     "text": [
      "2812\n"
     ]
    }
   ],
   "source": [
    "b = 0Xafc\n",
    "print(b)"
   ]
  },
  {
   "cell_type": "markdown",
   "id": "aeea67c7",
   "metadata": {},
   "source": [
    "0Xafc = $10\\times 16^2 + 15\\times 16^1 + 12\\times 16^0 = 2812$"
   ]
  },
  {
   "cell_type": "markdown",
   "id": "307fe420",
   "metadata": {},
   "source": [
    "### 숫자형 자료의 연산"
   ]
  },
  {
   "cell_type": "code",
   "execution_count": 32,
   "id": "112b3180",
   "metadata": {},
   "outputs": [],
   "source": [
    "a = 3\n",
    "b = 2"
   ]
  },
  {
   "cell_type": "code",
   "execution_count": 33,
   "id": "dcfc7650",
   "metadata": {},
   "outputs": [
    {
     "data": {
      "text/plain": [
       "int"
      ]
     },
     "execution_count": 33,
     "metadata": {},
     "output_type": "execute_result"
    }
   ],
   "source": [
    "# 정수형 변수들의 덧셈 결과\n",
    "type(a + b)"
   ]
  },
  {
   "cell_type": "code",
   "execution_count": 34,
   "id": "7898dc6c",
   "metadata": {},
   "outputs": [
    {
     "data": {
      "text/plain": [
       "int"
      ]
     },
     "execution_count": 34,
     "metadata": {},
     "output_type": "execute_result"
    }
   ],
   "source": [
    "# 정수형 변수들의 뺄셈 결과\n",
    "type(a - b)"
   ]
  },
  {
   "cell_type": "code",
   "execution_count": 35,
   "id": "66d36f01",
   "metadata": {},
   "outputs": [
    {
     "data": {
      "text/plain": [
       "int"
      ]
     },
     "execution_count": 35,
     "metadata": {},
     "output_type": "execute_result"
    }
   ],
   "source": [
    "# 정수형 변수들의 곱셈 결과\n",
    "type(a * b)"
   ]
  },
  {
   "cell_type": "code",
   "execution_count": 36,
   "id": "8cc4a7c3",
   "metadata": {},
   "outputs": [
    {
     "data": {
      "text/plain": [
       "float"
      ]
     },
     "execution_count": 36,
     "metadata": {},
     "output_type": "execute_result"
    }
   ],
   "source": [
    "# 정수형 변수들의 나눗셈 결과\n",
    "type(a / b)"
   ]
  },
  {
   "cell_type": "code",
   "execution_count": 37,
   "id": "ea24b7af",
   "metadata": {},
   "outputs": [
    {
     "data": {
      "text/plain": [
       "int"
      ]
     },
     "execution_count": 37,
     "metadata": {},
     "output_type": "execute_result"
    }
   ],
   "source": [
    "# 정수형 변수들의 몫 결과\n",
    "type(a // b)"
   ]
  },
  {
   "cell_type": "code",
   "execution_count": 38,
   "id": "207568a6",
   "metadata": {},
   "outputs": [
    {
     "data": {
      "text/plain": [
       "int"
      ]
     },
     "execution_count": 38,
     "metadata": {},
     "output_type": "execute_result"
    }
   ],
   "source": [
    "# 정수형 변수들의 나머지 결과\n",
    "type(a % b)"
   ]
  },
  {
   "cell_type": "code",
   "execution_count": 39,
   "id": "79426fd2",
   "metadata": {},
   "outputs": [
    {
     "name": "stdout",
     "output_type": "stream",
     "text": [
      "4\n"
     ]
    }
   ],
   "source": [
    "a = 3\n",
    "a = a + 1\n",
    "print(a)"
   ]
  },
  {
   "cell_type": "code",
   "execution_count": 40,
   "id": "1da2625d",
   "metadata": {},
   "outputs": [
    {
     "name": "stdout",
     "output_type": "stream",
     "text": [
      "4\n"
     ]
    }
   ],
   "source": [
    "a = 3\n",
    "a += 1\n",
    "print(a)"
   ]
  },
  {
   "cell_type": "code",
   "execution_count": 41,
   "id": "d0f0d8e8",
   "metadata": {},
   "outputs": [
    {
     "name": "stdout",
     "output_type": "stream",
     "text": [
      "2\n"
     ]
    }
   ],
   "source": [
    "a = 3\n",
    "a = a - 1\n",
    "print(a)"
   ]
  },
  {
   "cell_type": "code",
   "execution_count": 42,
   "id": "654bc4b0",
   "metadata": {},
   "outputs": [
    {
     "name": "stdout",
     "output_type": "stream",
     "text": [
      "2\n"
     ]
    }
   ],
   "source": [
    "a = 3\n",
    "a -= 1\n",
    "print(a)"
   ]
  },
  {
   "cell_type": "code",
   "execution_count": 43,
   "id": "e878628c",
   "metadata": {},
   "outputs": [
    {
     "name": "stdout",
     "output_type": "stream",
     "text": [
      "6\n"
     ]
    }
   ],
   "source": [
    "a = 3\n",
    "a = a * 2\n",
    "print(a)"
   ]
  },
  {
   "cell_type": "code",
   "execution_count": 44,
   "id": "639bd430",
   "metadata": {},
   "outputs": [
    {
     "name": "stdout",
     "output_type": "stream",
     "text": [
      "6\n"
     ]
    }
   ],
   "source": [
    "a = 3\n",
    "a *= 2\n",
    "print(a)"
   ]
  },
  {
   "cell_type": "code",
   "execution_count": 45,
   "id": "1f90ec1b",
   "metadata": {},
   "outputs": [
    {
     "name": "stdout",
     "output_type": "stream",
     "text": [
      "1.5\n"
     ]
    }
   ],
   "source": [
    "a = 3\n",
    "a = a / 2\n",
    "print(a)"
   ]
  },
  {
   "cell_type": "code",
   "execution_count": 46,
   "id": "5cac7807",
   "metadata": {},
   "outputs": [
    {
     "name": "stdout",
     "output_type": "stream",
     "text": [
      "1.5\n"
     ]
    }
   ],
   "source": [
    "a = 3\n",
    "a /= 2\n",
    "print(a)"
   ]
  },
  {
   "cell_type": "code",
   "execution_count": 47,
   "id": "f4a6b499",
   "metadata": {},
   "outputs": [],
   "source": [
    "a = 2\n",
    "b = 3.5"
   ]
  },
  {
   "cell_type": "code",
   "execution_count": 48,
   "id": "1bce8c26",
   "metadata": {},
   "outputs": [
    {
     "data": {
      "text/plain": [
       "float"
      ]
     },
     "execution_count": 48,
     "metadata": {},
     "output_type": "execute_result"
    }
   ],
   "source": [
    "# 정수형 변수와 실수형 변수의 덧셈 결과\n",
    "type(a + b)"
   ]
  },
  {
   "cell_type": "code",
   "execution_count": 49,
   "id": "e24bde75",
   "metadata": {},
   "outputs": [
    {
     "data": {
      "text/plain": [
       "float"
      ]
     },
     "execution_count": 49,
     "metadata": {},
     "output_type": "execute_result"
    }
   ],
   "source": [
    "# 정수형 변수와 실수형 변수의 뺄셈 결과\n",
    "type(a - b)"
   ]
  },
  {
   "cell_type": "code",
   "execution_count": 50,
   "id": "ffc9e872",
   "metadata": {},
   "outputs": [
    {
     "data": {
      "text/plain": [
       "float"
      ]
     },
     "execution_count": 50,
     "metadata": {},
     "output_type": "execute_result"
    }
   ],
   "source": [
    "# 정수형 변수와 실수형 변수의 곱셈 결과\n",
    "type(a * b)"
   ]
  },
  {
   "cell_type": "code",
   "execution_count": 51,
   "id": "60bcfdd8",
   "metadata": {},
   "outputs": [
    {
     "data": {
      "text/plain": [
       "float"
      ]
     },
     "execution_count": 51,
     "metadata": {},
     "output_type": "execute_result"
    }
   ],
   "source": [
    "# 정수형 변수와 실수형 변수의 나눗셈 결과\n",
    "type(a / b)"
   ]
  },
  {
   "cell_type": "code",
   "execution_count": 52,
   "id": "a1d67cfd",
   "metadata": {},
   "outputs": [
    {
     "name": "stdout",
     "output_type": "stream",
     "text": [
      "0.0\n"
     ]
    },
    {
     "data": {
      "text/plain": [
       "float"
      ]
     },
     "execution_count": 52,
     "metadata": {},
     "output_type": "execute_result"
    }
   ],
   "source": [
    "# 정수형 변수와 실수형 변수의 몫 결과\n",
    "print(a // b)\n",
    "type(a // b)"
   ]
  },
  {
   "cell_type": "code",
   "execution_count": 53,
   "id": "4e551ab3",
   "metadata": {},
   "outputs": [
    {
     "name": "stdout",
     "output_type": "stream",
     "text": [
      "1.0\n"
     ]
    },
    {
     "data": {
      "text/plain": [
       "float"
      ]
     },
     "execution_count": 53,
     "metadata": {},
     "output_type": "execute_result"
    }
   ],
   "source": [
    "# 정수형 변수와 실수형 변수의 몫 결과\n",
    "print(b // a)\n",
    "type(b // a)"
   ]
  },
  {
   "cell_type": "code",
   "execution_count": 54,
   "id": "ccc53dea",
   "metadata": {},
   "outputs": [
    {
     "name": "stdout",
     "output_type": "stream",
     "text": [
      "2.0\n"
     ]
    },
    {
     "data": {
      "text/plain": [
       "float"
      ]
     },
     "execution_count": 54,
     "metadata": {},
     "output_type": "execute_result"
    }
   ],
   "source": [
    "# 정수형 변수와 실수형 변수의 나머지 결과\n",
    "print(a % b)\n",
    "type(a % b)"
   ]
  },
  {
   "cell_type": "code",
   "execution_count": 55,
   "id": "ca55bb6b",
   "metadata": {},
   "outputs": [
    {
     "name": "stdout",
     "output_type": "stream",
     "text": [
      "1.5\n"
     ]
    },
    {
     "data": {
      "text/plain": [
       "float"
      ]
     },
     "execution_count": 55,
     "metadata": {},
     "output_type": "execute_result"
    }
   ],
   "source": [
    "# 정수형 변수와 실수형 변수의 나머지 결과\n",
    "print(b % a)\n",
    "type(b % a)"
   ]
  },
  {
   "cell_type": "markdown",
   "id": "e1fbf750",
   "metadata": {},
   "source": [
    "## 부울형(Bool)"
   ]
  },
  {
   "cell_type": "markdown",
   "id": "bfe7ae49",
   "metadata": {},
   "source": [
    "### 부울형"
   ]
  },
  {
   "cell_type": "markdown",
   "id": "8dabf100",
   "metadata": {},
   "source": [
    "부울형은 True 또는 False 값을 가지는 자료형으로, 논리 연산의 결과나 조건문의 평가 결과 등에 사용"
   ]
  },
  {
   "cell_type": "code",
   "execution_count": 56,
   "id": "b548faa8",
   "metadata": {},
   "outputs": [
    {
     "name": "stdout",
     "output_type": "stream",
     "text": [
      "is_true: True\n",
      "is_false: False\n"
     ]
    }
   ],
   "source": [
    "# True와 False 값 직접 할당\n",
    "is_true = True\n",
    "is_false = False\n",
    "\n",
    "print(\"is_true:\", is_true)\n",
    "print(\"is_false:\", is_false)"
   ]
  },
  {
   "cell_type": "markdown",
   "id": "7178ed75",
   "metadata": {},
   "source": [
    "### 논리 연산"
   ]
  },
  {
   "cell_type": "code",
   "execution_count": 57,
   "id": "522bfc41",
   "metadata": {},
   "outputs": [
    {
     "name": "stdout",
     "output_type": "stream",
     "text": [
      "is_greater: True\n",
      "is_less: False\n",
      "is_equal: False\n",
      "is_not_equal: True\n",
      "is_greater_equal: True\n",
      "is_less_equal: False\n"
     ]
    }
   ],
   "source": [
    "# 크기 비교\n",
    "\n",
    "a = 10\n",
    "b = 5\n",
    "\n",
    "# 비교 연산 결과를 부울 변수에 할당\n",
    "is_greater = a > b\n",
    "is_less = a < b\n",
    "is_equal = a == b\n",
    "is_not_equal = a != b\n",
    "is_greater_equal = a >= b\n",
    "is_less_equal = a <= b\n",
    "\n",
    "print(\"is_greater:\", is_greater)\n",
    "print(\"is_less:\", is_less)\n",
    "print(\"is_equal:\", is_equal)\n",
    "print(\"is_not_equal:\", is_not_equal)\n",
    "print(\"is_greater_equal:\", is_greater_equal)\n",
    "print(\"is_less_equal:\", is_less_equal)"
   ]
  },
  {
   "cell_type": "code",
   "execution_count": 58,
   "id": "ddff5ea6",
   "metadata": {},
   "outputs": [
    {
     "name": "stdout",
     "output_type": "stream",
     "text": [
      "AND Result: False\n",
      "OR Result: True\n",
      "NOT x Result: False\n",
      "NOT y Result: True\n"
     ]
    }
   ],
   "source": [
    "x = True\n",
    "y = False\n",
    "\n",
    "# 논리 AND 연산의 결과\n",
    "result_and = x and y\n",
    "print(\"AND Result:\", result_and) \n",
    "\n",
    "# 논리 OR 연산의 결과\n",
    "result_or = x or y\n",
    "print(\"OR Result:\", result_or) \n",
    "\n",
    "# 논리 NOT 연산의 결과\n",
    "result_not_x = not x\n",
    "result_not_y = not y\n",
    "print(\"NOT x Result:\", result_not_x) \n",
    "print(\"NOT y Result:\", result_not_y)"
   ]
  },
  {
   "cell_type": "markdown",
   "id": "7b634e34",
   "metadata": {},
   "source": [
    "- all: 모든 항목이 참이면 True 반환\n",
    "- any: 하나라도 참이면 True 반환"
   ]
  },
  {
   "cell_type": "code",
   "execution_count": 59,
   "id": "2cd75d4a",
   "metadata": {},
   "outputs": [
    {
     "data": {
      "text/plain": [
       "True"
      ]
     },
     "execution_count": 59,
     "metadata": {},
     "output_type": "execute_result"
    }
   ],
   "source": [
    "all([True, 1, {3}])"
   ]
  },
  {
   "cell_type": "code",
   "execution_count": 60,
   "id": "caae2aa5",
   "metadata": {},
   "outputs": [
    {
     "data": {
      "text/plain": [
       "False"
      ]
     },
     "execution_count": 60,
     "metadata": {},
     "output_type": "execute_result"
    }
   ],
   "source": [
    "all([True, 1, {}])"
   ]
  },
  {
   "cell_type": "code",
   "execution_count": 61,
   "id": "4f64d64a",
   "metadata": {},
   "outputs": [
    {
     "data": {
      "text/plain": [
       "True"
      ]
     },
     "execution_count": 61,
     "metadata": {},
     "output_type": "execute_result"
    }
   ],
   "source": [
    "any([True, 1, {}])"
   ]
  },
  {
   "cell_type": "code",
   "execution_count": 62,
   "id": "1c69a954",
   "metadata": {},
   "outputs": [
    {
     "data": {
      "text/plain": [
       "False"
      ]
     },
     "execution_count": 62,
     "metadata": {},
     "output_type": "execute_result"
    }
   ],
   "source": [
    "any([False, 0, {}])"
   ]
  },
  {
   "cell_type": "markdown",
   "id": "95bf037d",
   "metadata": {},
   "source": [
    "## 문자형"
   ]
  },
  {
   "cell_type": "markdown",
   "id": "abecacd7",
   "metadata": {},
   "source": [
    "### 문자열(String)"
   ]
  },
  {
   "cell_type": "markdown",
   "id": "a71281a3",
   "metadata": {},
   "source": [
    "문자형은 문자들의 집합으로 이루어진 자료형으로, 따옴표(' ' 또는 \" \")로 둘러싸인 문자열을 사용"
   ]
  },
  {
   "cell_type": "code",
   "execution_count": 63,
   "id": "cf55e6ed",
   "metadata": {},
   "outputs": [
    {
     "name": "stdout",
     "output_type": "stream",
     "text": [
      "Hello, world!\n"
     ]
    }
   ],
   "source": [
    "# 문자열 변수 선언과 출력 (작은 따옴표)\n",
    "message = 'Hello, world!'\n",
    "print(message)"
   ]
  },
  {
   "cell_type": "code",
   "execution_count": 64,
   "id": "afe8351a",
   "metadata": {},
   "outputs": [
    {
     "name": "stdout",
     "output_type": "stream",
     "text": [
      "Hello, world!\n"
     ]
    }
   ],
   "source": [
    "# 문자열 변수 선언과 출력 (큰 따옴표)\n",
    "message = \"Hello, world!\"\n",
    "print(message)"
   ]
  },
  {
   "cell_type": "code",
   "execution_count": 65,
   "id": "ab75cbbc",
   "metadata": {},
   "outputs": [
    {
     "name": "stdout",
     "output_type": "stream",
     "text": [
      "\n",
      "Hello,\n",
      "this is a\n",
      "multiline string!\n",
      "\n"
     ]
    }
   ],
   "source": [
    "# 여러 줄의 문자열 (멀티라인 문자열)\n",
    "multiline_string = '''\n",
    "Hello,\n",
    "this is a\n",
    "multiline string!\n",
    "'''\n",
    "print(multiline_string)"
   ]
  },
  {
   "cell_type": "code",
   "execution_count": 66,
   "id": "b10a0ed5",
   "metadata": {},
   "outputs": [
    {
     "name": "stdout",
     "output_type": "stream",
     "text": [
      "\n",
      "Hello,\n",
      "this is a\n",
      "multiline string!\n",
      "\n"
     ]
    }
   ],
   "source": [
    "# 여러 줄의 문자열 (멀티라인 문자열)\n",
    "multiline_string = \"\"\"\n",
    "Hello,\n",
    "this is a\n",
    "multiline string!\n",
    "\"\"\"\n",
    "print(multiline_string)"
   ]
  },
  {
   "cell_type": "markdown",
   "id": "8f4b1d3d",
   "metadata": {},
   "source": [
    "문자열에 따옴표를 포함해야 할 경우 다른 조합을 사용"
   ]
  },
  {
   "cell_type": "code",
   "execution_count": 67,
   "id": "ce178b2a",
   "metadata": {},
   "outputs": [
    {
     "ename": "SyntaxError",
     "evalue": "invalid syntax (309457664.py, line 1)",
     "output_type": "error",
     "traceback": [
      "\u001b[1;36m  Cell \u001b[1;32mIn[67], line 1\u001b[1;36m\u001b[0m\n\u001b[1;33m    a = 'I'm happy'\u001b[0m\n\u001b[1;37m           ^\u001b[0m\n\u001b[1;31mSyntaxError\u001b[0m\u001b[1;31m:\u001b[0m invalid syntax\n"
     ]
    }
   ],
   "source": [
    "a = 'I'm happy'"
   ]
  },
  {
   "cell_type": "code",
   "execution_count": 68,
   "id": "a6ca5d7f",
   "metadata": {},
   "outputs": [
    {
     "name": "stdout",
     "output_type": "stream",
     "text": [
      "I'm happy\n"
     ]
    }
   ],
   "source": [
    "a = \"I'm happy\"\n",
    "print(a)"
   ]
  },
  {
   "cell_type": "code",
   "execution_count": 69,
   "id": "982145d9",
   "metadata": {},
   "outputs": [
    {
     "name": "stdout",
     "output_type": "stream",
     "text": [
      "I'm happy\n"
     ]
    }
   ],
   "source": [
    "# 백슬래시(\\)를 이용\n",
    "b = 'I\\'m happy'\n",
    "print(b)"
   ]
  },
  {
   "cell_type": "code",
   "execution_count": 70,
   "id": "18a9c912",
   "metadata": {},
   "outputs": [
    {
     "name": "stdout",
     "output_type": "stream",
     "text": [
      "Hello,\tNice to meet you.\n"
     ]
    }
   ],
   "source": [
    "c = 'Hello,\\tNice to meet you.'\n",
    "print(c)"
   ]
  },
  {
   "cell_type": "code",
   "execution_count": 71,
   "id": "bf9b2a8a",
   "metadata": {},
   "outputs": [
    {
     "name": "stdout",
     "output_type": "stream",
     "text": [
      "Hello,\n",
      "Nice to meet you.\n"
     ]
    }
   ],
   "source": [
    "c = 'Hello,\\nNice to meet you.'\n",
    "print(c)"
   ]
  },
  {
   "cell_type": "code",
   "execution_count": 72,
   "id": "eda7ab7e",
   "metadata": {},
   "outputs": [
    {
     "data": {
      "text/plain": [
       "'124'"
      ]
     },
     "execution_count": 72,
     "metadata": {},
     "output_type": "execute_result"
    }
   ],
   "source": [
    "'124' # 숫자형이 아닌 문자열"
   ]
  },
  {
   "cell_type": "code",
   "execution_count": 73,
   "id": "74c5f8ad",
   "metadata": {},
   "outputs": [
    {
     "data": {
      "text/plain": [
       "'Someone said, \"Math is not easy\". '"
      ]
     },
     "execution_count": 73,
     "metadata": {},
     "output_type": "execute_result"
    }
   ],
   "source": [
    "\"Someone said, \\\"Math is not easy\\\". \""
   ]
  },
  {
   "cell_type": "code",
   "execution_count": 74,
   "id": "1c7db5e8",
   "metadata": {},
   "outputs": [
    {
     "ename": "SyntaxError",
     "evalue": "(unicode error) 'unicodeescape' codec can't decode bytes in position 0-1: truncated \\uXXXX escape (964570768.py, line 1)",
     "output_type": "error",
     "traceback": [
      "\u001b[1;36m  Cell \u001b[1;32mIn[74], line 1\u001b[1;36m\u001b[0m\n\u001b[1;33m    \"\\usr\\library\\text\"\u001b[0m\n\u001b[1;37m    ^\u001b[0m\n\u001b[1;31mSyntaxError\u001b[0m\u001b[1;31m:\u001b[0m (unicode error) 'unicodeescape' codec can't decode bytes in position 0-1: truncated \\uXXXX escape\n"
     ]
    }
   ],
   "source": [
    "\"\\usr\\library\\text\""
   ]
  },
  {
   "cell_type": "code",
   "execution_count": 75,
   "id": "e073ebce",
   "metadata": {},
   "outputs": [
    {
     "data": {
      "text/plain": [
       "'\\\\usr\\\\library\\\\text'"
      ]
     },
     "execution_count": 75,
     "metadata": {},
     "output_type": "execute_result"
    }
   ],
   "source": [
    "\"\\\\usr\\\\library\\\\text\""
   ]
  },
  {
   "cell_type": "code",
   "execution_count": 76,
   "id": "ac96520b",
   "metadata": {},
   "outputs": [
    {
     "name": "stdout",
     "output_type": "stream",
     "text": [
      "\\usr\\library\\text\n"
     ]
    }
   ],
   "source": [
    "print(\"\\\\usr\\\\library\\\\text\")"
   ]
  },
  {
   "cell_type": "markdown",
   "id": "fe85f656",
   "metadata": {},
   "source": [
    "### 문자열 인덱싱(Indexing)과 슬라이싱(slicing)"
   ]
  },
  {
   "cell_type": "markdown",
   "id": "c693fc1b",
   "metadata": {},
   "source": [
    "#### 인덱싱"
   ]
  },
  {
   "cell_type": "markdown",
   "id": "bf85bba3",
   "metadata": {},
   "source": [
    "문자열은 각각의 문자가 고유의 번호(순서)를 가지고 있으며 이를 활용하여 각각의 문자를 호출할 수 있다."
   ]
  },
  {
   "cell_type": "code",
   "execution_count": 77,
   "id": "f656c45c",
   "metadata": {},
   "outputs": [],
   "source": [
    "a = 'Hello'"
   ]
  },
  {
   "cell_type": "code",
   "execution_count": 78,
   "id": "20338c1b",
   "metadata": {},
   "outputs": [
    {
     "data": {
      "text/plain": [
       "'H'"
      ]
     },
     "execution_count": 78,
     "metadata": {},
     "output_type": "execute_result"
    }
   ],
   "source": [
    "a[0]"
   ]
  },
  {
   "cell_type": "code",
   "execution_count": 79,
   "id": "e0bebc26",
   "metadata": {},
   "outputs": [
    {
     "data": {
      "text/plain": [
       "'e'"
      ]
     },
     "execution_count": 79,
     "metadata": {},
     "output_type": "execute_result"
    }
   ],
   "source": [
    "a[1]"
   ]
  },
  {
   "cell_type": "code",
   "execution_count": 80,
   "id": "e5b08d2e",
   "metadata": {},
   "outputs": [
    {
     "data": {
      "text/plain": [
       "'l'"
      ]
     },
     "execution_count": 80,
     "metadata": {},
     "output_type": "execute_result"
    }
   ],
   "source": [
    "a[2]"
   ]
  },
  {
   "cell_type": "code",
   "execution_count": 81,
   "id": "8fe18865",
   "metadata": {},
   "outputs": [
    {
     "data": {
      "text/plain": [
       "'l'"
      ]
     },
     "execution_count": 81,
     "metadata": {},
     "output_type": "execute_result"
    }
   ],
   "source": [
    "a[3]"
   ]
  },
  {
   "cell_type": "code",
   "execution_count": 82,
   "id": "08562eb4",
   "metadata": {},
   "outputs": [
    {
     "data": {
      "text/plain": [
       "'o'"
      ]
     },
     "execution_count": 82,
     "metadata": {},
     "output_type": "execute_result"
    }
   ],
   "source": [
    "a[4]"
   ]
  },
  {
   "cell_type": "code",
   "execution_count": 83,
   "id": "4af2b41a",
   "metadata": {},
   "outputs": [
    {
     "ename": "IndexError",
     "evalue": "string index out of range",
     "output_type": "error",
     "traceback": [
      "\u001b[1;31m---------------------------------------------------------------------------\u001b[0m",
      "\u001b[1;31mIndexError\u001b[0m                                Traceback (most recent call last)",
      "Cell \u001b[1;32mIn[83], line 1\u001b[0m\n\u001b[1;32m----> 1\u001b[0m \u001b[43ma\u001b[49m\u001b[43m[\u001b[49m\u001b[38;5;241;43m5\u001b[39;49m\u001b[43m]\u001b[49m\n",
      "\u001b[1;31mIndexError\u001b[0m: string index out of range"
     ]
    }
   ],
   "source": [
    "a[5]"
   ]
  },
  {
   "cell_type": "code",
   "execution_count": 84,
   "id": "73dec48a",
   "metadata": {},
   "outputs": [
    {
     "data": {
      "text/plain": [
       "'H'"
      ]
     },
     "execution_count": 84,
     "metadata": {},
     "output_type": "execute_result"
    }
   ],
   "source": [
    "a[-0]"
   ]
  },
  {
   "cell_type": "code",
   "execution_count": 85,
   "id": "dc301a5f",
   "metadata": {},
   "outputs": [
    {
     "data": {
      "text/plain": [
       "'o'"
      ]
     },
     "execution_count": 85,
     "metadata": {},
     "output_type": "execute_result"
    }
   ],
   "source": [
    "a[-1]"
   ]
  },
  {
   "cell_type": "code",
   "execution_count": 86,
   "id": "267f72f1",
   "metadata": {},
   "outputs": [
    {
     "data": {
      "text/plain": [
       "'l'"
      ]
     },
     "execution_count": 86,
     "metadata": {},
     "output_type": "execute_result"
    }
   ],
   "source": [
    "a[-2]"
   ]
  },
  {
   "cell_type": "code",
   "execution_count": 87,
   "id": "a937ad5e",
   "metadata": {},
   "outputs": [
    {
     "data": {
      "text/plain": [
       "'l'"
      ]
     },
     "execution_count": 87,
     "metadata": {},
     "output_type": "execute_result"
    }
   ],
   "source": [
    "a[-3]"
   ]
  },
  {
   "cell_type": "code",
   "execution_count": 88,
   "id": "e1da29ad",
   "metadata": {},
   "outputs": [
    {
     "data": {
      "text/plain": [
       "'e'"
      ]
     },
     "execution_count": 88,
     "metadata": {},
     "output_type": "execute_result"
    }
   ],
   "source": [
    "a[-4]"
   ]
  },
  {
   "cell_type": "code",
   "execution_count": 89,
   "id": "0db53ecb",
   "metadata": {},
   "outputs": [
    {
     "data": {
      "text/plain": [
       "'H'"
      ]
     },
     "execution_count": 89,
     "metadata": {},
     "output_type": "execute_result"
    }
   ],
   "source": [
    "a[-5]"
   ]
  },
  {
   "cell_type": "code",
   "execution_count": 90,
   "id": "a58ba9b1",
   "metadata": {},
   "outputs": [
    {
     "ename": "IndexError",
     "evalue": "string index out of range",
     "output_type": "error",
     "traceback": [
      "\u001b[1;31m---------------------------------------------------------------------------\u001b[0m",
      "\u001b[1;31mIndexError\u001b[0m                                Traceback (most recent call last)",
      "Cell \u001b[1;32mIn[90], line 1\u001b[0m\n\u001b[1;32m----> 1\u001b[0m \u001b[43ma\u001b[49m\u001b[43m[\u001b[49m\u001b[38;5;241;43m-\u001b[39;49m\u001b[38;5;241;43m6\u001b[39;49m\u001b[43m]\u001b[49m\n",
      "\u001b[1;31mIndexError\u001b[0m: string index out of range"
     ]
    }
   ],
   "source": [
    "a[-6]"
   ]
  },
  {
   "cell_type": "markdown",
   "id": "cee4802a",
   "metadata": {},
   "source": [
    " H  e  l  l  o  (5개의 문자)\n",
    " \n",
    " 0  1  2  3  4  (0~4)\n",
    " \n",
    "-5(=-0) -4 -3 -2 -1  (-5~-1)"
   ]
  },
  {
   "cell_type": "markdown",
   "id": "a00ea7ea",
   "metadata": {},
   "source": [
    "#### 슬라이싱"
   ]
  },
  {
   "cell_type": "markdown",
   "id": "e54f48a7",
   "metadata": {},
   "source": [
    "슬라이싱을 이용하면 여러 개의 문자를 호출할 수 있다."
   ]
  },
  {
   "cell_type": "code",
   "execution_count": 91,
   "id": "302c8bf8",
   "metadata": {},
   "outputs": [
    {
     "data": {
      "text/plain": [
       "'Hel'"
      ]
     },
     "execution_count": 91,
     "metadata": {},
     "output_type": "execute_result"
    }
   ],
   "source": [
    "a[0:3]"
   ]
  },
  {
   "cell_type": "code",
   "execution_count": 92,
   "id": "65f22139",
   "metadata": {},
   "outputs": [
    {
     "data": {
      "text/plain": [
       "'el'"
      ]
     },
     "execution_count": 92,
     "metadata": {},
     "output_type": "execute_result"
    }
   ],
   "source": [
    "a[1:3]"
   ]
  },
  {
   "cell_type": "code",
   "execution_count": 93,
   "id": "cf8c63ee",
   "metadata": {},
   "outputs": [
    {
     "data": {
      "text/plain": [
       "'ello'"
      ]
     },
     "execution_count": 93,
     "metadata": {},
     "output_type": "execute_result"
    }
   ],
   "source": [
    "a[1:]"
   ]
  },
  {
   "cell_type": "code",
   "execution_count": 94,
   "id": "dc1ee3a3",
   "metadata": {},
   "outputs": [
    {
     "data": {
      "text/plain": [
       "'Hell'"
      ]
     },
     "execution_count": 94,
     "metadata": {},
     "output_type": "execute_result"
    }
   ],
   "source": [
    "a[:4]"
   ]
  },
  {
   "cell_type": "code",
   "execution_count": 95,
   "id": "3563fcb9",
   "metadata": {},
   "outputs": [
    {
     "data": {
      "text/plain": [
       "'Hello'"
      ]
     },
     "execution_count": 95,
     "metadata": {},
     "output_type": "execute_result"
    }
   ],
   "source": [
    "a[:]"
   ]
  },
  {
   "cell_type": "code",
   "execution_count": 96,
   "id": "8fc659ce",
   "metadata": {},
   "outputs": [
    {
     "data": {
      "text/plain": [
       "'Hl'"
      ]
     },
     "execution_count": 96,
     "metadata": {},
     "output_type": "execute_result"
    }
   ],
   "source": [
    "a[0:3:2]"
   ]
  },
  {
   "cell_type": "markdown",
   "id": "20fae1ee",
   "metadata": {},
   "source": [
    "슬라이싱으로 문자열 나누기"
   ]
  },
  {
   "cell_type": "code",
   "execution_count": 97,
   "id": "dd89dd3f",
   "metadata": {},
   "outputs": [],
   "source": [
    "a = \"20230905Tue\"\n",
    "date = a[0:8]\n",
    "day = a[8:]"
   ]
  },
  {
   "cell_type": "code",
   "execution_count": 98,
   "id": "5d67f14b",
   "metadata": {},
   "outputs": [
    {
     "data": {
      "text/plain": [
       "'20230905'"
      ]
     },
     "execution_count": 98,
     "metadata": {},
     "output_type": "execute_result"
    }
   ],
   "source": [
    "date"
   ]
  },
  {
   "cell_type": "code",
   "execution_count": 99,
   "id": "3e787171",
   "metadata": {},
   "outputs": [
    {
     "data": {
      "text/plain": [
       "'Tue'"
      ]
     },
     "execution_count": 99,
     "metadata": {},
     "output_type": "execute_result"
    }
   ],
   "source": [
    "day"
   ]
  },
  {
   "cell_type": "markdown",
   "id": "fa67968d",
   "metadata": {},
   "source": [
    "### 문자열 연산"
   ]
  },
  {
   "cell_type": "code",
   "execution_count": 100,
   "id": "e68d4a42",
   "metadata": {},
   "outputs": [],
   "source": [
    "a = 'Hello, '\n",
    "b = 'World'"
   ]
  },
  {
   "cell_type": "markdown",
   "id": "898e5b24",
   "metadata": {},
   "source": [
    "문자열을 더해서 연결할 때 더하기(+) 사용"
   ]
  },
  {
   "cell_type": "code",
   "execution_count": 101,
   "id": "c80795e8",
   "metadata": {},
   "outputs": [
    {
     "data": {
      "text/plain": [
       "'Hello, World'"
      ]
     },
     "execution_count": 101,
     "metadata": {},
     "output_type": "execute_result"
    }
   ],
   "source": [
    "a + b"
   ]
  },
  {
   "cell_type": "markdown",
   "id": "069ff65a",
   "metadata": {},
   "source": [
    "문자열을 반복하고 싶을 때 곱하기(*) 사용"
   ]
  },
  {
   "cell_type": "code",
   "execution_count": 102,
   "id": "05e67035",
   "metadata": {},
   "outputs": [
    {
     "data": {
      "text/plain": [
       "'WorldWorldWorld'"
      ]
     },
     "execution_count": 102,
     "metadata": {},
     "output_type": "execute_result"
    }
   ],
   "source": [
    "b*3"
   ]
  },
  {
   "cell_type": "markdown",
   "id": "1ad30157",
   "metadata": {},
   "source": [
    "문자열의 길이"
   ]
  },
  {
   "cell_type": "code",
   "execution_count": 103,
   "id": "48553d53",
   "metadata": {},
   "outputs": [
    {
     "data": {
      "text/plain": [
       "7"
      ]
     },
     "execution_count": 103,
     "metadata": {},
     "output_type": "execute_result"
    }
   ],
   "source": [
    "len(a)"
   ]
  },
  {
   "cell_type": "code",
   "execution_count": 104,
   "id": "3bed86a3",
   "metadata": {},
   "outputs": [
    {
     "data": {
      "text/plain": [
       "5"
      ]
     },
     "execution_count": 104,
     "metadata": {},
     "output_type": "execute_result"
    }
   ],
   "source": [
    "len(b)"
   ]
  },
  {
   "cell_type": "markdown",
   "id": "82f3784a",
   "metadata": {},
   "source": [
    "문자열의 특정 문자 개수 세기"
   ]
  },
  {
   "cell_type": "code",
   "execution_count": 105,
   "id": "2c9d90e7",
   "metadata": {},
   "outputs": [
    {
     "data": {
      "text/plain": [
       "2"
      ]
     },
     "execution_count": 105,
     "metadata": {},
     "output_type": "execute_result"
    }
   ],
   "source": [
    "a.count('l')"
   ]
  },
  {
   "cell_type": "markdown",
   "id": "3ec5bec3",
   "metadata": {},
   "source": [
    "문자열의 특정 문자가 처음 나온 위치를 반환"
   ]
  },
  {
   "cell_type": "code",
   "execution_count": 106,
   "id": "68862842",
   "metadata": {},
   "outputs": [
    {
     "data": {
      "text/plain": [
       "2"
      ]
     },
     "execution_count": 106,
     "metadata": {},
     "output_type": "execute_result"
    }
   ],
   "source": [
    "a.index('l')"
   ]
  },
  {
   "cell_type": "markdown",
   "id": "fa60340d",
   "metadata": {},
   "source": [
    "문자열 수정"
   ]
  },
  {
   "cell_type": "code",
   "execution_count": 107,
   "id": "b4262de5",
   "metadata": {},
   "outputs": [],
   "source": [
    "a = 'Helko'"
   ]
  },
  {
   "cell_type": "code",
   "execution_count": 108,
   "id": "29b71763",
   "metadata": {},
   "outputs": [
    {
     "ename": "TypeError",
     "evalue": "'str' object does not support item assignment",
     "output_type": "error",
     "traceback": [
      "\u001b[1;31m---------------------------------------------------------------------------\u001b[0m",
      "\u001b[1;31mTypeError\u001b[0m                                 Traceback (most recent call last)",
      "Cell \u001b[1;32mIn[108], line 1\u001b[0m\n\u001b[1;32m----> 1\u001b[0m a[\u001b[38;5;241m3\u001b[39m] \u001b[38;5;241m=\u001b[39m \u001b[38;5;124m'\u001b[39m\u001b[38;5;124ml\u001b[39m\u001b[38;5;124m'\u001b[39m\n",
      "\u001b[1;31mTypeError\u001b[0m: 'str' object does not support item assignment"
     ]
    }
   ],
   "source": [
    "a[3] = 'l'"
   ]
  },
  {
   "cell_type": "code",
   "execution_count": 109,
   "id": "442d8021",
   "metadata": {},
   "outputs": [],
   "source": [
    "a = a[0:3] + 'l' + a[4:]"
   ]
  },
  {
   "cell_type": "code",
   "execution_count": 110,
   "id": "0d9e8456",
   "metadata": {},
   "outputs": [
    {
     "data": {
      "text/plain": [
       "'Hello'"
      ]
     },
     "execution_count": 110,
     "metadata": {},
     "output_type": "execute_result"
    }
   ],
   "source": [
    "a"
   ]
  },
  {
   "cell_type": "code",
   "execution_count": 111,
   "id": "f00efbca",
   "metadata": {},
   "outputs": [
    {
     "data": {
      "text/plain": [
       "'Hekko'"
      ]
     },
     "execution_count": 111,
     "metadata": {},
     "output_type": "execute_result"
    }
   ],
   "source": [
    "a.replace('l','k')"
   ]
  },
  {
   "cell_type": "markdown",
   "id": "70807bed",
   "metadata": {},
   "source": [
    "### 문자열 포맷팅(Formatting)"
   ]
  },
  {
   "cell_type": "markdown",
   "id": "26f6d501",
   "metadata": {},
   "source": [
    "문자열 포맷 코드\n",
    "\n",
    "```%d```:\t정수(Integer)\n",
    "\n",
    "```%c```:\t문자 1개(character)\n",
    "\n",
    "```%s```:\t문자열(String)\n",
    "\n",
    "```%f```:\t부동소수(floating-point)\n",
    "\n",
    "```%%```:\t문자 % 자체를 사용할 때"
   ]
  },
  {
   "cell_type": "code",
   "execution_count": 112,
   "id": "bc3bbb9c",
   "metadata": {},
   "outputs": [
    {
     "data": {
      "text/plain": [
       "'오늘 운동을 3시간 했다.'"
      ]
     },
     "execution_count": 112,
     "metadata": {},
     "output_type": "execute_result"
    }
   ],
   "source": [
    "\"오늘 운동을 %d시간 했다.\" % 3"
   ]
  },
  {
   "cell_type": "code",
   "execution_count": 113,
   "id": "061e1d72",
   "metadata": {},
   "outputs": [
    {
     "data": {
      "text/plain": [
       "'나는 수학프로그래밍 학점이 A 이다.'"
      ]
     },
     "execution_count": 113,
     "metadata": {},
     "output_type": "execute_result"
    }
   ],
   "source": [
    "\"나는 수학프로그래밍 학점이 %c 이다.\" % 'A'"
   ]
  },
  {
   "cell_type": "code",
   "execution_count": 114,
   "id": "3a476e35",
   "metadata": {},
   "outputs": [
    {
     "data": {
      "text/plain": [
       "'오늘 운동을 3시간 했다.'"
      ]
     },
     "execution_count": 114,
     "metadata": {},
     "output_type": "execute_result"
    }
   ],
   "source": [
    "\"오늘 운동을 %s시간 했다.\" % 3"
   ]
  },
  {
   "cell_type": "code",
   "execution_count": 115,
   "id": "6a10aad1",
   "metadata": {},
   "outputs": [
    {
     "data": {
      "text/plain": [
       "'나는 수학프로그래밍 학점이 A+ 이다.'"
      ]
     },
     "execution_count": 115,
     "metadata": {},
     "output_type": "execute_result"
    }
   ],
   "source": [
    "\"나는 수학프로그래밍 학점이 %s 이다.\" % 'A+'"
   ]
  },
  {
   "cell_type": "markdown",
   "id": "9af20cd7",
   "metadata": {},
   "source": [
    "숫자와 포맷 코드 함께 사용하기"
   ]
  },
  {
   "cell_type": "code",
   "execution_count": 116,
   "id": "e3d794c1",
   "metadata": {},
   "outputs": [
    {
     "data": {
      "text/plain": [
       "'   수학프로그래밍'"
      ]
     },
     "execution_count": 116,
     "metadata": {},
     "output_type": "execute_result"
    }
   ],
   "source": [
    "# 숫자는 자리수를 의미하며 오른쪽 정렬을 한다.\n",
    "\"%10s\" %'수학프로그래밍'"
   ]
  },
  {
   "cell_type": "code",
   "execution_count": 117,
   "id": "df09889d",
   "metadata": {},
   "outputs": [
    {
     "data": {
      "text/plain": [
       "10"
      ]
     },
     "execution_count": 117,
     "metadata": {},
     "output_type": "execute_result"
    }
   ],
   "source": [
    "len(\"%10s\" %'수학프로그래밍')"
   ]
  },
  {
   "cell_type": "code",
   "execution_count": 118,
   "id": "5cf1019d",
   "metadata": {},
   "outputs": [
    {
     "data": {
      "text/plain": [
       "'수학프로그래밍   '"
      ]
     },
     "execution_count": 118,
     "metadata": {},
     "output_type": "execute_result"
    }
   ],
   "source": [
    "# 숫자 앞에 -를 붙이면 왼쪽 정렬을 한다.\n",
    "\"%-10s\" %'수학프로그래밍'"
   ]
  },
  {
   "cell_type": "code",
   "execution_count": 119,
   "id": "d9d3765d",
   "metadata": {},
   "outputs": [
    {
     "data": {
      "text/plain": [
       "10"
      ]
     },
     "execution_count": 119,
     "metadata": {},
     "output_type": "execute_result"
    }
   ],
   "source": [
    "len(\"%-10s\" %'수학프로그래밍')"
   ]
  },
  {
   "cell_type": "code",
   "execution_count": 120,
   "id": "15adc7cd",
   "metadata": {},
   "outputs": [
    {
     "data": {
      "text/plain": [
       "'수학프로그래밍    열심히!'"
      ]
     },
     "execution_count": 120,
     "metadata": {},
     "output_type": "execute_result"
    }
   ],
   "source": [
    "\"%-10s 열심히!\" %'수학프로그래밍'"
   ]
  },
  {
   "cell_type": "code",
   "execution_count": 121,
   "id": "2b0b1ebe",
   "metadata": {},
   "outputs": [
    {
     "data": {
      "text/plain": [
       "15"
      ]
     },
     "execution_count": 121,
     "metadata": {},
     "output_type": "execute_result"
    }
   ],
   "source": [
    "len(\"%-10s 열심히!\" %'수학프로그래밍')"
   ]
  },
  {
   "cell_type": "code",
   "execution_count": 122,
   "id": "8aa37ae4",
   "metadata": {},
   "outputs": [
    {
     "data": {
      "text/plain": [
       "'23.4214'"
      ]
     },
     "execution_count": 122,
     "metadata": {},
     "output_type": "execute_result"
    }
   ],
   "source": [
    "# 소수점 표현\n",
    "\"%0.4f\" % 23.42136234"
   ]
  },
  {
   "cell_type": "code",
   "execution_count": 123,
   "id": "87582acc",
   "metadata": {},
   "outputs": [
    {
     "data": {
      "text/plain": [
       "'   23.4214'"
      ]
     },
     "execution_count": 123,
     "metadata": {},
     "output_type": "execute_result"
    }
   ],
   "source": [
    "\"%10.4f\" % 23.42136234"
   ]
  },
  {
   "cell_type": "code",
   "execution_count": 124,
   "id": "498c2677",
   "metadata": {},
   "outputs": [
    {
     "data": {
      "text/plain": [
       "10"
      ]
     },
     "execution_count": 124,
     "metadata": {},
     "output_type": "execute_result"
    }
   ],
   "source": [
    "len(\"%10.4f\" % 23.42136234)"
   ]
  },
  {
   "cell_type": "code",
   "execution_count": 125,
   "id": "a8c0589a",
   "metadata": {},
   "outputs": [
    {
     "data": {
      "text/plain": [
       "'23.4214'"
      ]
     },
     "execution_count": 125,
     "metadata": {},
     "output_type": "execute_result"
    }
   ],
   "source": [
    "\"%3.4f\" % 23.42136234"
   ]
  },
  {
   "cell_type": "code",
   "execution_count": 126,
   "id": "f779acdc",
   "metadata": {},
   "outputs": [
    {
     "data": {
      "text/plain": [
       "7"
      ]
     },
     "execution_count": 126,
     "metadata": {},
     "output_type": "execute_result"
    }
   ],
   "source": [
    "len(\"%3.4f\" % 23.42136234)"
   ]
  },
  {
   "cell_type": "code",
   "execution_count": 127,
   "id": "e9e22782",
   "metadata": {},
   "outputs": [
    {
     "data": {
      "text/plain": [
       "'23.4214   '"
      ]
     },
     "execution_count": 127,
     "metadata": {},
     "output_type": "execute_result"
    }
   ],
   "source": [
    "\"%-10.4f\" % 23.42136234"
   ]
  },
  {
   "cell_type": "markdown",
   "id": "5c9ed710",
   "metadata": {},
   "source": [
    "format 함수를 이용한 포맷팅"
   ]
  },
  {
   "cell_type": "code",
   "execution_count": 128,
   "id": "5d6db301",
   "metadata": {},
   "outputs": [
    {
     "data": {
      "text/plain": [
       "'나는 오늘 6시간 수업을 들었어'"
      ]
     },
     "execution_count": 128,
     "metadata": {},
     "output_type": "execute_result"
    }
   ],
   "source": [
    "'나는 오늘 {}시간 수업을 들었어'.format(6)"
   ]
  },
  {
   "cell_type": "code",
   "execution_count": 129,
   "id": "2b45ed1e",
   "metadata": {},
   "outputs": [
    {
     "data": {
      "text/plain": [
       "'나는 오늘 여섯시간 수업을 들었어'"
      ]
     },
     "execution_count": 129,
     "metadata": {},
     "output_type": "execute_result"
    }
   ],
   "source": [
    "'나는 오늘 {}시간 수업을 들었어'.format('여섯')"
   ]
  },
  {
   "cell_type": "code",
   "execution_count": 130,
   "id": "f652e9bf",
   "metadata": {},
   "outputs": [
    {
     "data": {
      "text/plain": [
       "'나는 오늘 수학프로그래밍과목 수업을 2시간 들었어'"
      ]
     },
     "execution_count": 130,
     "metadata": {},
     "output_type": "execute_result"
    }
   ],
   "source": [
    "# 2개 이상의 값 넣기\n",
    "'나는 오늘 {}과목 수업을 {}시간 들었어'.format('수학프로그래밍',2)"
   ]
  },
  {
   "cell_type": "code",
   "execution_count": 131,
   "id": "5a87cab3",
   "metadata": {},
   "outputs": [
    {
     "data": {
      "text/plain": [
       "'나는 오늘 수학프로그래밍과목 수업을 2시간 들었어'"
      ]
     },
     "execution_count": 131,
     "metadata": {},
     "output_type": "execute_result"
    }
   ],
   "source": [
    "# 숫자를 이용하여 2개 이상의 값 넣기\n",
    "'나는 오늘 {0}과목 수업을 {1}시간 들었어'.format('수학프로그래밍',2)"
   ]
  },
  {
   "cell_type": "code",
   "execution_count": 132,
   "id": "fca69b91",
   "metadata": {},
   "outputs": [
    {
     "data": {
      "text/plain": [
       "'나는 오늘 2과목 수업을 수학프로그래밍시간 들었어'"
      ]
     },
     "execution_count": 132,
     "metadata": {},
     "output_type": "execute_result"
    }
   ],
   "source": [
    "# 숫자를 이용하여 2개 이상의 값 넣기\n",
    "'나는 오늘 {1}과목 수업을 {0}시간 들었어'.format('수학프로그래밍',2)"
   ]
  },
  {
   "cell_type": "code",
   "execution_count": 133,
   "id": "2edf13fe",
   "metadata": {},
   "outputs": [
    {
     "data": {
      "text/plain": [
       "'hi        '"
      ]
     },
     "execution_count": 133,
     "metadata": {},
     "output_type": "execute_result"
    }
   ],
   "source": [
    "# 왼쪽 정렬\n",
    "\"{0:<10}\".format(\"hi\")"
   ]
  },
  {
   "cell_type": "code",
   "execution_count": 134,
   "id": "605d305d",
   "metadata": {},
   "outputs": [
    {
     "data": {
      "text/plain": [
       "'        hi'"
      ]
     },
     "execution_count": 134,
     "metadata": {},
     "output_type": "execute_result"
    }
   ],
   "source": [
    "# 오른쪽 정렬\n",
    "\"{0:>10}\".format(\"hi\")"
   ]
  },
  {
   "cell_type": "code",
   "execution_count": 135,
   "id": "4138cb51",
   "metadata": {},
   "outputs": [
    {
     "data": {
      "text/plain": [
       "'    hi    '"
      ]
     },
     "execution_count": 135,
     "metadata": {},
     "output_type": "execute_result"
    }
   ],
   "source": [
    "# 가운데 정렬\n",
    "\"{0:^10}\".format(\"hi\")"
   ]
  },
  {
   "cell_type": "code",
   "execution_count": 136,
   "id": "acec79d6",
   "metadata": {},
   "outputs": [
    {
     "data": {
      "text/plain": [
       "'====hi===='"
      ]
     },
     "execution_count": 136,
     "metadata": {},
     "output_type": "execute_result"
    }
   ],
   "source": [
    "# 공백 채우기\n",
    "\"{0:=^10}\".format(\"hi\")"
   ]
  },
  {
   "cell_type": "code",
   "execution_count": 137,
   "id": "20d94e1b",
   "metadata": {},
   "outputs": [
    {
     "data": {
      "text/plain": [
       "'hi!!!!!!!!'"
      ]
     },
     "execution_count": 137,
     "metadata": {},
     "output_type": "execute_result"
    }
   ],
   "source": [
    "\"{0:!<10}\".format(\"hi\")"
   ]
  },
  {
   "cell_type": "markdown",
   "id": "9444d269",
   "metadata": {},
   "source": [
    "f 문자열 포맷팅(3.6 버전 이상에서만 사용 가능)"
   ]
  },
  {
   "cell_type": "code",
   "execution_count": 138,
   "id": "abf05c5c",
   "metadata": {},
   "outputs": [
    {
     "data": {
      "text/plain": [
       "'나는 오늘 수학프로그래밍과목 수업을 3시간 들었어'"
      ]
     },
     "execution_count": 138,
     "metadata": {},
     "output_type": "execute_result"
    }
   ],
   "source": [
    "sub = '수학프로그래밍'\n",
    "hour = 3\n",
    "f'나는 오늘 {sub}과목 수업을 {hour}시간 들었어'"
   ]
  },
  {
   "cell_type": "code",
   "execution_count": 139,
   "id": "7a198fab",
   "metadata": {},
   "outputs": [
    {
     "data": {
      "text/plain": [
       "'나는 오늘 수학프로그래밍과목 수업을 2시간 들었어'"
      ]
     },
     "execution_count": 139,
     "metadata": {},
     "output_type": "execute_result"
    }
   ],
   "source": [
    "# 수식 계산 가능\n",
    "f'나는 오늘 {sub}과목 수업을 {hour-1}시간 들었어'"
   ]
  },
  {
   "cell_type": "markdown",
   "id": "9aee8716",
   "metadata": {},
   "source": [
    "## 리스트형(List)"
   ]
  },
  {
   "cell_type": "markdown",
   "id": "8637e2c7",
   "metadata": {},
   "source": [
    "### 리스트형 기본"
   ]
  },
  {
   "cell_type": "markdown",
   "id": "8ce24390",
   "metadata": {},
   "source": [
    "- 여러 값들을 모아서 저장하는 자료형\n",
    "- 여러 값들을 쉼표(,)로 구분하고 대괄호([ ])로 감싸서 표현<br>\n",
    "  리스트명 = [요소1, 요소2, 요소3, ...]"
   ]
  },
  {
   "cell_type": "code",
   "execution_count": 140,
   "id": "abd20edd",
   "metadata": {},
   "outputs": [
    {
     "name": "stdout",
     "output_type": "stream",
     "text": [
      "[1, 2, 3, 4, 5]\n"
     ]
    }
   ],
   "source": [
    "a = [1,2,3,4,5]\n",
    "print(a)"
   ]
  },
  {
   "cell_type": "code",
   "execution_count": 141,
   "id": "7d6c6687",
   "metadata": {},
   "outputs": [
    {
     "name": "stdout",
     "output_type": "stream",
     "text": [
      "[]\n",
      "[]\n",
      "['Math', 'is', 'hard']\n",
      "[1, 2, 'math']\n",
      "[1, [1, 2], 'math', ['hello,', 'world!']]\n"
     ]
    }
   ],
   "source": [
    "b = []\n",
    "c = list()\n",
    "d = ['Math', 'is', 'hard']\n",
    "e = [1, 2, 'math']\n",
    "f = [1, [1,2], 'math', ['hello,','world!']]\n",
    "print(b,c,d,e,f,sep='\\n')"
   ]
  },
  {
   "cell_type": "markdown",
   "id": "09f074b4",
   "metadata": {},
   "source": [
    "### 인덱싱"
   ]
  },
  {
   "cell_type": "code",
   "execution_count": 142,
   "id": "237eb8c4",
   "metadata": {},
   "outputs": [
    {
     "name": "stdout",
     "output_type": "stream",
     "text": [
      "[1, 2, 3]\n"
     ]
    }
   ],
   "source": [
    "a = [1,2,3]\n",
    "print(a)"
   ]
  },
  {
   "cell_type": "code",
   "execution_count": 143,
   "id": "7435ed9f",
   "metadata": {},
   "outputs": [
    {
     "data": {
      "text/plain": [
       "1"
      ]
     },
     "execution_count": 143,
     "metadata": {},
     "output_type": "execute_result"
    }
   ],
   "source": [
    "a[0]"
   ]
  },
  {
   "cell_type": "code",
   "execution_count": 144,
   "id": "35e487bb",
   "metadata": {},
   "outputs": [
    {
     "data": {
      "text/plain": [
       "2"
      ]
     },
     "execution_count": 144,
     "metadata": {},
     "output_type": "execute_result"
    }
   ],
   "source": [
    "a[1]"
   ]
  },
  {
   "cell_type": "code",
   "execution_count": 145,
   "id": "8856a3c8",
   "metadata": {},
   "outputs": [
    {
     "data": {
      "text/plain": [
       "3"
      ]
     },
     "execution_count": 145,
     "metadata": {},
     "output_type": "execute_result"
    }
   ],
   "source": [
    "a[2]"
   ]
  },
  {
   "cell_type": "code",
   "execution_count": 146,
   "id": "fa52f07d",
   "metadata": {},
   "outputs": [
    {
     "data": {
      "text/plain": [
       "3"
      ]
     },
     "execution_count": 146,
     "metadata": {},
     "output_type": "execute_result"
    }
   ],
   "source": [
    "a[-1]"
   ]
  },
  {
   "cell_type": "code",
   "execution_count": 147,
   "id": "0d5a177c",
   "metadata": {},
   "outputs": [
    {
     "data": {
      "text/plain": [
       "4"
      ]
     },
     "execution_count": 147,
     "metadata": {},
     "output_type": "execute_result"
    }
   ],
   "source": [
    "a[0] + a[2]"
   ]
  },
  {
   "cell_type": "code",
   "execution_count": 148,
   "id": "905794b5",
   "metadata": {},
   "outputs": [],
   "source": [
    "a = [1,2,3,['a','b']]"
   ]
  },
  {
   "cell_type": "code",
   "execution_count": 149,
   "id": "85c29c86",
   "metadata": {},
   "outputs": [
    {
     "data": {
      "text/plain": [
       "1"
      ]
     },
     "execution_count": 149,
     "metadata": {},
     "output_type": "execute_result"
    }
   ],
   "source": [
    "a[0]"
   ]
  },
  {
   "cell_type": "code",
   "execution_count": 150,
   "id": "ec615aad",
   "metadata": {},
   "outputs": [
    {
     "data": {
      "text/plain": [
       "2"
      ]
     },
     "execution_count": 150,
     "metadata": {},
     "output_type": "execute_result"
    }
   ],
   "source": [
    "a[1]"
   ]
  },
  {
   "cell_type": "code",
   "execution_count": 151,
   "id": "36b06b74",
   "metadata": {},
   "outputs": [
    {
     "data": {
      "text/plain": [
       "3"
      ]
     },
     "execution_count": 151,
     "metadata": {},
     "output_type": "execute_result"
    }
   ],
   "source": [
    "a[2]"
   ]
  },
  {
   "cell_type": "code",
   "execution_count": 152,
   "id": "cfab19b9",
   "metadata": {},
   "outputs": [
    {
     "data": {
      "text/plain": [
       "['a', 'b']"
      ]
     },
     "execution_count": 152,
     "metadata": {},
     "output_type": "execute_result"
    }
   ],
   "source": [
    "a[3]"
   ]
  },
  {
   "cell_type": "code",
   "execution_count": 153,
   "id": "9567a419",
   "metadata": {},
   "outputs": [
    {
     "data": {
      "text/plain": [
       "'a'"
      ]
     },
     "execution_count": 153,
     "metadata": {},
     "output_type": "execute_result"
    }
   ],
   "source": [
    "a[3][0]"
   ]
  },
  {
   "cell_type": "markdown",
   "id": "e6cab688",
   "metadata": {},
   "source": [
    "### 슬라이싱"
   ]
  },
  {
   "cell_type": "code",
   "execution_count": 154,
   "id": "8808531f",
   "metadata": {},
   "outputs": [],
   "source": [
    "a = [1,2,3,4,5,6,7]"
   ]
  },
  {
   "cell_type": "code",
   "execution_count": 155,
   "id": "0a38ea34",
   "metadata": {},
   "outputs": [
    {
     "data": {
      "text/plain": [
       "[1, 2]"
      ]
     },
     "execution_count": 155,
     "metadata": {},
     "output_type": "execute_result"
    }
   ],
   "source": [
    "a[0:2]"
   ]
  },
  {
   "cell_type": "markdown",
   "id": "29835c8e",
   "metadata": {},
   "source": [
    "문자열의 슬라이싱과 비교해보기"
   ]
  },
  {
   "cell_type": "code",
   "execution_count": 156,
   "id": "89951544",
   "metadata": {},
   "outputs": [],
   "source": [
    "a = [1,2,3,['a','b','c','d']]"
   ]
  },
  {
   "cell_type": "code",
   "execution_count": 157,
   "id": "66bf076a",
   "metadata": {},
   "outputs": [
    {
     "data": {
      "text/plain": [
       "[3, ['a', 'b', 'c', 'd']]"
      ]
     },
     "execution_count": 157,
     "metadata": {},
     "output_type": "execute_result"
    }
   ],
   "source": [
    "a[2:]"
   ]
  },
  {
   "cell_type": "code",
   "execution_count": 158,
   "id": "ceabdcc8",
   "metadata": {},
   "outputs": [
    {
     "data": {
      "text/plain": [
       "['c', 'd']"
      ]
     },
     "execution_count": 158,
     "metadata": {},
     "output_type": "execute_result"
    }
   ],
   "source": [
    "a[3][2:4]"
   ]
  },
  {
   "cell_type": "markdown",
   "id": "a41f2635",
   "metadata": {},
   "source": [
    "### 리스트의 연산"
   ]
  },
  {
   "cell_type": "code",
   "execution_count": 159,
   "id": "1c526e3d",
   "metadata": {},
   "outputs": [
    {
     "data": {
      "text/plain": [
       "[1, 2, 3, 4, 5]"
      ]
     },
     "execution_count": 159,
     "metadata": {},
     "output_type": "execute_result"
    }
   ],
   "source": [
    "a = [1,2]\n",
    "b = [3,4,5]\n",
    "a + b"
   ]
  },
  {
   "cell_type": "code",
   "execution_count": 160,
   "id": "5659d68d",
   "metadata": {},
   "outputs": [
    {
     "data": {
      "text/plain": [
       "[1, 2, 1, 2, 1, 2]"
      ]
     },
     "execution_count": 160,
     "metadata": {},
     "output_type": "execute_result"
    }
   ],
   "source": [
    "a * 3"
   ]
  },
  {
   "cell_type": "code",
   "execution_count": 161,
   "id": "a624ef02",
   "metadata": {},
   "outputs": [
    {
     "data": {
      "text/plain": [
       "2"
      ]
     },
     "execution_count": 161,
     "metadata": {},
     "output_type": "execute_result"
    }
   ],
   "source": [
    "len(a)"
   ]
  },
  {
   "cell_type": "code",
   "execution_count": 162,
   "id": "451ebb24",
   "metadata": {},
   "outputs": [
    {
     "ename": "TypeError",
     "evalue": "unsupported operand type(s) for +: 'int' and 'str'",
     "output_type": "error",
     "traceback": [
      "\u001b[1;31m---------------------------------------------------------------------------\u001b[0m",
      "\u001b[1;31mTypeError\u001b[0m                                 Traceback (most recent call last)",
      "Cell \u001b[1;32mIn[162], line 1\u001b[0m\n\u001b[1;32m----> 1\u001b[0m \u001b[43ma\u001b[49m\u001b[43m[\u001b[49m\u001b[38;5;241;43m1\u001b[39;49m\u001b[43m]\u001b[49m\u001b[43m \u001b[49m\u001b[38;5;241;43m+\u001b[39;49m\u001b[43m \u001b[49m\u001b[38;5;124;43m'\u001b[39;49m\u001b[38;5;124;43ma\u001b[39;49m\u001b[38;5;124;43m'\u001b[39;49m\n",
      "\u001b[1;31mTypeError\u001b[0m: unsupported operand type(s) for +: 'int' and 'str'"
     ]
    }
   ],
   "source": [
    "a[1] + 'a'"
   ]
  },
  {
   "cell_type": "code",
   "execution_count": 163,
   "id": "4050d7a4",
   "metadata": {},
   "outputs": [
    {
     "data": {
      "text/plain": [
       "'2a'"
      ]
     },
     "execution_count": 163,
     "metadata": {},
     "output_type": "execute_result"
    }
   ],
   "source": [
    "str(a[1]) + 'a'"
   ]
  },
  {
   "cell_type": "markdown",
   "id": "93e1ad49",
   "metadata": {},
   "source": [
    "### 리스트의 수정 및 삭제"
   ]
  },
  {
   "cell_type": "code",
   "execution_count": 164,
   "id": "4f295cdb",
   "metadata": {},
   "outputs": [],
   "source": [
    "a = [1,2,3,4,5]"
   ]
  },
  {
   "cell_type": "code",
   "execution_count": 165,
   "id": "2e741651",
   "metadata": {},
   "outputs": [
    {
     "data": {
      "text/plain": [
       "[1, 2, 6, 4, 5]"
      ]
     },
     "execution_count": 165,
     "metadata": {},
     "output_type": "execute_result"
    }
   ],
   "source": [
    "a[2] = 6\n",
    "a"
   ]
  },
  {
   "cell_type": "code",
   "execution_count": 166,
   "id": "bebe4c27",
   "metadata": {},
   "outputs": [
    {
     "data": {
      "text/plain": [
       "[1, 2, 4, 5]"
      ]
     },
     "execution_count": 166,
     "metadata": {},
     "output_type": "execute_result"
    }
   ],
   "source": [
    "del a[2]\n",
    "a"
   ]
  },
  {
   "cell_type": "code",
   "execution_count": 167,
   "id": "407a577b",
   "metadata": {},
   "outputs": [
    {
     "data": {
      "text/plain": [
       "[1, 2]"
      ]
     },
     "execution_count": 167,
     "metadata": {},
     "output_type": "execute_result"
    }
   ],
   "source": [
    "del a[2:]\n",
    "a"
   ]
  },
  {
   "cell_type": "markdown",
   "id": "423048b9",
   "metadata": {},
   "source": [
    "### 리스트 변수 복사"
   ]
  },
  {
   "cell_type": "code",
   "execution_count": 168,
   "id": "1c5000ea",
   "metadata": {},
   "outputs": [
    {
     "name": "stdout",
     "output_type": "stream",
     "text": [
      "[1, 2, 0] [1, 2, 0]\n"
     ]
    }
   ],
   "source": [
    "a = [1,2,3]\n",
    "b = a\n",
    "b[2] = 0\n",
    "print(a,b)"
   ]
  },
  {
   "cell_type": "markdown",
   "id": "03abd883",
   "metadata": {},
   "source": [
    "b = a와 같이 a를 b로 할당하면 a의 값이 b로 전부 입력되는 것이 아니고 b가 a의 주솟값을 참조<br>\n",
    "(b에 a를 할당하면 값이 할당되는 것이 아니라 같은 메모리 주소를 가지므로 b의 원소를 바뀌면 해당 주소의 값을 바꾸어 a의 원소도 바뀜)\n",
    "\n",
    "다른 변수에도 영향을 끼치도록 참조막 복사한 것을 얕은 복사라고 함"
   ]
  },
  {
   "cell_type": "code",
   "execution_count": 169,
   "id": "1d0f167c",
   "metadata": {},
   "outputs": [
    {
     "name": "stdout",
     "output_type": "stream",
     "text": [
      "[1, 2, 3] [1, 2, 0]\n"
     ]
    }
   ],
   "source": [
    "a = [1,2,3]\n",
    "b = a[:]\n",
    "b[2] = 0\n",
    "print(a,b)"
   ]
  },
  {
   "cell_type": "code",
   "execution_count": 170,
   "id": "4dcf123f",
   "metadata": {},
   "outputs": [
    {
     "name": "stdout",
     "output_type": "stream",
     "text": [
      "[1, 2, 3] [1, 2, 0]\n"
     ]
    }
   ],
   "source": [
    "a = [1,2,3]\n",
    "b = a.copy()\n",
    "b[2] = 0\n",
    "print(a,b)"
   ]
  },
  {
   "cell_type": "markdown",
   "id": "bc3d08c7",
   "metadata": {},
   "source": [
    "### 리스트 함수"
   ]
  },
  {
   "cell_type": "markdown",
   "id": "32c4cfd1",
   "metadata": {},
   "source": [
    "- append: 리스트의 맨 뒤에 값을 추가\n",
    "- sort: 리스트 요소를 순서대로 정렬\n",
    "- reverse: 리스트 요소의 순서를 역순으로 재배치\n",
    "- index: 해당 원소가 처음 나오는 인덱스 값을 반환\n",
    "- insert: a번째 위치에 b를 삽입\n",
    "- remove: 첫 번째로 나오는 값을 삭제\n",
    "- pop: 맨 뒤의 값을 리턴하고 해당 값을 삭제\n",
    "- count: 리스트에 포함된 값의 개수 세기\n",
    "- extend: 리스트를 더함 (+와 동일)"
   ]
  },
  {
   "cell_type": "code",
   "execution_count": 171,
   "id": "d7900c50",
   "metadata": {},
   "outputs": [],
   "source": [
    "a = [1,2,3,5,4]"
   ]
  },
  {
   "cell_type": "code",
   "execution_count": 172,
   "id": "535d8f12",
   "metadata": {},
   "outputs": [
    {
     "data": {
      "text/plain": [
       "[1, 2, 3, 5, 4, 1]"
      ]
     },
     "execution_count": 172,
     "metadata": {},
     "output_type": "execute_result"
    }
   ],
   "source": [
    "a.append(1)\n",
    "a"
   ]
  },
  {
   "cell_type": "code",
   "execution_count": 173,
   "id": "43707e56",
   "metadata": {},
   "outputs": [
    {
     "data": {
      "text/plain": [
       "[1, 1, 2, 3, 4, 5]"
      ]
     },
     "execution_count": 173,
     "metadata": {},
     "output_type": "execute_result"
    }
   ],
   "source": [
    "a.sort()\n",
    "a"
   ]
  },
  {
   "cell_type": "code",
   "execution_count": 174,
   "id": "af02224a",
   "metadata": {},
   "outputs": [
    {
     "data": {
      "text/plain": [
       "[5, 4, 3, 2, 1, 1]"
      ]
     },
     "execution_count": 174,
     "metadata": {},
     "output_type": "execute_result"
    }
   ],
   "source": [
    "a.reverse()\n",
    "a"
   ]
  },
  {
   "cell_type": "code",
   "execution_count": 175,
   "id": "d5ab7e41",
   "metadata": {},
   "outputs": [
    {
     "data": {
      "text/plain": [
       "4"
      ]
     },
     "execution_count": 175,
     "metadata": {},
     "output_type": "execute_result"
    }
   ],
   "source": [
    "a.index(1)"
   ]
  },
  {
   "cell_type": "code",
   "execution_count": 176,
   "id": "d41d2fd9",
   "metadata": {},
   "outputs": [
    {
     "data": {
      "text/plain": [
       "2"
      ]
     },
     "execution_count": 176,
     "metadata": {},
     "output_type": "execute_result"
    }
   ],
   "source": [
    "a.index(3)"
   ]
  },
  {
   "cell_type": "code",
   "execution_count": 177,
   "id": "36c1d341",
   "metadata": {},
   "outputs": [
    {
     "ename": "ValueError",
     "evalue": "7 is not in list",
     "output_type": "error",
     "traceback": [
      "\u001b[1;31m---------------------------------------------------------------------------\u001b[0m",
      "\u001b[1;31mValueError\u001b[0m                                Traceback (most recent call last)",
      "Cell \u001b[1;32mIn[177], line 1\u001b[0m\n\u001b[1;32m----> 1\u001b[0m \u001b[43ma\u001b[49m\u001b[38;5;241;43m.\u001b[39;49m\u001b[43mindex\u001b[49m\u001b[43m(\u001b[49m\u001b[38;5;241;43m7\u001b[39;49m\u001b[43m)\u001b[49m\n",
      "\u001b[1;31mValueError\u001b[0m: 7 is not in list"
     ]
    }
   ],
   "source": [
    "a.index(7)"
   ]
  },
  {
   "cell_type": "code",
   "execution_count": 178,
   "id": "197becc6",
   "metadata": {},
   "outputs": [
    {
     "data": {
      "text/plain": [
       "[5, 5, 4, 3, 2, 1, 1]"
      ]
     },
     "execution_count": 178,
     "metadata": {},
     "output_type": "execute_result"
    }
   ],
   "source": [
    "a.insert(1,5)\n",
    "a"
   ]
  },
  {
   "cell_type": "code",
   "execution_count": 179,
   "id": "b366b678",
   "metadata": {},
   "outputs": [],
   "source": [
    "a = [1,2,3,1,4,2,5]"
   ]
  },
  {
   "cell_type": "code",
   "execution_count": 180,
   "id": "cfc24d7f",
   "metadata": {},
   "outputs": [
    {
     "data": {
      "text/plain": [
       "[1, 3, 1, 4, 2, 5]"
      ]
     },
     "execution_count": 180,
     "metadata": {},
     "output_type": "execute_result"
    }
   ],
   "source": [
    "a.remove(2)\n",
    "a"
   ]
  },
  {
   "cell_type": "code",
   "execution_count": 181,
   "id": "c5a50201",
   "metadata": {},
   "outputs": [
    {
     "data": {
      "text/plain": [
       "[3, 1, 4, 2, 5]"
      ]
     },
     "execution_count": 181,
     "metadata": {},
     "output_type": "execute_result"
    }
   ],
   "source": [
    "a.remove(1)\n",
    "a"
   ]
  },
  {
   "cell_type": "code",
   "execution_count": 182,
   "id": "9d671473",
   "metadata": {},
   "outputs": [
    {
     "data": {
      "text/plain": [
       "5"
      ]
     },
     "execution_count": 182,
     "metadata": {},
     "output_type": "execute_result"
    }
   ],
   "source": [
    "a.pop()"
   ]
  },
  {
   "cell_type": "code",
   "execution_count": 183,
   "id": "b8072784",
   "metadata": {},
   "outputs": [
    {
     "data": {
      "text/plain": [
       "[3, 1, 4, 2]"
      ]
     },
     "execution_count": 183,
     "metadata": {},
     "output_type": "execute_result"
    }
   ],
   "source": [
    "a"
   ]
  },
  {
   "cell_type": "code",
   "execution_count": 184,
   "id": "152118a1",
   "metadata": {},
   "outputs": [
    {
     "data": {
      "text/plain": [
       "4"
      ]
     },
     "execution_count": 184,
     "metadata": {},
     "output_type": "execute_result"
    }
   ],
   "source": [
    "a.pop(2)"
   ]
  },
  {
   "cell_type": "code",
   "execution_count": 185,
   "id": "b22b28dd",
   "metadata": {},
   "outputs": [
    {
     "data": {
      "text/plain": [
       "[3, 1, 2]"
      ]
     },
     "execution_count": 185,
     "metadata": {},
     "output_type": "execute_result"
    }
   ],
   "source": [
    "a"
   ]
  },
  {
   "cell_type": "code",
   "execution_count": 186,
   "id": "af49ffc1",
   "metadata": {},
   "outputs": [
    {
     "data": {
      "text/plain": [
       "2"
      ]
     },
     "execution_count": 186,
     "metadata": {},
     "output_type": "execute_result"
    }
   ],
   "source": [
    "a = [1,2,3,1,4,2,5]\n",
    "a.count(2)"
   ]
  },
  {
   "cell_type": "code",
   "execution_count": 187,
   "id": "40b54db6",
   "metadata": {},
   "outputs": [],
   "source": [
    "a.extend([1,2])"
   ]
  },
  {
   "cell_type": "code",
   "execution_count": 188,
   "id": "2cdfcb6d",
   "metadata": {},
   "outputs": [
    {
     "data": {
      "text/plain": [
       "[1, 2, 3, 1, 4, 2, 5, 1, 2]"
      ]
     },
     "execution_count": 188,
     "metadata": {},
     "output_type": "execute_result"
    }
   ],
   "source": [
    "a"
   ]
  },
  {
   "cell_type": "code",
   "execution_count": 189,
   "id": "a27d05af",
   "metadata": {},
   "outputs": [
    {
     "data": {
      "text/plain": [
       "True"
      ]
     },
     "execution_count": 189,
     "metadata": {},
     "output_type": "execute_result"
    }
   ],
   "source": [
    "1 in a"
   ]
  },
  {
   "cell_type": "code",
   "execution_count": 190,
   "id": "eeb92e27",
   "metadata": {},
   "outputs": [
    {
     "data": {
      "text/plain": [
       "False"
      ]
     },
     "execution_count": 190,
     "metadata": {},
     "output_type": "execute_result"
    }
   ],
   "source": [
    "0 in a"
   ]
  },
  {
   "cell_type": "code",
   "execution_count": 191,
   "id": "194a7cdd",
   "metadata": {},
   "outputs": [
    {
     "data": {
      "text/plain": [
       "21"
      ]
     },
     "execution_count": 191,
     "metadata": {},
     "output_type": "execute_result"
    }
   ],
   "source": [
    "sum(a) # a의 합 구하기"
   ]
  },
  {
   "cell_type": "code",
   "execution_count": 192,
   "id": "e2d12588",
   "metadata": {},
   "outputs": [
    {
     "data": {
      "text/plain": [
       "[-4, 1, 2, 3]"
      ]
     },
     "execution_count": 192,
     "metadata": {},
     "output_type": "execute_result"
    }
   ],
   "source": [
    "a = [3,1,-4,2]\n",
    "a.sort()\n",
    "a"
   ]
  },
  {
   "cell_type": "code",
   "execution_count": 193,
   "id": "382a11cd",
   "metadata": {},
   "outputs": [
    {
     "data": {
      "text/plain": [
       "[-4, 1, 2, 3]"
      ]
     },
     "execution_count": 193,
     "metadata": {},
     "output_type": "execute_result"
    }
   ],
   "source": [
    "a = [3,1,-4,2]\n",
    "sorted(a)"
   ]
  },
  {
   "cell_type": "code",
   "execution_count": 194,
   "id": "d3ad62b6",
   "metadata": {},
   "outputs": [
    {
     "data": {
      "text/plain": [
       "[3, 1, -4, 2]"
      ]
     },
     "execution_count": 194,
     "metadata": {},
     "output_type": "execute_result"
    }
   ],
   "source": [
    "a"
   ]
  },
  {
   "cell_type": "code",
   "execution_count": 195,
   "id": "0b5b439b",
   "metadata": {},
   "outputs": [
    {
     "data": {
      "text/plain": [
       "[1, 2, 3, -4]"
      ]
     },
     "execution_count": 195,
     "metadata": {},
     "output_type": "execute_result"
    }
   ],
   "source": [
    "sorted(a, key=abs)"
   ]
  },
  {
   "cell_type": "code",
   "execution_count": 196,
   "id": "0c04f064",
   "metadata": {},
   "outputs": [
    {
     "data": {
      "text/plain": [
       "[-4, 3, 2, 1]"
      ]
     },
     "execution_count": 196,
     "metadata": {},
     "output_type": "execute_result"
    }
   ],
   "source": [
    "sorted(a, key=abs,reverse=True)"
   ]
  },
  {
   "cell_type": "markdown",
   "id": "27e9e8af",
   "metadata": {},
   "source": [
    "## 튜플형(Tuple)"
   ]
  },
  {
   "cell_type": "markdown",
   "id": "335c840a",
   "metadata": {},
   "source": [
    "### 튜플형 기본"
   ]
  },
  {
   "cell_type": "markdown",
   "id": "bf7d14c1",
   "metadata": {},
   "source": [
    "- 소괄호를 사용하여 정의\n",
    "- 기호 없이도 사용할 수 있으나 쉼표로 값을 구분\n",
    "- 읽기만 가능하고 변경할 수 없음\n",
    "- 인덱싱과 슬라이싱 가능\n",
    "- 요소가 1개일 때는 요소 뒤에 쉼표(,)를 반드시 붙여야 함"
   ]
  },
  {
   "cell_type": "code",
   "execution_count": 197,
   "id": "ef6b5920",
   "metadata": {},
   "outputs": [
    {
     "name": "stdout",
     "output_type": "stream",
     "text": [
      "()\n",
      "(1,)\n",
      "(1, 2, 3)\n",
      "(1, 2, 3)\n",
      "(1, 2, 'math')\n",
      "(1, (1, 2), 'math', ['hello,', 'world!'])\n"
     ]
    }
   ],
   "source": [
    "a = ()\n",
    "b = (1,)\n",
    "c = (1,2,3)\n",
    "d = 1,2,3\n",
    "e = (1, 2, 'math')\n",
    "f = (1, (1,2), 'math', ['hello,','world!'])\n",
    "print(a,b,c,d,e,f,sep='\\n')"
   ]
  },
  {
   "cell_type": "code",
   "execution_count": 198,
   "id": "3494237c",
   "metadata": {},
   "outputs": [
    {
     "data": {
      "text/plain": [
       "tuple"
      ]
     },
     "execution_count": 198,
     "metadata": {},
     "output_type": "execute_result"
    }
   ],
   "source": [
    "b = (1,)\n",
    "type(b)"
   ]
  },
  {
   "cell_type": "code",
   "execution_count": 199,
   "id": "c245c717",
   "metadata": {},
   "outputs": [
    {
     "data": {
      "text/plain": [
       "int"
      ]
     },
     "execution_count": 199,
     "metadata": {},
     "output_type": "execute_result"
    }
   ],
   "source": [
    "b = (1) # 튜플이 아님\n",
    "type(b)"
   ]
  },
  {
   "cell_type": "code",
   "execution_count": 200,
   "id": "61204b15",
   "metadata": {},
   "outputs": [
    {
     "ename": "TypeError",
     "evalue": "'tuple' object doesn't support item deletion",
     "output_type": "error",
     "traceback": [
      "\u001b[1;31m---------------------------------------------------------------------------\u001b[0m",
      "\u001b[1;31mTypeError\u001b[0m                                 Traceback (most recent call last)",
      "Cell \u001b[1;32mIn[200], line 1\u001b[0m\n\u001b[1;32m----> 1\u001b[0m \u001b[38;5;28;01mdel\u001b[39;00m f[\u001b[38;5;241m0\u001b[39m]\n",
      "\u001b[1;31mTypeError\u001b[0m: 'tuple' object doesn't support item deletion"
     ]
    }
   ],
   "source": [
    "del f[0]"
   ]
  },
  {
   "cell_type": "code",
   "execution_count": 201,
   "id": "df61c17f",
   "metadata": {},
   "outputs": [
    {
     "ename": "TypeError",
     "evalue": "'tuple' object does not support item assignment",
     "output_type": "error",
     "traceback": [
      "\u001b[1;31m---------------------------------------------------------------------------\u001b[0m",
      "\u001b[1;31mTypeError\u001b[0m                                 Traceback (most recent call last)",
      "Cell \u001b[1;32mIn[201], line 1\u001b[0m\n\u001b[1;32m----> 1\u001b[0m f[\u001b[38;5;241m0\u001b[39m] \u001b[38;5;241m=\u001b[39m \u001b[38;5;241m3\u001b[39m\n",
      "\u001b[1;31mTypeError\u001b[0m: 'tuple' object does not support item assignment"
     ]
    }
   ],
   "source": [
    "f[0] = 3"
   ]
  },
  {
   "cell_type": "markdown",
   "id": "c7e90765",
   "metadata": {},
   "source": [
    "### 인덱싱과 슬라이싱"
   ]
  },
  {
   "cell_type": "code",
   "execution_count": 202,
   "id": "e0eb1cd3",
   "metadata": {},
   "outputs": [
    {
     "data": {
      "text/plain": [
       "1"
      ]
     },
     "execution_count": 202,
     "metadata": {},
     "output_type": "execute_result"
    }
   ],
   "source": [
    "f[0]"
   ]
  },
  {
   "cell_type": "code",
   "execution_count": 203,
   "id": "1172e544",
   "metadata": {},
   "outputs": [
    {
     "data": {
      "text/plain": [
       "(1, 2)"
      ]
     },
     "execution_count": 203,
     "metadata": {},
     "output_type": "execute_result"
    }
   ],
   "source": [
    "f[1]"
   ]
  },
  {
   "cell_type": "code",
   "execution_count": 204,
   "id": "d230896b",
   "metadata": {},
   "outputs": [
    {
     "data": {
      "text/plain": [
       "['hello,', 'world!']"
      ]
     },
     "execution_count": 204,
     "metadata": {},
     "output_type": "execute_result"
    }
   ],
   "source": [
    "f[-1]"
   ]
  },
  {
   "cell_type": "code",
   "execution_count": 205,
   "id": "79e8f551",
   "metadata": {},
   "outputs": [
    {
     "data": {
      "text/plain": [
       "((1, 2), 'math', ['hello,', 'world!'])"
      ]
     },
     "execution_count": 205,
     "metadata": {},
     "output_type": "execute_result"
    }
   ],
   "source": [
    "f[1:]"
   ]
  },
  {
   "cell_type": "code",
   "execution_count": 206,
   "id": "e843e979",
   "metadata": {},
   "outputs": [
    {
     "data": {
      "text/plain": [
       "'world!'"
      ]
     },
     "execution_count": 206,
     "metadata": {},
     "output_type": "execute_result"
    }
   ],
   "source": [
    "f[-1][1]"
   ]
  },
  {
   "cell_type": "code",
   "execution_count": 207,
   "id": "767080b8",
   "metadata": {},
   "outputs": [],
   "source": [
    "f[-1][1] = 3"
   ]
  },
  {
   "cell_type": "code",
   "execution_count": 208,
   "id": "1ba1b33a",
   "metadata": {},
   "outputs": [
    {
     "data": {
      "text/plain": [
       "['hello,', 3]"
      ]
     },
     "execution_count": 208,
     "metadata": {},
     "output_type": "execute_result"
    }
   ],
   "source": [
    "f[-1]"
   ]
  },
  {
   "cell_type": "code",
   "execution_count": 209,
   "id": "c34a77da",
   "metadata": {},
   "outputs": [
    {
     "ename": "TypeError",
     "evalue": "'tuple' object does not support item assignment",
     "output_type": "error",
     "traceback": [
      "\u001b[1;31m---------------------------------------------------------------------------\u001b[0m",
      "\u001b[1;31mTypeError\u001b[0m                                 Traceback (most recent call last)",
      "Cell \u001b[1;32mIn[209], line 1\u001b[0m\n\u001b[1;32m----> 1\u001b[0m f[\u001b[38;5;241m-\u001b[39m\u001b[38;5;241m1\u001b[39m]\u001b[38;5;241m=\u001b[39m\u001b[38;5;241m3\u001b[39m\n",
      "\u001b[1;31mTypeError\u001b[0m: 'tuple' object does not support item assignment"
     ]
    }
   ],
   "source": [
    "f[-1]=3"
   ]
  },
  {
   "cell_type": "markdown",
   "id": "8d0e84f5",
   "metadata": {},
   "source": [
    "### 튜플의 연산"
   ]
  },
  {
   "cell_type": "code",
   "execution_count": 210,
   "id": "bde18c0c",
   "metadata": {},
   "outputs": [
    {
     "data": {
      "text/plain": [
       "(1, 2, 1, 2, 1, 2)"
      ]
     },
     "execution_count": 210,
     "metadata": {},
     "output_type": "execute_result"
    }
   ],
   "source": [
    "a = (1,2)\n",
    "a * 3"
   ]
  },
  {
   "cell_type": "code",
   "execution_count": 211,
   "id": "33288b83",
   "metadata": {},
   "outputs": [
    {
     "data": {
      "text/plain": [
       "(1, 2, 3, 4)"
      ]
     },
     "execution_count": 211,
     "metadata": {},
     "output_type": "execute_result"
    }
   ],
   "source": [
    "b = (3,4)\n",
    "a + b"
   ]
  },
  {
   "cell_type": "code",
   "execution_count": 212,
   "id": "23ff96bf",
   "metadata": {},
   "outputs": [
    {
     "data": {
      "text/plain": [
       "4"
      ]
     },
     "execution_count": 212,
     "metadata": {},
     "output_type": "execute_result"
    }
   ],
   "source": [
    "len(a+b)"
   ]
  },
  {
   "cell_type": "markdown",
   "id": "d20810fd",
   "metadata": {},
   "source": [
    "튜플은 요소값을 변경할 수 없으므로 sort, insert, remove, pop과 같은 내장 함수가 없음"
   ]
  },
  {
   "cell_type": "markdown",
   "id": "090b9e0f",
   "metadata": {},
   "source": [
    "## 집합형 (Set)"
   ]
  },
  {
   "cell_type": "markdown",
   "id": "c5775aa6",
   "metadata": {},
   "source": [
    "### 집합형 기본"
   ]
  },
  {
   "cell_type": "markdown",
   "id": "0080e477",
   "metadata": {},
   "source": [
    "- 요소를 콤마(,)로 구분하고 { }로 감싸서 선언\n",
    "- 문자열, 리스트, 튜플은 set 함수를 이용\n",
    "- 중복을 허용하지 않음\n",
    "- 순서가 없음 -> 인덱싱과 슬라이싱 불가"
   ]
  },
  {
   "cell_type": "code",
   "execution_count": 213,
   "id": "1113fe2a",
   "metadata": {},
   "outputs": [
    {
     "name": "stdout",
     "output_type": "stream",
     "text": [
      "{1, 2, 3}\n"
     ]
    },
    {
     "data": {
      "text/plain": [
       "set"
      ]
     },
     "execution_count": 213,
     "metadata": {},
     "output_type": "execute_result"
    }
   ],
   "source": [
    "a = {1,2,3}\n",
    "print(a)\n",
    "type(a)"
   ]
  },
  {
   "cell_type": "code",
   "execution_count": 214,
   "id": "aa9e0f1e",
   "metadata": {},
   "outputs": [
    {
     "data": {
      "text/plain": [
       "{1, 2, 3}"
      ]
     },
     "execution_count": 214,
     "metadata": {},
     "output_type": "execute_result"
    }
   ],
   "source": [
    "a = set([1,2,3])\n",
    "a"
   ]
  },
  {
   "cell_type": "code",
   "execution_count": 215,
   "id": "7f2e5e75",
   "metadata": {},
   "outputs": [
    {
     "data": {
      "text/plain": [
       "{1, 2, 3}"
      ]
     },
     "execution_count": 215,
     "metadata": {},
     "output_type": "execute_result"
    }
   ],
   "source": [
    "b = set((1,2,3))\n",
    "b"
   ]
  },
  {
   "cell_type": "code",
   "execution_count": 216,
   "id": "ddb740e0",
   "metadata": {},
   "outputs": [
    {
     "ename": "TypeError",
     "evalue": "set expected at most 1 argument, got 3",
     "output_type": "error",
     "traceback": [
      "\u001b[1;31m---------------------------------------------------------------------------\u001b[0m",
      "\u001b[1;31mTypeError\u001b[0m                                 Traceback (most recent call last)",
      "Cell \u001b[1;32mIn[216], line 1\u001b[0m\n\u001b[1;32m----> 1\u001b[0m c \u001b[38;5;241m=\u001b[39m \u001b[38;5;28;43mset\u001b[39;49m\u001b[43m(\u001b[49m\u001b[38;5;241;43m1\u001b[39;49m\u001b[43m,\u001b[49m\u001b[38;5;241;43m2\u001b[39;49m\u001b[43m,\u001b[49m\u001b[38;5;241;43m3\u001b[39;49m\u001b[43m)\u001b[49m\n",
      "\u001b[1;31mTypeError\u001b[0m: set expected at most 1 argument, got 3"
     ]
    }
   ],
   "source": [
    "c = set(1,2,3)"
   ]
  },
  {
   "cell_type": "code",
   "execution_count": 217,
   "id": "bce13c0e",
   "metadata": {},
   "outputs": [
    {
     "data": {
      "text/plain": [
       "{'M', 'a', 'c', 'e', 'h', 'i', 'm', 's', 't'}"
      ]
     },
     "execution_count": 217,
     "metadata": {},
     "output_type": "execute_result"
    }
   ],
   "source": [
    "c = set(\"Mathematics\")\n",
    "c"
   ]
  },
  {
   "cell_type": "code",
   "execution_count": 218,
   "id": "334badd6",
   "metadata": {},
   "outputs": [
    {
     "data": {
      "text/plain": [
       "{'Mathematics'}"
      ]
     },
     "execution_count": 218,
     "metadata": {},
     "output_type": "execute_result"
    }
   ],
   "source": [
    "c2 = {\"Mathematics\"}\n",
    "c2"
   ]
  },
  {
   "cell_type": "code",
   "execution_count": 219,
   "id": "525ce94f",
   "metadata": {},
   "outputs": [
    {
     "ename": "TypeError",
     "evalue": "'set' object is not subscriptable",
     "output_type": "error",
     "traceback": [
      "\u001b[1;31m---------------------------------------------------------------------------\u001b[0m",
      "\u001b[1;31mTypeError\u001b[0m                                 Traceback (most recent call last)",
      "Cell \u001b[1;32mIn[219], line 1\u001b[0m\n\u001b[1;32m----> 1\u001b[0m \u001b[43mc\u001b[49m\u001b[43m[\u001b[49m\u001b[38;5;241;43m1\u001b[39;49m\u001b[43m]\u001b[49m\n",
      "\u001b[1;31mTypeError\u001b[0m: 'set' object is not subscriptable"
     ]
    }
   ],
   "source": [
    "c[1]"
   ]
  },
  {
   "cell_type": "code",
   "execution_count": 220,
   "id": "4e823e35",
   "metadata": {},
   "outputs": [
    {
     "data": {
      "text/plain": [
       "['i', 'a', 'c', 't', 'e', 's']"
      ]
     },
     "execution_count": 220,
     "metadata": {},
     "output_type": "execute_result"
    }
   ],
   "source": [
    "d = list(c)\n",
    "d[3:]"
   ]
  },
  {
   "cell_type": "code",
   "execution_count": 221,
   "id": "cad3c7ba",
   "metadata": {},
   "outputs": [
    {
     "data": {
      "text/plain": [
       "('i', 'a', 'c', 't', 'e', 's')"
      ]
     },
     "execution_count": 221,
     "metadata": {},
     "output_type": "execute_result"
    }
   ],
   "source": [
    "e = tuple(c)\n",
    "e[3:]"
   ]
  },
  {
   "cell_type": "markdown",
   "id": "e4dda40e",
   "metadata": {},
   "source": [
    "### 집합형의 연산"
   ]
  },
  {
   "cell_type": "code",
   "execution_count": 222,
   "id": "0d1876d5",
   "metadata": {},
   "outputs": [],
   "source": [
    "a = set([1,2,3,4,5,6])\n",
    "b = set([2,4,6,8,10])"
   ]
  },
  {
   "cell_type": "markdown",
   "id": "1c96e48b",
   "metadata": {},
   "source": [
    "교집합"
   ]
  },
  {
   "cell_type": "code",
   "execution_count": 223,
   "id": "0632ca1d",
   "metadata": {},
   "outputs": [
    {
     "data": {
      "text/plain": [
       "{2, 4, 6}"
      ]
     },
     "execution_count": 223,
     "metadata": {},
     "output_type": "execute_result"
    }
   ],
   "source": [
    "a & b"
   ]
  },
  {
   "cell_type": "code",
   "execution_count": 224,
   "id": "be995f75",
   "metadata": {},
   "outputs": [
    {
     "data": {
      "text/plain": [
       "{2, 4, 6}"
      ]
     },
     "execution_count": 224,
     "metadata": {},
     "output_type": "execute_result"
    }
   ],
   "source": [
    "a.intersection(b)"
   ]
  },
  {
   "cell_type": "markdown",
   "id": "68f635cf",
   "metadata": {},
   "source": [
    "합집합"
   ]
  },
  {
   "cell_type": "code",
   "execution_count": 225,
   "id": "21f2032e",
   "metadata": {},
   "outputs": [
    {
     "data": {
      "text/plain": [
       "{1, 2, 3, 4, 5, 6, 8, 10}"
      ]
     },
     "execution_count": 225,
     "metadata": {},
     "output_type": "execute_result"
    }
   ],
   "source": [
    "a | b"
   ]
  },
  {
   "cell_type": "code",
   "execution_count": 226,
   "id": "f9ec085a",
   "metadata": {},
   "outputs": [
    {
     "data": {
      "text/plain": [
       "{1, 2, 3, 4, 5, 6, 8, 10}"
      ]
     },
     "execution_count": 226,
     "metadata": {},
     "output_type": "execute_result"
    }
   ],
   "source": [
    "a.union(b)"
   ]
  },
  {
   "cell_type": "markdown",
   "id": "e43b0e43",
   "metadata": {},
   "source": [
    "차집합"
   ]
  },
  {
   "cell_type": "code",
   "execution_count": 227,
   "id": "0da13bf1",
   "metadata": {},
   "outputs": [
    {
     "data": {
      "text/plain": [
       "{1, 3, 5}"
      ]
     },
     "execution_count": 227,
     "metadata": {},
     "output_type": "execute_result"
    }
   ],
   "source": [
    "a - b"
   ]
  },
  {
   "cell_type": "code",
   "execution_count": 228,
   "id": "0cefb1d6",
   "metadata": {},
   "outputs": [
    {
     "data": {
      "text/plain": [
       "{8, 10}"
      ]
     },
     "execution_count": 228,
     "metadata": {},
     "output_type": "execute_result"
    }
   ],
   "source": [
    "b - a"
   ]
  },
  {
   "cell_type": "markdown",
   "id": "3239a13d",
   "metadata": {},
   "source": [
    "값 추가하기"
   ]
  },
  {
   "cell_type": "code",
   "execution_count": 229,
   "id": "0dde8ce9",
   "metadata": {},
   "outputs": [
    {
     "data": {
      "text/plain": [
       "{1, 2, 3, 4, 5, 6, 7}"
      ]
     },
     "execution_count": 229,
     "metadata": {},
     "output_type": "execute_result"
    }
   ],
   "source": [
    "a.add(7)\n",
    "a"
   ]
  },
  {
   "cell_type": "code",
   "execution_count": 230,
   "id": "24f5f8f2",
   "metadata": {},
   "outputs": [
    {
     "data": {
      "text/plain": [
       "{1, 2, 3, 4, 5, 6, 7, 8, 9, 10}"
      ]
     },
     "execution_count": 230,
     "metadata": {},
     "output_type": "execute_result"
    }
   ],
   "source": [
    "a.update([8,9,10])\n",
    "a"
   ]
  },
  {
   "cell_type": "markdown",
   "id": "d31c1ae8",
   "metadata": {},
   "source": [
    "값 제거하기"
   ]
  },
  {
   "cell_type": "code",
   "execution_count": 231,
   "id": "aba5f69f",
   "metadata": {},
   "outputs": [
    {
     "data": {
      "text/plain": [
       "{2, 3, 4, 5, 6, 7, 8, 9, 10}"
      ]
     },
     "execution_count": 231,
     "metadata": {},
     "output_type": "execute_result"
    }
   ],
   "source": [
    "a.remove(1)\n",
    "a"
   ]
  },
  {
   "cell_type": "code",
   "execution_count": 232,
   "id": "f374931d",
   "metadata": {},
   "outputs": [
    {
     "ename": "KeyError",
     "evalue": "{9, 10}",
     "output_type": "error",
     "traceback": [
      "\u001b[1;31m---------------------------------------------------------------------------\u001b[0m",
      "\u001b[1;31mKeyError\u001b[0m                                  Traceback (most recent call last)",
      "Cell \u001b[1;32mIn[232], line 1\u001b[0m\n\u001b[1;32m----> 1\u001b[0m \u001b[43ma\u001b[49m\u001b[38;5;241;43m.\u001b[39;49m\u001b[43mremove\u001b[49m\u001b[43m(\u001b[49m\u001b[38;5;28;43mset\u001b[39;49m\u001b[43m(\u001b[49m\u001b[43m[\u001b[49m\u001b[38;5;241;43m9\u001b[39;49m\u001b[43m,\u001b[49m\u001b[38;5;241;43m10\u001b[39;49m\u001b[43m]\u001b[49m\u001b[43m)\u001b[49m\u001b[43m)\u001b[49m\n\u001b[0;32m      2\u001b[0m a\n",
      "\u001b[1;31mKeyError\u001b[0m: {9, 10}"
     ]
    }
   ],
   "source": [
    "a.remove(set([9,10]))\n",
    "a"
   ]
  },
  {
   "cell_type": "code",
   "execution_count": 233,
   "id": "e733bb36",
   "metadata": {},
   "outputs": [
    {
     "ename": "TypeError",
     "evalue": "unhashable type: 'list'",
     "output_type": "error",
     "traceback": [
      "\u001b[1;31m---------------------------------------------------------------------------\u001b[0m",
      "\u001b[1;31mTypeError\u001b[0m                                 Traceback (most recent call last)",
      "Cell \u001b[1;32mIn[233], line 1\u001b[0m\n\u001b[1;32m----> 1\u001b[0m \u001b[43ma\u001b[49m\u001b[38;5;241;43m.\u001b[39;49m\u001b[43mremove\u001b[49m\u001b[43m(\u001b[49m\u001b[43m[\u001b[49m\u001b[38;5;241;43m9\u001b[39;49m\u001b[43m,\u001b[49m\u001b[38;5;241;43m10\u001b[39;49m\u001b[43m]\u001b[49m\u001b[43m)\u001b[49m\n\u001b[0;32m      2\u001b[0m a\n",
      "\u001b[1;31mTypeError\u001b[0m: unhashable type: 'list'"
     ]
    }
   ],
   "source": [
    "a.remove([9,10])\n",
    "a"
   ]
  },
  {
   "cell_type": "markdown",
   "id": "a10f4ba3",
   "metadata": {},
   "source": [
    "원소 개수 세기"
   ]
  },
  {
   "cell_type": "code",
   "execution_count": 234,
   "id": "c9a4e51d",
   "metadata": {},
   "outputs": [
    {
     "data": {
      "text/plain": [
       "9"
      ]
     },
     "execution_count": 234,
     "metadata": {},
     "output_type": "execute_result"
    }
   ],
   "source": [
    "len(a)"
   ]
  },
  {
   "cell_type": "markdown",
   "id": "ec5cb09f",
   "metadata": {},
   "source": [
    "## 딕셔너리형(Dictionary)"
   ]
  },
  {
   "cell_type": "markdown",
   "id": "85484245",
   "metadata": {},
   "source": [
    "### 딕셔너리형 기본"
   ]
  },
  {
   "cell_type": "markdown",
   "id": "69854219",
   "metadata": {},
   "source": [
    "- 딕셔너리는 집합과 유사하게 중괄호를 사용하여 선언\n",
    "- 집합형과 헷갈릴 수 있으므로 dict 함수 이용 권장\n",
    "- 키(key)와 값(value)을 한 쌍으로 지정\n",
    "- 키는 고유값으로 인덱스와 같은 기능 - 변경 불가\n",
    "- 집합처럼 자료를 중복 지정할 수 없음"
   ]
  },
  {
   "cell_type": "code",
   "execution_count": 235,
   "id": "5610b757",
   "metadata": {},
   "outputs": [
    {
     "data": {
      "text/plain": [
       "{}"
      ]
     },
     "execution_count": 235,
     "metadata": {},
     "output_type": "execute_result"
    }
   ],
   "source": [
    "a = dict()\n",
    "a"
   ]
  },
  {
   "cell_type": "code",
   "execution_count": 236,
   "id": "f0a6afbe",
   "metadata": {},
   "outputs": [
    {
     "data": {
      "text/plain": [
       "dict"
      ]
     },
     "execution_count": 236,
     "metadata": {},
     "output_type": "execute_result"
    }
   ],
   "source": [
    "type(a)"
   ]
  },
  {
   "cell_type": "code",
   "execution_count": 237,
   "id": "4cf17899",
   "metadata": {},
   "outputs": [
    {
     "data": {
      "text/plain": [
       "{'a': 1, 'b': 2, 3: 'c'}"
      ]
     },
     "execution_count": 237,
     "metadata": {},
     "output_type": "execute_result"
    }
   ],
   "source": [
    "a = {'a': 1, 'b': 2, 3: 'c'}\n",
    "a"
   ]
  },
  {
   "cell_type": "code",
   "execution_count": 238,
   "id": "58a0822c",
   "metadata": {},
   "outputs": [
    {
     "data": {
      "text/plain": [
       "dict"
      ]
     },
     "execution_count": 238,
     "metadata": {},
     "output_type": "execute_result"
    }
   ],
   "source": [
    "type(a)"
   ]
  },
  {
   "cell_type": "code",
   "execution_count": 239,
   "id": "577ce633",
   "metadata": {},
   "outputs": [
    {
     "data": {
      "text/plain": [
       "1"
      ]
     },
     "execution_count": 239,
     "metadata": {},
     "output_type": "execute_result"
    }
   ],
   "source": [
    "a['a']"
   ]
  },
  {
   "cell_type": "code",
   "execution_count": 240,
   "id": "1b325e2b",
   "metadata": {},
   "outputs": [
    {
     "data": {
      "text/plain": [
       "2"
      ]
     },
     "execution_count": 240,
     "metadata": {},
     "output_type": "execute_result"
    }
   ],
   "source": [
    "a['b']"
   ]
  },
  {
   "cell_type": "code",
   "execution_count": 241,
   "id": "9297c13e",
   "metadata": {},
   "outputs": [
    {
     "data": {
      "text/plain": [
       "'c'"
      ]
     },
     "execution_count": 241,
     "metadata": {},
     "output_type": "execute_result"
    }
   ],
   "source": [
    "a[3]"
   ]
  },
  {
   "cell_type": "code",
   "execution_count": 242,
   "id": "0f22ab84",
   "metadata": {},
   "outputs": [
    {
     "ename": "TypeError",
     "evalue": "unhashable type: 'list'",
     "output_type": "error",
     "traceback": [
      "\u001b[1;31m---------------------------------------------------------------------------\u001b[0m",
      "\u001b[1;31mTypeError\u001b[0m                                 Traceback (most recent call last)",
      "Cell \u001b[1;32mIn[242], line 1\u001b[0m\n\u001b[1;32m----> 1\u001b[0m b \u001b[38;5;241m=\u001b[39m {[\u001b[38;5;124m'\u001b[39m\u001b[38;5;124ma\u001b[39m\u001b[38;5;124m'\u001b[39m,\u001b[38;5;124m'\u001b[39m\u001b[38;5;124mb\u001b[39m\u001b[38;5;124m'\u001b[39m]: \u001b[38;5;241m5\u001b[39m}\n",
      "\u001b[1;31mTypeError\u001b[0m: unhashable type: 'list'"
     ]
    }
   ],
   "source": [
    "b = {['a','b']: 5}"
   ]
  },
  {
   "cell_type": "code",
   "execution_count": 243,
   "id": "44caae92",
   "metadata": {},
   "outputs": [],
   "source": [
    "b = {('a','b'): 5}"
   ]
  },
  {
   "cell_type": "code",
   "execution_count": 244,
   "id": "e0b982be",
   "metadata": {},
   "outputs": [
    {
     "data": {
      "text/plain": [
       "5"
      ]
     },
     "execution_count": 244,
     "metadata": {},
     "output_type": "execute_result"
    }
   ],
   "source": [
    "b[('a','b')]"
   ]
  },
  {
   "cell_type": "code",
   "execution_count": 245,
   "id": "14e6291e",
   "metadata": {},
   "outputs": [],
   "source": [
    "c = {'abc': 5}"
   ]
  },
  {
   "cell_type": "code",
   "execution_count": 246,
   "id": "9a1dfeb5",
   "metadata": {},
   "outputs": [
    {
     "data": {
      "text/plain": [
       "5"
      ]
     },
     "execution_count": 246,
     "metadata": {},
     "output_type": "execute_result"
    }
   ],
   "source": [
    "c['abc']"
   ]
  },
  {
   "cell_type": "markdown",
   "id": "d2788378",
   "metadata": {},
   "source": [
    "딕셔너리 쌍 추가"
   ]
  },
  {
   "cell_type": "code",
   "execution_count": 247,
   "id": "2fdf7e6f",
   "metadata": {},
   "outputs": [
    {
     "data": {
      "text/plain": [
       "{'abc': 5, 2: 'def'}"
      ]
     },
     "execution_count": 247,
     "metadata": {},
     "output_type": "execute_result"
    }
   ],
   "source": [
    "c[2] = 'def'\n",
    "c"
   ]
  },
  {
   "cell_type": "code",
   "execution_count": 248,
   "id": "77d14e3f",
   "metadata": {},
   "outputs": [
    {
     "data": {
      "text/plain": [
       "{'abc': 5, 2: 'def', 'name': 'Dongwook'}"
      ]
     },
     "execution_count": 248,
     "metadata": {},
     "output_type": "execute_result"
    }
   ],
   "source": [
    "c['name'] = 'Dongwook'\n",
    "c"
   ]
  },
  {
   "cell_type": "markdown",
   "id": "46e3d06f",
   "metadata": {},
   "source": [
    "딕셔너리 요소 삭제"
   ]
  },
  {
   "cell_type": "code",
   "execution_count": 249,
   "id": "9ae4bc57",
   "metadata": {},
   "outputs": [
    {
     "data": {
      "text/plain": [
       "{'abc': 5, 'name': 'Dongwook'}"
      ]
     },
     "execution_count": 249,
     "metadata": {},
     "output_type": "execute_result"
    }
   ],
   "source": [
    "del c[2]\n",
    "c"
   ]
  },
  {
   "cell_type": "markdown",
   "id": "03cc4da6",
   "metadata": {},
   "source": [
    "### 딕셔너리 내장 함수"
   ]
  },
  {
   "cell_type": "markdown",
   "id": "720a3b6c",
   "metadata": {},
   "source": [
    "모든 키 출력"
   ]
  },
  {
   "cell_type": "code",
   "execution_count": 250,
   "id": "0510c9ec",
   "metadata": {},
   "outputs": [
    {
     "data": {
      "text/plain": [
       "dict_keys(['abc', 'name'])"
      ]
     },
     "execution_count": 250,
     "metadata": {},
     "output_type": "execute_result"
    }
   ],
   "source": [
    "c.keys()"
   ]
  },
  {
   "cell_type": "markdown",
   "id": "9da10073",
   "metadata": {},
   "source": [
    "리스트로 저장"
   ]
  },
  {
   "cell_type": "code",
   "execution_count": 251,
   "id": "9bee4802",
   "metadata": {},
   "outputs": [
    {
     "data": {
      "text/plain": [
       "['abc', 'name']"
      ]
     },
     "execution_count": 251,
     "metadata": {},
     "output_type": "execute_result"
    }
   ],
   "source": [
    "c_keys = list(c.keys())\n",
    "c_keys"
   ]
  },
  {
   "cell_type": "markdown",
   "id": "6a63f349",
   "metadata": {},
   "source": [
    "모든 값 출력"
   ]
  },
  {
   "cell_type": "code",
   "execution_count": 252,
   "id": "ed1359a4",
   "metadata": {},
   "outputs": [
    {
     "data": {
      "text/plain": [
       "dict_values([5, 'Dongwook'])"
      ]
     },
     "execution_count": 252,
     "metadata": {},
     "output_type": "execute_result"
    }
   ],
   "source": [
    "c.values()"
   ]
  },
  {
   "cell_type": "code",
   "execution_count": 253,
   "id": "b9586a84",
   "metadata": {},
   "outputs": [
    {
     "data": {
      "text/plain": [
       "[5, 'Dongwook']"
      ]
     },
     "execution_count": 253,
     "metadata": {},
     "output_type": "execute_result"
    }
   ],
   "source": [
    "c_values = list(c.values())\n",
    "c_values"
   ]
  },
  {
   "cell_type": "markdown",
   "id": "596268c8",
   "metadata": {},
   "source": [
    "키와 값 모든 쌍 출력"
   ]
  },
  {
   "cell_type": "code",
   "execution_count": 254,
   "id": "4c013063",
   "metadata": {},
   "outputs": [
    {
     "data": {
      "text/plain": [
       "dict_items([('abc', 5), ('name', 'Dongwook')])"
      ]
     },
     "execution_count": 254,
     "metadata": {},
     "output_type": "execute_result"
    }
   ],
   "source": [
    "c.items()"
   ]
  },
  {
   "cell_type": "markdown",
   "id": "9b8dc690",
   "metadata": {},
   "source": [
    "값 가져오기"
   ]
  },
  {
   "cell_type": "code",
   "execution_count": 255,
   "id": "8d18bf42",
   "metadata": {},
   "outputs": [
    {
     "data": {
      "text/plain": [
       "5"
      ]
     },
     "execution_count": 255,
     "metadata": {},
     "output_type": "execute_result"
    }
   ],
   "source": [
    "c.get('abc',10)"
   ]
  },
  {
   "cell_type": "code",
   "execution_count": 256,
   "id": "78e68c8a",
   "metadata": {},
   "outputs": [
    {
     "data": {
      "text/plain": [
       "10"
      ]
     },
     "execution_count": 256,
     "metadata": {},
     "output_type": "execute_result"
    }
   ],
   "source": [
    "c.get('pwd',10)"
   ]
  },
  {
   "cell_type": "code",
   "execution_count": 257,
   "id": "2533bc4f",
   "metadata": {},
   "outputs": [],
   "source": [
    "c.get('pwd')"
   ]
  },
  {
   "cell_type": "code",
   "execution_count": 258,
   "id": "b872d40b",
   "metadata": {},
   "outputs": [
    {
     "name": "stdout",
     "output_type": "stream",
     "text": [
      "None\n"
     ]
    }
   ],
   "source": [
    "print(c.get('pwd'))"
   ]
  },
  {
   "cell_type": "markdown",
   "id": "21562456",
   "metadata": {},
   "source": [
    "키와 값 확인"
   ]
  },
  {
   "cell_type": "code",
   "execution_count": 259,
   "id": "8723756d",
   "metadata": {},
   "outputs": [
    {
     "data": {
      "text/plain": [
       "True"
      ]
     },
     "execution_count": 259,
     "metadata": {},
     "output_type": "execute_result"
    }
   ],
   "source": [
    "'abc' in c"
   ]
  },
  {
   "cell_type": "code",
   "execution_count": 260,
   "id": "092e1357",
   "metadata": {},
   "outputs": [
    {
     "data": {
      "text/plain": [
       "False"
      ]
     },
     "execution_count": 260,
     "metadata": {},
     "output_type": "execute_result"
    }
   ],
   "source": [
    "'pwd' in c"
   ]
  },
  {
   "cell_type": "code",
   "execution_count": 261,
   "id": "93548657",
   "metadata": {},
   "outputs": [
    {
     "data": {
      "text/plain": [
       "True"
      ]
     },
     "execution_count": 261,
     "metadata": {},
     "output_type": "execute_result"
    }
   ],
   "source": [
    "'abc' in c.keys()"
   ]
  },
  {
   "cell_type": "code",
   "execution_count": 262,
   "id": "a3b413a4",
   "metadata": {},
   "outputs": [
    {
     "data": {
      "text/plain": [
       "False"
      ]
     },
     "execution_count": 262,
     "metadata": {},
     "output_type": "execute_result"
    }
   ],
   "source": [
    "'abc' in c.values()"
   ]
  },
  {
   "cell_type": "code",
   "execution_count": 263,
   "id": "d89ea711",
   "metadata": {},
   "outputs": [
    {
     "data": {
      "text/plain": [
       "False"
      ]
     },
     "execution_count": 263,
     "metadata": {},
     "output_type": "execute_result"
    }
   ],
   "source": [
    "'abc' in c.items()"
   ]
  },
  {
   "cell_type": "code",
   "execution_count": 264,
   "id": "371f831c",
   "metadata": {},
   "outputs": [
    {
     "data": {
      "text/plain": [
       "True"
      ]
     },
     "execution_count": 264,
     "metadata": {},
     "output_type": "execute_result"
    }
   ],
   "source": [
    "('abc', 5) in c.items()"
   ]
  },
  {
   "cell_type": "code",
   "execution_count": null,
   "id": "3beeb0f9",
   "metadata": {},
   "outputs": [],
   "source": []
  }
 ],
 "metadata": {
  "kernelspec": {
   "display_name": "Python 3 (ipykernel)",
   "language": "python",
   "name": "python3"
  },
  "language_info": {
   "codemirror_mode": {
    "name": "ipython",
    "version": 3
   },
   "file_extension": ".py",
   "mimetype": "text/x-python",
   "name": "python",
   "nbconvert_exporter": "python",
   "pygments_lexer": "ipython3",
   "version": "3.11.4"
  },
  "toc": {
   "base_numbering": 1,
   "nav_menu": {},
   "number_sections": true,
   "sideBar": true,
   "skip_h1_title": false,
   "title_cell": "Table of Contents",
   "title_sidebar": "Contents",
   "toc_cell": false,
   "toc_position": {},
   "toc_section_display": true,
   "toc_window_display": false
  },
  "varInspector": {
   "cols": {
    "lenName": 16,
    "lenType": 16,
    "lenVar": 40
   },
   "kernels_config": {
    "python": {
     "delete_cmd_postfix": "",
     "delete_cmd_prefix": "del ",
     "library": "var_list.py",
     "varRefreshCmd": "print(var_dic_list())"
    },
    "r": {
     "delete_cmd_postfix": ") ",
     "delete_cmd_prefix": "rm(",
     "library": "var_list.r",
     "varRefreshCmd": "cat(var_dic_list()) "
    }
   },
   "types_to_exclude": [
    "module",
    "function",
    "builtin_function_or_method",
    "instance",
    "_Feature"
   ],
   "window_display": false
  }
 },
 "nbformat": 4,
 "nbformat_minor": 5
}
