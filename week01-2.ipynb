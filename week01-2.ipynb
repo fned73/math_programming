{
 "cells": [
  {
   "cell_type": "markdown",
   "id": "9c1197e8",
   "metadata": {},
   "source": [
    "# 제어문"
   ]
  },
  {
   "cell_type": "markdown",
   "id": "e2d2d969",
   "metadata": {},
   "source": [
    "- 프로그램은 일반적으로 순차적으로 수행\n",
    "- 제어문(Control statement)을 만나면 실행되는 순서(=흐름)가 바뀜\n",
    "- 조건문(Conditioning)\n",
    "  - 조건에 따라 여러 실행 경로 가운데 하나를 선택\n",
    "  - If ... else\n",
    "- 반복문(Iteration)\n",
    "  - 조건에 따라 여러 개의 같은 처리를 반복\n",
    "  - for, while"
   ]
  },
  {
   "cell_type": "markdown",
   "id": "6c2d00b0",
   "metadata": {},
   "source": [
    "들여쓰기(Indentation)\n",
    "- 코드 블록(code block)\n",
    "  - 여러 라인에 걸친 명령(코드)을 그룹으로 설정한 것\n",
    "  - 같이 실행되는 명령의 묶음(cf. {  },  begin - end)\n",
    "<br>\n",
    "- Python의 코드블록\n",
    "  - 파이썬은 코드 블록을 들여쓰기로 구분\n",
    "  - 들여쓰기가 되어 있는 형태로 block을 규정함\n",
    "<br>\n",
    "- 들여쓰기 규칙\n",
    "  - 들여쓰기는 4칸 이상의 공백(space) 또는 tab을 사용\n",
    "  - 같은 block 상에서는 tab/space 중 한 가지만 사용\n",
    "  - 서로 다른 block에서는 달라도 되지만, 통일성을 유지하는 것이 유리함\n",
    "  - 가장 바깥쪽 block은 들여쓰기가 없어야 함"
   ]
  },
  {
   "cell_type": "markdown",
   "id": "98111c2c",
   "metadata": {},
   "source": [
    "## If 문"
   ]
  },
  {
   "cell_type": "markdown",
   "id": "0673226b",
   "metadata": {},
   "source": [
    "기본 형태\n",
    "\n",
    "```<python>\n",
    "if 조건:\n",
    "    명령1\n",
    "    명령2\n",
    "    ...\n",
    "```"
   ]
  },
  {
   "cell_type": "code",
   "execution_count": 1,
   "id": "8c32f42f",
   "metadata": {},
   "outputs": [
    {
     "name": "stdout",
     "output_type": "stream",
     "text": [
      "pass\n"
     ]
    }
   ],
   "source": [
    "score = 85\n",
    "if score > 80:\n",
    "    print('pass')"
   ]
  },
  {
   "cell_type": "code",
   "execution_count": 2,
   "id": "5f5dd44f",
   "metadata": {},
   "outputs": [
    {
     "name": "stdout",
     "output_type": "stream",
     "text": [
      "pass\n"
     ]
    }
   ],
   "source": [
    "score = 85\n",
    "if score > 80: print('pass')"
   ]
  },
  {
   "cell_type": "code",
   "execution_count": 3,
   "id": "8c15bb9c",
   "metadata": {},
   "outputs": [
    {
     "ename": "IndentationError",
     "evalue": "expected an indented block (225336893.py, line 3)",
     "output_type": "error",
     "traceback": [
      "\u001b[1;36m  Cell \u001b[1;32mIn[3], line 3\u001b[1;36m\u001b[0m\n\u001b[1;33m    print('pass')\u001b[0m\n\u001b[1;37m    ^\u001b[0m\n\u001b[1;31mIndentationError\u001b[0m\u001b[1;31m:\u001b[0m expected an indented block\n"
     ]
    }
   ],
   "source": [
    "score = 85\n",
    "if score > 80:\n",
    "print('pass')"
   ]
  },
  {
   "cell_type": "code",
   "execution_count": 4,
   "id": "5da65adf",
   "metadata": {},
   "outputs": [],
   "source": [
    "score = 85\n",
    "if score > 90:\n",
    "    print('pass')"
   ]
  },
  {
   "cell_type": "markdown",
   "id": "666f019e",
   "metadata": {},
   "source": [
    "조건이 2개인 경우\n",
    "\n",
    "```\n",
    "if 조건:\n",
    "    명령1\n",
    "    명령2\n",
    "    ...\n",
    "else:\n",
    "    명령1\n",
    "    명령2\n",
    "    ...\n",
    "```"
   ]
  },
  {
   "cell_type": "code",
   "execution_count": 5,
   "id": "1fafb3a8",
   "metadata": {},
   "outputs": [
    {
     "name": "stdout",
     "output_type": "stream",
     "text": [
      "pass\n"
     ]
    }
   ],
   "source": [
    "score = 85\n",
    "if score > 80:\n",
    "    print('pass')\n",
    "else:\n",
    "    print('nonpass')"
   ]
  },
  {
   "cell_type": "code",
   "execution_count": 6,
   "id": "7877ad97",
   "metadata": {},
   "outputs": [
    {
     "ename": "IndentationError",
     "evalue": "expected an indented block (1668150523.py, line 5)",
     "output_type": "error",
     "traceback": [
      "\u001b[1;36m  Cell \u001b[1;32mIn[6], line 5\u001b[1;36m\u001b[0m\n\u001b[1;33m    print('nonpass')\u001b[0m\n\u001b[1;37m    ^\u001b[0m\n\u001b[1;31mIndentationError\u001b[0m\u001b[1;31m:\u001b[0m expected an indented block\n"
     ]
    }
   ],
   "source": [
    "score = 85\n",
    "if score > 80:\n",
    "    print('pass')\n",
    "else:\n",
    "print('nonpass')"
   ]
  },
  {
   "cell_type": "code",
   "execution_count": 7,
   "id": "cb715675",
   "metadata": {},
   "outputs": [
    {
     "name": "stdout",
     "output_type": "stream",
     "text": [
      "nonpass\n"
     ]
    }
   ],
   "source": [
    "score = 75\n",
    "if score > 80:\n",
    "    print('pass')\n",
    "else:\n",
    "    print('nonpass')"
   ]
  },
  {
   "cell_type": "markdown",
   "id": "9eabfde5",
   "metadata": {},
   "source": [
    "조건이 여러 개인 경우\n",
    "\n",
    "```\n",
    "if 조건1:\n",
    "    명령1\n",
    "    명령2\n",
    "    ...\n",
    "elif 조건2:\n",
    "    명령1\n",
    "    명령2\n",
    "    ...\n",
    "elif 조건3:\n",
    "    명령1\n",
    "    명령2\n",
    "    ...\n",
    "...\n",
    "else:\n",
    "    명령1\n",
    "    명령2\n",
    "    ...\n",
    "```"
   ]
  },
  {
   "cell_type": "code",
   "execution_count": 8,
   "id": "8d207d08",
   "metadata": {},
   "outputs": [
    {
     "name": "stdout",
     "output_type": "stream",
     "text": [
      "C\n"
     ]
    }
   ],
   "source": [
    "score = 75\n",
    "if score >= 90:\n",
    "    print('A')\n",
    "elif score >= 80:\n",
    "    print('B')\n",
    "elif score >= 70:\n",
    "    print('C')\n",
    "elif score >= 60:\n",
    "    print('D')\n",
    "else:\n",
    "    print('F')"
   ]
  },
  {
   "cell_type": "markdown",
   "id": "204486d3",
   "metadata": {},
   "source": [
    "비교 연산자\n",
    "\n",
    "- `x < y`: x가 y보다 작다\n",
    "\n",
    "- `x <= y`: x가 y보다 작거나 같다\n",
    "\n",
    "- `x > y`: x가 y보다 크다\n",
    "\n",
    "- `x >= y`: x가 y보다 크거나 같다\n",
    "\n",
    "- `x == y`: x와 y가 같다\n",
    "\n",
    "- `x != y`: x와 y가 같지 않다"
   ]
  },
  {
   "cell_type": "markdown",
   "id": "81663d0b",
   "metadata": {},
   "source": [
    "## While 문"
   ]
  },
  {
   "cell_type": "markdown",
   "id": "28e05cb1",
   "metadata": {},
   "source": [
    "기본 형태\n",
    "\n",
    "```\n",
    "while 조건:\n",
    "    명령1\n",
    "    명령2\n",
    "    ...\n",
    "````"
   ]
  },
  {
   "cell_type": "code",
   "execution_count": 9,
   "id": "1db400e8",
   "metadata": {},
   "outputs": [
    {
     "name": "stdout",
     "output_type": "stream",
     "text": [
      "0\n",
      "1\n",
      "2\n",
      "3\n",
      "4\n",
      "5\n",
      "6\n",
      "7\n",
      "8\n",
      "9\n"
     ]
    }
   ],
   "source": [
    "count = 0\n",
    "while count < 10:\n",
    "    print(count)\n",
    "    count+=1"
   ]
  },
  {
   "cell_type": "code",
   "execution_count": 10,
   "id": "c58f01dc",
   "metadata": {},
   "outputs": [
    {
     "name": "stdout",
     "output_type": "stream",
     "text": [
      "0\n",
      "1\n",
      "2\n",
      "3\n",
      "4\n",
      "5\n",
      "6\n",
      "7\n",
      "8\n",
      "9\n"
     ]
    }
   ],
   "source": [
    "count = 0\n",
    "while True:\n",
    "    print(count)\n",
    "    count += 1\n",
    "    if count > 9:\n",
    "        break"
   ]
  },
  {
   "cell_type": "code",
   "execution_count": 11,
   "id": "a062abec",
   "metadata": {},
   "outputs": [
    {
     "name": "stdout",
     "output_type": "stream",
     "text": [
      "0\n",
      "1\n",
      "2\n",
      "4\n",
      "8\n",
      "16\n",
      "32\n",
      "64\n",
      "128\n",
      "256\n",
      "512\n",
      "1024\n",
      "2048\n",
      "4096\n",
      "8192\n"
     ]
    }
   ],
   "source": [
    "a=0\n",
    "b=1\n",
    "while a<10000:\n",
    "    print(a)\n",
    "    a = b\n",
    "    b = a + b"
   ]
  },
  {
   "cell_type": "code",
   "execution_count": 12,
   "id": "5a0c3b6d",
   "metadata": {},
   "outputs": [
    {
     "name": "stdout",
     "output_type": "stream",
     "text": [
      "0\n",
      "1\n",
      "1\n",
      "2\n",
      "3\n",
      "5\n",
      "8\n",
      "13\n",
      "21\n",
      "34\n",
      "55\n",
      "89\n",
      "144\n",
      "233\n",
      "377\n",
      "610\n",
      "987\n",
      "1597\n",
      "2584\n",
      "4181\n",
      "6765\n"
     ]
    }
   ],
   "source": [
    "a=0\n",
    "b=1\n",
    "while a<10000:\n",
    "    print(a)\n",
    "    a, b = b, a + b"
   ]
  },
  {
   "cell_type": "markdown",
   "id": "bb9a78f7",
   "metadata": {},
   "source": [
    "---\n",
    "**<span style=\"font-size: 20px; color: blue\">(Exercise 1)</span>** \n",
    "\n",
    "while문을 한 번 사용하여 1부터 10까지의 제곱과 세제곱을 각각 번갈아서 한 줄씩 출력하는 코드를 작성하시오.\n",
    "\n",
    "- 입력 형식: 없음\n",
    "- 출력 형식: 아래와 같아야 함\n",
    "\n",
    "1 <br> 1 <br> 4 <br> 8 <br> 9 <br> 27 <br> 16 <br> 64 <br> 25 <br> 125 <br> 36 <br> 216 <br> 49 <br> 343 <br> \n",
    "64 <br> 512 <br> 81 <br> 729 <br> 100 <br> 1000\n",
    "\n",
    "---"
   ]
  },
  {
   "cell_type": "markdown",
   "id": "8e295a35",
   "metadata": {},
   "source": [
    "## For 문"
   ]
  },
  {
   "cell_type": "markdown",
   "id": "d80a790b",
   "metadata": {},
   "source": [
    "기본 형태\n",
    "\n",
    "```\n",
    "for 변수 in 리스트(또는 문자열):\n",
    "    명령1\n",
    "    명령2\n",
    "    ...\n",
    "```\n",
    "<br>\n",
    "<br>\n",
    "\n",
    "range 함수: 숫자 리스트 생성\n",
    "- range(6) = [0,1,2,3,4,5]\n",
    "- range(3,6) = [3,4,5]"
   ]
  },
  {
   "cell_type": "code",
   "execution_count": 13,
   "id": "0548e590",
   "metadata": {},
   "outputs": [
    {
     "name": "stdout",
     "output_type": "stream",
     "text": [
      "0\n",
      "1\n",
      "2\n",
      "3\n",
      "4\n",
      "5\n",
      "6\n",
      "7\n",
      "8\n",
      "9\n"
     ]
    }
   ],
   "source": [
    "for j in range(10):\n",
    "    print(j)"
   ]
  },
  {
   "cell_type": "code",
   "execution_count": 14,
   "id": "dbf317fe",
   "metadata": {},
   "outputs": [
    {
     "name": "stdout",
     "output_type": "stream",
     "text": [
      "1\n",
      "3\n",
      "5\n",
      "7\n",
      "9\n"
     ]
    }
   ],
   "source": [
    "a = [1,3,5,7,9]\n",
    "for j in a:\n",
    "    print(j)"
   ]
  },
  {
   "cell_type": "code",
   "execution_count": 15,
   "id": "500df28e",
   "metadata": {},
   "outputs": [
    {
     "name": "stdout",
     "output_type": "stream",
     "text": [
      "2 4 6 8 10 12 14 16 18  \n",
      "3 6 9 12 15 18 21 24 27  \n",
      "4 8 12 16 20 24 28 32 36  \n",
      "5 10 15 20 25 30 35 40 45  \n",
      "6 12 18 24 30 36 42 48 54  \n",
      "7 14 21 28 35 42 49 56 63  \n",
      "8 16 24 32 40 48 56 64 72  \n",
      "9 18 27 36 45 54 63 72 81  \n"
     ]
    }
   ],
   "source": [
    "for i in range(2,10):\n",
    "    for j in range(1,10):\n",
    "        print(i*j, end=\" \")\n",
    "    print(\" \")"
   ]
  },
  {
   "cell_type": "code",
   "execution_count": 16,
   "id": "0179831e",
   "metadata": {},
   "outputs": [
    {
     "name": "stdout",
     "output_type": "stream",
     "text": [
      "2 * 1 = 2\t2 * 2 = 4\t2 * 3 = 6\t2 * 4 = 8\t2 * 5 = 10\t2 * 6 = 12\t2 * 7 = 14\t2 * 8 = 16\t2 * 9 = 18\t \n",
      "3 * 1 = 3\t3 * 2 = 6\t3 * 3 = 9\t3 * 4 = 12\t3 * 5 = 15\t3 * 6 = 18\t3 * 7 = 21\t3 * 8 = 24\t3 * 9 = 27\t \n",
      "4 * 1 = 4\t4 * 2 = 8\t4 * 3 = 12\t4 * 4 = 16\t4 * 5 = 20\t4 * 6 = 24\t4 * 7 = 28\t4 * 8 = 32\t4 * 9 = 36\t \n",
      "5 * 1 = 5\t5 * 2 = 10\t5 * 3 = 15\t5 * 4 = 20\t5 * 5 = 25\t5 * 6 = 30\t5 * 7 = 35\t5 * 8 = 40\t5 * 9 = 45\t \n",
      "6 * 1 = 6\t6 * 2 = 12\t6 * 3 = 18\t6 * 4 = 24\t6 * 5 = 30\t6 * 6 = 36\t6 * 7 = 42\t6 * 8 = 48\t6 * 9 = 54\t \n",
      "7 * 1 = 7\t7 * 2 = 14\t7 * 3 = 21\t7 * 4 = 28\t7 * 5 = 35\t7 * 6 = 42\t7 * 7 = 49\t7 * 8 = 56\t7 * 9 = 63\t \n",
      "8 * 1 = 8\t8 * 2 = 16\t8 * 3 = 24\t8 * 4 = 32\t8 * 5 = 40\t8 * 6 = 48\t8 * 7 = 56\t8 * 8 = 64\t8 * 9 = 72\t \n",
      "9 * 1 = 9\t9 * 2 = 18\t9 * 3 = 27\t9 * 4 = 36\t9 * 5 = 45\t9 * 6 = 54\t9 * 7 = 63\t9 * 8 = 72\t9 * 9 = 81\t \n"
     ]
    }
   ],
   "source": [
    "for i in range(2,10):\n",
    "    for j in range(1,10):\n",
    "        print(\"%d * %d = %d\" % (i,j,i*j), end=\"\\t\")\n",
    "    print(\" \")"
   ]
  },
  {
   "cell_type": "code",
   "execution_count": 17,
   "id": "86f51f57",
   "metadata": {},
   "outputs": [
    {
     "name": "stdout",
     "output_type": "stream",
     "text": [
      "[1, 'a']\n",
      "[2, 'b']\n",
      "[3, 'c']\n",
      "[4, 'd']\n",
      "[5, 'e']\n"
     ]
    }
   ],
   "source": [
    "a = [1,2,3,4,5]\n",
    "b = ['a','b','c','d','e']\n",
    "for (i,j) in zip(a,b):\n",
    "    print([i,j])"
   ]
  },
  {
   "cell_type": "code",
   "execution_count": 18,
   "id": "14ddd849",
   "metadata": {},
   "outputs": [
    {
     "name": "stdout",
     "output_type": "stream",
     "text": [
      "[1, 'a']\n",
      "[2, 'b']\n",
      "[3, 'c']\n",
      "[4, 'd']\n",
      "[5, 'e']\n"
     ]
    }
   ],
   "source": [
    "a = [1,2,3,4,5]\n",
    "b = ['a','b','c','d','e','f']\n",
    "for (i,j) in zip(a,b):\n",
    "    print([i,j])"
   ]
  },
  {
   "cell_type": "code",
   "execution_count": 19,
   "id": "711c4c15",
   "metadata": {},
   "outputs": [
    {
     "name": "stdout",
     "output_type": "stream",
     "text": [
      "[0, 1, 2, 3, 4, 5]\n"
     ]
    }
   ],
   "source": [
    "a = [j for j in range(6)]\n",
    "print(a)"
   ]
  },
  {
   "cell_type": "code",
   "execution_count": 20,
   "id": "1f1a428e",
   "metadata": {},
   "outputs": [
    {
     "name": "stdout",
     "output_type": "stream",
     "text": [
      "[3, 6, 9, 12]\n"
     ]
    }
   ],
   "source": [
    "a = [1,2,3,4]\n",
    "b = [num * 3 for num in a]\n",
    "print(b)"
   ]
  },
  {
   "cell_type": "code",
   "execution_count": 21,
   "id": "a60646ea",
   "metadata": {},
   "outputs": [
    {
     "name": "stdout",
     "output_type": "stream",
     "text": [
      "[[2, 4, 6, 8, 10, 12, 14, 16, 18], [3, 6, 9, 12, 15, 18, 21, 24, 27], [4, 8, 12, 16, 20, 24, 28, 32, 36], [5, 10, 15, 20, 25, 30, 35, 40, 45], [6, 12, 18, 24, 30, 36, 42, 48, 54], [7, 14, 21, 28, 35, 42, 49, 56, 63], [8, 16, 24, 32, 40, 48, 56, 64, 72], [9, 18, 27, 36, 45, 54, 63, 72, 81]]\n"
     ]
    }
   ],
   "source": [
    "a = [[i*j for j in range(1,10)] for i in range(2,10)]\n",
    "print(a)"
   ]
  },
  {
   "cell_type": "code",
   "execution_count": 22,
   "id": "1ccd7f3c",
   "metadata": {},
   "outputs": [
    {
     "name": "stdout",
     "output_type": "stream",
     "text": [
      "[6, 12]\n"
     ]
    }
   ],
   "source": [
    "a = [1,2,3,4]\n",
    "b = [num * 3 for num in a if num % 2 == 0]\n",
    "print(b)"
   ]
  },
  {
   "cell_type": "code",
   "execution_count": 23,
   "id": "2a489665",
   "metadata": {},
   "outputs": [
    {
     "name": "stdout",
     "output_type": "stream",
     "text": [
      "a 학생은 합격입니다.\n",
      "b 학생은 불합격입니다.\n",
      "c 학생은 합격입니다.\n",
      "d 학생은 불합격입니다.\n",
      "e 학생은 합격입니다.\n"
     ]
    }
   ],
   "source": [
    "name = ['a','b','c','d','e']\n",
    "score = [90,25,67,45,80]\n",
    "\n",
    "for j in range(len(name)):\n",
    "    if score[j] >= 60:\n",
    "        print('{} 학생은 합격입니다.'.format(name[j]))\n",
    "    else:\n",
    "        print('{} 학생은 불합격입니다.'.format(name[j]))"
   ]
  },
  {
   "cell_type": "markdown",
   "id": "a7c95996",
   "metadata": {},
   "source": [
    "- break: for/while문의 block을 종료\n",
    "- continue: for/while문의 block의 continue 이후 부분을 실행하지 않고 다음 loop 실행"
   ]
  },
  {
   "cell_type": "code",
   "execution_count": 24,
   "id": "4c2159f8",
   "metadata": {},
   "outputs": [
    {
     "name": "stdout",
     "output_type": "stream",
     "text": [
      "a 학생은 합격입니다.\n",
      "c 학생은 합격입니다.\n",
      "e 학생은 합격입니다.\n"
     ]
    }
   ],
   "source": [
    "name = ['a','b','c','d','e']\n",
    "score = [90,25,67,45,80]\n",
    "\n",
    "for j in range(len(name)):\n",
    "    if score[j] < 60:\n",
    "        continue\n",
    "    print('{} 학생은 합격입니다.'.format(name[j]))"
   ]
  },
  {
   "cell_type": "markdown",
   "id": "eb28cfba",
   "metadata": {},
   "source": [
    "## 예제"
   ]
  },
  {
   "cell_type": "markdown",
   "id": "d6f69b90",
   "metadata": {},
   "source": [
    "while과 for는 교체 가능한 경우가 많음"
   ]
  },
  {
   "cell_type": "code",
   "execution_count": 25,
   "id": "6448459a",
   "metadata": {},
   "outputs": [],
   "source": [
    "treeHit = 0"
   ]
  },
  {
   "cell_type": "code",
   "execution_count": 26,
   "id": "4a468f01",
   "metadata": {},
   "outputs": [
    {
     "name": "stdout",
     "output_type": "stream",
     "text": [
      "나무를 1번 찍었습니다.\n",
      "나무를 2번 찍었습니다.\n",
      "나무를 3번 찍었습니다.\n",
      "나무를 4번 찍었습니다.\n",
      "나무를 5번 찍었습니다.\n",
      "나무를 6번 찍었습니다.\n",
      "나무를 7번 찍었습니다.\n",
      "나무를 8번 찍었습니다.\n",
      "나무를 9번 찍었습니다.\n",
      "나무를 10번 찍었습니다.\n",
      "나무가 넘어갑니다.\n"
     ]
    }
   ],
   "source": [
    "while treeHit < 10:\n",
    "    treeHit += 1\n",
    "    print(\"나무를 %d번 찍었습니다.\" % treeHit)\n",
    "    if treeHit == 10:\n",
    "        print(\"나무가 넘어갑니다.\")"
   ]
  },
  {
   "cell_type": "code",
   "execution_count": 27,
   "id": "4f00a820",
   "metadata": {},
   "outputs": [
    {
     "name": "stdout",
     "output_type": "stream",
     "text": [
      "나무를 1번 찍었습니다.\n",
      "나무를 2번 찍었습니다.\n",
      "나무를 3번 찍었습니다.\n",
      "나무를 4번 찍었습니다.\n",
      "나무를 5번 찍었습니다.\n",
      "나무를 6번 찍었습니다.\n",
      "나무를 7번 찍었습니다.\n",
      "나무를 8번 찍었습니다.\n",
      "나무를 9번 찍었습니다.\n",
      "나무를 10번 찍었습니다.\n",
      "나무가 넘어갑니다.\n"
     ]
    }
   ],
   "source": [
    "for treeHit in range(1,11):\n",
    "    print(\"나무를 %d번 찍었습니다.\" % treeHit)\n",
    "    if treeHit == 10:\n",
    "        print(\"나무가 넘어갑니다.\")"
   ]
  },
  {
   "cell_type": "markdown",
   "id": "f8bc41f2",
   "metadata": {},
   "source": [
    "자연수 $m \\le i \\le n$에 대해 $i$가 소수인지 판별"
   ]
  },
  {
   "cell_type": "code",
   "execution_count": 28,
   "id": "8b731bf0",
   "metadata": {},
   "outputs": [
    {
     "name": "stdout",
     "output_type": "stream",
     "text": [
      "101 is a prime\n"
     ]
    }
   ],
   "source": [
    "n = 101\n",
    "for i in range(2,n):\n",
    "    if n % i == 0:\n",
    "        print(\"%d is not a prime\" % n)\n",
    "        break\n",
    "    if i > n/2:\n",
    "        print(\"%d is a prime\" % n)\n",
    "        break"
   ]
  },
  {
   "cell_type": "code",
   "execution_count": 29,
   "id": "cfc497f2",
   "metadata": {},
   "outputs": [],
   "source": [
    "n = 101\n",
    "for i in range(2, n//2):\n",
    "    if n % i == 0:\n",
    "        print(\"%d is not a prime\" % n)\n",
    "        break"
   ]
  },
  {
   "cell_type": "code",
   "execution_count": 30,
   "id": "27c51e18",
   "metadata": {},
   "outputs": [
    {
     "name": "stdout",
     "output_type": "stream",
     "text": [
      "10 is not a prime\n",
      "11 is a prime\n",
      "12 is not a prime\n",
      "13 is a prime\n",
      "14 is not a prime\n"
     ]
    }
   ],
   "source": [
    "m = 10\n",
    "n = 15\n",
    "for t in range(m,n):\n",
    "    for i in range(2,t):\n",
    "        if t % i == 0:\n",
    "            print(\"%d is not a prime\" % t)\n",
    "            break\n",
    "        if i > t/2:\n",
    "            print(\"%d is a prime\" % t)\n",
    "            break"
   ]
  },
  {
   "cell_type": "markdown",
   "id": "53aa02ec",
   "metadata": {},
   "source": [
    "$3n+1$ 추측(Collatz Conjecture)\n",
    "\n",
    "임의의 자연수 $n$에 대해, 다음을 반복하자.\n",
    "- 1-1) $n$이 짝수이면, $n$을 2로 나눈다.\n",
    "- 1-2) $n$이 홀수이면, $n$에 3을 곱하고 1을 더한다.\n",
    "- 2) $n$이 1이면 종료한다.\n",
    "- 3) $n$이 1이 아니면, 1-1)부터 다시 시작한다.\n",
    "<br>\n",
    "<br>\n",
    "\n",
    "모든 $n$에 대해 이 작업이 1로 끝날까?\n",
    "\n",
    "예) 21 - 64 - 32 - 16 - 8 - 4 - 2 - 1"
   ]
  },
  {
   "cell_type": "markdown",
   "id": "d122a2d4",
   "metadata": {},
   "source": [
    "---\n",
    "**<span style=\"font-size: 20px; color: blue\">(Exercise 2)</span>** \n",
    "\n",
    "$n = $ 본인 학번 mod 1000 일 때, $3n+1$ 문제의 결과가 어떻게 나오는지 출력하는 코드를 작성하시오.\n",
    "\n",
    "- 입력 형식: 없음\n",
    "- 출력 형식: $a_1 = $ 본인 학번 mod 1000일 때, 각 줄에 $a_k$를 출력\n",
    "\n",
    "(예) 학번이 2022xx021일 때\n",
    "\n",
    "21 <br> 64 <br> 32 <br> 16 <br> 8 <br> 4 <br> 2 <br> 1\n",
    "\n",
    "---"
   ]
  },
  {
   "cell_type": "code",
   "execution_count": null,
   "id": "f1a37551",
   "metadata": {},
   "outputs": [],
   "source": []
  }
 ],
 "metadata": {
  "kernelspec": {
   "display_name": "Python 3 (ipykernel)",
   "language": "python",
   "name": "python3"
  },
  "language_info": {
   "codemirror_mode": {
    "name": "ipython",
    "version": 3
   },
   "file_extension": ".py",
   "mimetype": "text/x-python",
   "name": "python",
   "nbconvert_exporter": "python",
   "pygments_lexer": "ipython3",
   "version": "3.8.16"
  },
  "toc": {
   "base_numbering": 1,
   "nav_menu": {},
   "number_sections": true,
   "sideBar": true,
   "skip_h1_title": false,
   "title_cell": "Table of Contents",
   "title_sidebar": "Contents",
   "toc_cell": false,
   "toc_position": {},
   "toc_section_display": true,
   "toc_window_display": false
  },
  "varInspector": {
   "cols": {
    "lenName": 16,
    "lenType": 16,
    "lenVar": 40
   },
   "kernels_config": {
    "python": {
     "delete_cmd_postfix": "",
     "delete_cmd_prefix": "del ",
     "library": "var_list.py",
     "varRefreshCmd": "print(var_dic_list())"
    },
    "r": {
     "delete_cmd_postfix": ") ",
     "delete_cmd_prefix": "rm(",
     "library": "var_list.r",
     "varRefreshCmd": "cat(var_dic_list()) "
    }
   },
   "types_to_exclude": [
    "module",
    "function",
    "builtin_function_or_method",
    "instance",
    "_Feature"
   ],
   "window_display": false
  }
 },
 "nbformat": 4,
 "nbformat_minor": 5
}
